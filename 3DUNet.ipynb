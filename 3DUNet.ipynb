{
 "cells": [
  {
   "cell_type": "code",
   "execution_count": 2,
   "metadata": {},
   "outputs": [],
   "source": [
    "# import os\n",
    "# import shutil\n",
    "\n",
    "# def organize_braTS_data(src_root=\"./TumorSegmentationData\", dst_root=\"./dataset\"):\n",
    "#     \"\"\"\n",
    "#     Extract ./TumorSegmentationData to data and label form\n",
    "#     \"\"\"\n",
    "#     os.makedirs(os.path.join(dst_root, \"data\"), exist_ok=True)\n",
    "#     os.makedirs(os.path.join(dst_root, \"label\"), exist_ok=True)\n",
    "    \n",
    "#     for folder in sorted(os.listdir(src_root)):\n",
    "#         folder_path = os.path.join(src_root, folder)\n",
    "#         if os.path.isdir(folder_path):\n",
    "#             case_number = folder.split(\"_\")[-1]  # Extracting case number\n",
    "            \n",
    "#             for file in os.listdir(folder_path):\n",
    "#                 src_file = os.path.join(folder_path, file)\n",
    "#                 if file.endswith(\"_t1.nii\"):\n",
    "#                     dst_file = os.path.join(dst_root, \"data\", f\"data_{case_number}_t1.nii\")\n",
    "#                     shutil.move(src_file, dst_file)\n",
    "#                 elif file.endswith(\"_seg.nii\"):\n",
    "#                     dst_file = os.path.join(dst_root, \"label\", f\"label_{case_number}.nii\")\n",
    "#                     shutil.move(src_file, dst_file)\n",
    "\n",
    "# if __name__ == \"__main__\":\n",
    "#     organize_braTS_data()"
   ]
  },
  {
   "cell_type": "markdown",
   "metadata": {},
   "source": [
    "# Import Library"
   ]
  },
  {
   "cell_type": "code",
   "execution_count": 49,
   "metadata": {},
   "outputs": [],
   "source": [
    "import os\n",
    "import nibabel as nib\n",
    "import numpy as np\n",
    "from scipy import ndimage\n",
    "import torch\n",
    "import torch.nn as nn\n",
    "import torch.optim as optim\n",
    "from torch.utils.data import Dataset, DataLoader, random_split\n",
    "import matplotlib.pyplot as plt\n",
    "from tqdm import tqdm\n",
    "import scipy.ndimage"
   ]
  },
  {
   "cell_type": "markdown",
   "metadata": {},
   "source": [
    "# HyperParameter"
   ]
  },
  {
   "cell_type": "code",
   "execution_count": 50,
   "metadata": {},
   "outputs": [
    {
     "name": "stdout",
     "output_type": "stream",
     "text": [
      "Using CPU!\n"
     ]
    }
   ],
   "source": [
    "DEVICE = None\n",
    "if torch.cuda.is_available():\n",
    "    DEVICE = torch.device(\"cuda:0\")\n",
    "    print(\"Using CUDA!\")\n",
    "else:\n",
    "    DEVICE = torch.device(\"cpu\")\n",
    "    print(\"Using CPU!\")\n",
    "EPOCHS = 25\n",
    "TRAIN_SPLIT = 0.8\n",
    "LR = 1e-2\n",
    "STEP_SIZE = 5\n",
    "GAMMA = 0.1\n",
    "MANUAL_SEED = 42\n",
    "BATCH_SIZE = 2\n",
    "CLASS = 5\n",
    "TARGET_SIZE = 32"
   ]
  },
  {
   "cell_type": "code",
   "execution_count": 51,
   "metadata": {},
   "outputs": [],
   "source": [
    "import torch\n",
    "import numpy as np\n",
    "import random\n",
    "\n",
    "def set_random_seed(seed):\n",
    "    \"\"\"\n",
    "    모든 관련 라이브러리의 랜덤 시드를 고정합니다.\n",
    "    \n",
    "    Args:\n",
    "        seed (int): 고정할 랜덤 시드 값\n",
    "    \"\"\"\n",
    "    # Python 내장 랜덤 시드 고정\n",
    "    random.seed(seed)\n",
    "    \n",
    "    # NumPy 랜덤 시드 고정\n",
    "    np.random.seed(seed)\n",
    "    \n",
    "    # PyTorch 랜덤 시드 고정\n",
    "    torch.manual_seed(seed)  # CPU에서 PyTorch 랜덤 시드 고정\n",
    "    torch.cuda.manual_seed(seed)  # GPU에서 PyTorch 랜덤 시드 고정 (CUDA 장치)\n",
    "    torch.cuda.manual_seed_all(seed)  # 모든 GPU에서 PyTorch 랜덤 시드 고정\n",
    "    \n",
    "    # CuDNN 관련 설정\n",
    "    torch.backends.cudnn.deterministic = True  # 결정적 알고리즘을 사용하여 결과 고정\n",
    "    torch.backends.cudnn.benchmark = False  # 벤치마크 모드를 비활성화하여 성능 최적화 방지\n",
    "\n",
    "# 시드 고정 예시\n",
    "set_random_seed(MANUAL_SEED)"
   ]
  },
  {
   "cell_type": "markdown",
   "metadata": {},
   "source": [
    "# Data Preprocessing"
   ]
  },
  {
   "cell_type": "code",
   "execution_count": 52,
   "metadata": {},
   "outputs": [],
   "source": [
    "def read_nifti_file(filepath):\n",
    "    \"\"\"Read and load volume\"\"\"\n",
    "    scan = nib.load(filepath)\n",
    "    scan = scan.get_fdata()\n",
    "    return scan\n",
    "\n",
    "def normalize(volume):\n",
    "    \"\"\"Normalize the volume\"\"\"\n",
    "    min_val = -1000\n",
    "    max_val = 400\n",
    "    volume[volume < min_val] = min_val\n",
    "    volume[volume > max_val] = max_val\n",
    "    volume = (volume - min_val) / (max_val - min_val)\n",
    "    volume = volume.astype(\"float32\")\n",
    "    return volume\n",
    "\n",
    "# interpolation?\n",
    "def resize(image, target_size):\n",
    "    \"\"\"이미지 크기 조정 (PIL 없이 numpy 기반)\"\"\"\n",
    "    print(image.ndim)\n",
    "    # 이미지가 2D일 경우 (H, W)로 크기 조정\n",
    "    if image.ndim == 2:\n",
    "        return scipy.ndimage.zoom(image, (target_size[0] / image.shape[0], target_size[1] / image.shape[1]), order=1)\n",
    "    # 이미지가 3D일 경우 (H, W, C)로 크기 조정\n",
    "    elif image.ndim == 3:\n",
    "        return np.concatenate([scipy.ndimage.zoom(image[..., i], (target_size[0] / image.shape[0], target_size[1] / image.shape[1]), order=1)[:, :, np.newaxis] for i in range(image.shape[2])], axis=-1)\n",
    "    else:\n",
    "        raise ValueError(\"Unsupported image dimensions\")\n",
    "            \n",
    "def resize_volume(img):\n",
    "    \"\"\"Resize to 64x64x64\"\"\"\n",
    "    desired_depth = TARGET_SIZE\n",
    "    desired_width = TARGET_SIZE\n",
    "    desired_height = TARGET_SIZE\n",
    "    \n",
    "    current_depth = img.shape[-1]\n",
    "    current_width = img.shape[0]\n",
    "    current_height = img.shape[1]\n",
    "    \n",
    "    depth_factor = desired_depth / current_depth\n",
    "    width_factor = desired_width / current_width\n",
    "    height_factor = desired_height / current_height\n",
    "    \n",
    "    img = ndimage.zoom(img, (width_factor, height_factor, depth_factor), order=1)\n",
    "    return img"
   ]
  },
  {
   "cell_type": "code",
   "execution_count": 53,
   "metadata": {},
   "outputs": [],
   "source": [
    "# import os\n",
    "\n",
    "# # 경로 설정 (현재 작업 디렉토리 기준)\n",
    "# data_dir = './dataset/label'\n",
    "\n",
    "# # 숫자 001부터 369까지 파일이 있는지 확인 (_001, _002, ...)\n",
    "# expected_files = [f\"label_{str(i).zfill(3)}.nii\" for i in range(1, 370)]\n",
    "\n",
    "# # 실제 파일 목록 가져오기\n",
    "# try:\n",
    "#     actual_files = sorted(os.listdir(data_dir))\n",
    "#     # 실제 파일 목록에 있는지 확인\n",
    "#     missing_files = [file for file in expected_files if file not in actual_files]\n",
    "\n",
    "#     if missing_files:\n",
    "#         print(\"Missing files:\", missing_files)\n",
    "#     else:\n",
    "#         print(\"All expected files are present.\")\n",
    "# except FileNotFoundError:\n",
    "#     print(f\"The directory {data_dir} does not exist.\")\n"
   ]
  },
  {
   "cell_type": "markdown",
   "metadata": {},
   "source": [
    "# Dataset"
   ]
  },
  {
   "cell_type": "code",
   "execution_count": 54,
   "metadata": {},
   "outputs": [],
   "source": [
    "import os\n",
    "import torch\n",
    "import torch.nn.functional as F\n",
    "from torch.utils.data import Dataset\n",
    "\n",
    "class BraTSDataset(Dataset):\n",
    "    def __init__(self, data_dir, label_dir):\n",
    "        self.data_paths = sorted([f for f in os.listdir(data_dir) if f.endswith('.nii')])\n",
    "        self.label_paths = sorted([f for f in os.listdir(label_dir) if f.endswith('.nii')])\n",
    "        self.data_dir = data_dir\n",
    "        self.label_dir = label_dir\n",
    "\n",
    "        # 데이터와 라벨의 개수가 일치하는지 확인\n",
    "        assert len(self.data_paths) == len(self.label_paths), \\\n",
    "            f\"Mismatch between data and label files: {len(self.data_paths)} | {len(self.label_paths)}\"\n",
    "    \n",
    "    def __len__(self):\n",
    "        return len(self.data_paths)\n",
    "    \n",
    "    def __getitem__(self, idx):\n",
    "        data_path = os.path.join(self.data_dir, self.data_paths[idx])\n",
    "        label_path = os.path.join(self.label_dir, self.label_paths[idx])\n",
    "        \n",
    "        data = read_nifti_file(data_path)\n",
    "        label = read_nifti_file(label_path)\n",
    "\n",
    "        # 최소, 최대 값 계산\n",
    "        # min_val = np.min(data)\n",
    "        # max_val = np.max(data)\n",
    "        # print(min_val, max_val)\n",
    "        data = normalize(data)\n",
    "        data = resize_volume(data)\n",
    "        label = resize_volume(label)\n",
    "\n",
    "        # Convert numpy to torch tensor\n",
    "        data = torch.tensor(data, dtype=torch.float32).unsqueeze(0)     # Add channel dimension\n",
    "        label = torch.tensor(label, dtype=torch.long)                   # For segmentation tasks, long type is needed for one-hot encoding\n",
    "\n",
    "        # One-hot encoding: (64, 64, 64) -> (64, 64, 64, 5) -> (5, 64, 64, 64)\n",
    "        label_one_hot = F.one_hot(label, num_classes=5).permute(3, 0, 1, 2).float()\n",
    "\n",
    "        return data, label_one_hot\n"
   ]
  },
  {
   "cell_type": "code",
   "execution_count": 55,
   "metadata": {},
   "outputs": [],
   "source": [
    "dataset = BraTSDataset(\"./dataset/data\", \"./dataset/label\")\n",
    "train_size = int(0.8 * len(dataset))\n",
    "test_size = len(dataset) - train_size\n",
    "train_dataset, test_dataset = random_split(dataset, [train_size, test_size])\n",
    "\n",
    "train_loader = DataLoader(train_dataset, batch_size=BATCH_SIZE, shuffle=True)\n",
    "test_loader = DataLoader(test_dataset, batch_size=BATCH_SIZE, shuffle=False)"
   ]
  },
  {
   "cell_type": "code",
   "execution_count": 56,
   "metadata": {},
   "outputs": [
    {
     "name": "stdout",
     "output_type": "stream",
     "text": [
      "data shape:  torch.Size([1, 32, 32, 32]) <class 'torch.Tensor'>\n",
      "label shape:  torch.Size([5, 32, 32, 32]) <class 'torch.Tensor'>\n",
      "(32, 32, 32)\n",
      "torch.Size([32, 32, 32])\n"
     ]
    },
    {
     "data": {
      "image/png": "[encoded data removed]",
      "text/plain": [
       "<Figure size 1000x500 with 2 Axes>"
      ]
     },
     "metadata": {},
     "output_type": "display_data"
    }
   ],
   "source": [
    "def visualize_sample(dataset, idx=0):\n",
    "    \"\"\"Visualize a single sample from the dataset\"\"\"\n",
    "    data, label = dataset[idx]\n",
    "    print(\"data shape: \", data.shape, type(data))\n",
    "    print(\"label shape: \", label.shape, type(label))\n",
    "    \n",
    "    data = data.squeeze().numpy()\n",
    "    label = torch.argmax(label, dim=0)\n",
    "    \n",
    "    print(data.shape)\n",
    "    print(label.shape)\n",
    "    slice_idx = data.shape[-1] // 2  # Select middle slice\n",
    "    \n",
    "    fig, axes = plt.subplots(1, 2, figsize=(10, 5))\n",
    "    axes[0].imshow(data[:, :, slice_idx], cmap='gray')\n",
    "    axes[0].set_title(\"MRI Scan\")\n",
    "    \n",
    "    axes[1].imshow(label[:, :, slice_idx], cmap='jet')\n",
    "    axes[1].set_title(\"Segmentation Label\")\n",
    "    \n",
    "    plt.show()\n",
    "\n",
    "visualize_sample(dataset, idx=0)"
   ]
  },
  {
   "cell_type": "markdown",
   "metadata": {},
   "source": [
    "# Model"
   ]
  },
  {
   "cell_type": "code",
   "execution_count": 57,
   "metadata": {},
   "outputs": [],
   "source": [
    "import torch\n",
    "import torch.nn as nn\n",
    "import torch.nn.functional as F\n",
    "\n",
    "class DoubleConv(nn.Module):\n",
    "    \"\"\"(Conv3D -> BatchNorm -> ReLU) * 2\"\"\"\n",
    "    def __init__(self, in_channels, out_channels):\n",
    "        super(DoubleConv, self).__init__()\n",
    "        self.conv = nn.Sequential(\n",
    "            nn.Conv3d(in_channels, out_channels, kernel_size=3, padding=1),\n",
    "            nn.BatchNorm3d(out_channels),\n",
    "            nn.ReLU(inplace=True),\n",
    "            nn.Conv3d(out_channels, out_channels, kernel_size=3, padding=1),\n",
    "            nn.BatchNorm3d(out_channels),\n",
    "            nn.ReLU(inplace=True),\n",
    "        )\n",
    "    \n",
    "    def forward(self, x):\n",
    "        return self.conv(x)\n",
    "\n",
    "class UNet3D(nn.Module):\n",
    "    def __init__(self, in_channels, out_channels, features=[32, 64, 128, 256, 512]):\n",
    "        super(UNet3D, self).__init__()\n",
    "        \n",
    "        # stack contracting path\n",
    "        self.encoder = nn.ModuleList()\n",
    "        for feature in features:\n",
    "            self.encoder.append(DoubleConv(in_channels, feature))\n",
    "            in_channels = feature\n",
    "        \n",
    "        self.pool = nn.MaxPool3d(kernel_size=2, stride=2)\n",
    "        \n",
    "        self.bottleneck = DoubleConv(features[-1], features[-1] * 2)\n",
    "        \n",
    "        self.upconv = nn.ModuleList()\n",
    "        self.decoder = nn.ModuleList()\n",
    "        for feature in reversed(features):\n",
    "            self.upconv.append(nn.ConvTranspose3d(feature * 2, feature, kernel_size=2, stride=2))\n",
    "            self.decoder.append(DoubleConv(feature * 2, feature))\n",
    "        \n",
    "        self.final_conv = nn.Conv3d(features[0], out_channels, kernel_size=1)\n",
    "        # init weight\n",
    "        self._init_weights()\n",
    "\n",
    "    def _init_weights(self):\n",
    "        for m in self.modules():\n",
    "            if isinstance(m, nn.Conv3d) or isinstance(m, nn.ConvTranspose3d):\n",
    "                nn.init.xavier_uniform_(m.weight)  # Xavier init for weights\n",
    "                if m.bias is not None:\n",
    "                    nn.init.zeros_(m.bias)  # Bias to zero\n",
    "            elif isinstance(m, nn.BatchNorm3d):\n",
    "                nn.init.ones_(m.weight)  # Scale gamma to 1\n",
    "                nn.init.zeros_(m.bias)  # Shift beta to 0\n",
    "\n",
    "    def forward(self, x):\n",
    "        # save skip connections\n",
    "        skip_connections = []\n",
    "        for enc in self.encoder:\n",
    "            x = enc(x)\n",
    "            skip_connections.append(x)\n",
    "            x = self.pool(x)\n",
    "        \n",
    "        x = self.bottleneck(x)\n",
    "        \n",
    "        skip_connections = skip_connections[::-1]\n",
    "        for idx in range(len(self.upconv)):\n",
    "            x = self.upconv[idx](x)\n",
    "            x = torch.cat((x, skip_connections[idx]), dim=1)\n",
    "            x = self.decoder[idx](x)\n",
    "        \n",
    "        return self.final_conv(x)"
   ]
  },
  {
   "cell_type": "code",
   "execution_count": null,
   "metadata": {},
   "outputs": [
    {
     "name": "stdout",
     "output_type": "stream",
     "text": [
      "torch.Size([1, 5, 64, 64, 64])\n"
     ]
    }
   ],
   "source": [
    "model = UNet3D(in_channels=1, out_channels=5)\n",
    "x = torch.randn(1, 1, 32, 32, 32)  # Example 3D volume\n",
    "output = model(x)\n",
    "print(output.shape)"
   ]
  },
  {
   "cell_type": "code",
   "execution_count": null,
   "metadata": {},
   "outputs": [],
   "source": []
  },
  {
   "cell_type": "markdown",
   "metadata": {},
   "source": [
    "# Class Weight"
   ]
  },
  {
   "cell_type": "code",
   "execution_count": 59,
   "metadata": {},
   "outputs": [
    {
     "name": "stdout",
     "output_type": "stream",
     "text": [
      "Class Weights: tensor([2.0204e-01, 5.1014e+01, 4.6540e+01, 1.7721e+02, 2.7435e+02])\n"
     ]
    }
   ],
   "source": [
    "from collections import Counter\n",
    "import numpy as np\n",
    "\n",
    "# 데이터셋에서 클래스별 샘플 개수 계산\n",
    "labels = []  # 전체 데이터셋에서 라벨을 수집해야 함\n",
    "for _, label in train_loader:\n",
    "    label = torch.argmax(label, dim=1)  # 원-핫 벡터를 클래스 인덱스로 변환\n",
    "    labels.extend(label.cpu().numpy().flatten())  # numpy 배열로 변환 후 리스트에 추가\n",
    "\n",
    "# 클래스별 샘플 개수 계산\n",
    "class_counts = Counter(labels)\n",
    "total_samples = sum(class_counts.values())\n",
    "\n",
    "# 가중치 계산: 총 샘플 수 / (클래스별 샘플 수 * 클래스 개수)\n",
    "class_weights = {cls: total_samples / (count * len(class_counts)) for cls, count in class_counts.items()}\n",
    "class_weights = torch.tensor(list(class_weights.values()), dtype=torch.float).to(DEVICE)\n",
    "\n",
    "print(\"Class Weights:\", class_weights)"
   ]
  },
  {
   "cell_type": "markdown",
   "metadata": {},
   "source": [
    "# Train"
   ]
  },
  {
   "cell_type": "code",
   "execution_count": null,
   "metadata": {},
   "outputs": [],
   "source": []
  },
  {
   "cell_type": "code",
   "execution_count": null,
   "metadata": {},
   "outputs": [
    {
     "name": "stderr",
     "output_type": "stream",
     "text": [
      "Epoch 1/25:  99%|█████████▉| 146/147 [04:13<00:01,  1.93s/it, loss=1.23]"
     ]
    }
   ],
   "source": [
    "model.to(DEVICE)\n",
    "criterion = nn.CrossEntropyLoss(weight=class_weights)\n",
    "optimizer = optim.Adam(model.parameters(), lr=LR)\n",
    "scheduler = torch.optim.lr_scheduler.StepLR(optimizer, step_size=STEP_SIZE, gamma=GAMMA)  # Reduce LR by 0.1 every 5 epochs\n",
    "\n",
    "for epoch in range(EPOCHS):\n",
    "    model.train()\n",
    "    epoch_loss = 0\n",
    "    progress_bar = tqdm(train_loader, desc=f\"Epoch {epoch+1}/{EPOCHS}\")\n",
    "    for data, label in progress_bar:\n",
    "        # extract data and label\n",
    "        data, label = data.to(DEVICE), label.to(DEVICE)\n",
    "\n",
    "        # reset optimizer\n",
    "        optimizer.zero_grad()\n",
    "\n",
    "        # model output\n",
    "        output = model(data)\n",
    "\n",
    "        # change label shape to 1 x D x D x D \n",
    "        label = torch.argmax(label, dim=1, keepdim=True).squeeze(1)\n",
    "\n",
    "        loss = criterion(output, label)\n",
    "        loss.backward()\n",
    "    \n",
    "        optimizer.step()\n",
    "\n",
    "        epoch_loss += loss.item()\n",
    "\n",
    "        progress_bar.set_postfix(loss=loss.item())\n",
    "    \n",
    "    # save model\n",
    "    torch.save(model.state_dict(), f'./model/3DUNet_{epoch+1}.pth')\n",
    "    print(f\"Epoch {epoch+1} Loss: {epoch_loss/len(train_loader):.4f}\")\n",
    "\n",
    "    # learning rate scheduler step\n",
    "    scheduler.step()\n"
   ]
  },
  {
   "cell_type": "code",
   "execution_count": null,
   "metadata": {},
   "outputs": [
    {
     "name": "stderr",
     "output_type": "stream",
     "text": [
      "/var/folders/nl/8f5dczz52v56d7f3qlhdknp40000gn/T/ipykernel_3940/847289548.py:7: FutureWarning: You are using `torch.load` with `weights_only=False` (the current default value), which uses the default pickle module implicitly. It is possible to construct malicious pickle data which will execute arbitrary code during unpickling (See https://github.com/pytorch/pytorch/blob/main/SECURITY.md#untrusted-models for more details). In a future release, the default value for `weights_only` will be flipped to `True`. This limits the functions that could be executed during unpickling. Arbitrary objects will no longer be allowed to be loaded via this mode unless they are explicitly allowlisted by the user via `torch.serialization.add_safe_globals`. We recommend you start setting `weights_only=True` for any use case where you don't have full control of the loaded file. Please open an issue on GitHub for any issues related to this experimental feature.\n",
      "  state_dict = torch.load(\"./model/3DUNet_20.pth\", map_location=torch.device(DEVICE))     # state_dict 저장\n"
     ]
    },
    {
     "data": {
      "text/plain": [
       "<All keys matched successfully>"
      ]
     },
     "execution_count": 188,
     "metadata": {},
     "output_type": "execute_result"
    }
   ],
   "source": [
    "# # Load Model\n",
    "# model = UNet3D(in_channels=1, out_channels=5)\n",
    "\n",
    "# from torchinfo import summary\n",
    "# summary(model, input_size=(1,1,32,32,32))\n",
    "\n",
    "# state_dict = torch.load(\"./model/3DUNet_20.pth\", map_location=torch.device(DEVICE))     # state_dict 저장\n",
    "\n",
    "# model.load_state_dict(state_dict=state_dict)  "
   ]
  },
  {
   "cell_type": "markdown",
   "metadata": {},
   "source": [
    "# Test"
   ]
  },
  {
   "cell_type": "code",
   "execution_count": 48,
   "metadata": {},
   "outputs": [
    {
     "name": "stderr",
     "output_type": "stream",
     "text": [
      "Testing: 0it [00:00, ?it/s]"
     ]
    },
    {
     "name": "stderr",
     "output_type": "stream",
     "text": [
      "Testing: 1it [00:00,  1.89it/s]"
     ]
    },
    {
     "name": "stdout",
     "output_type": "stream",
     "text": [
      "0.4500260055065155\n",
      "tensor([0, 2, 3, 4])\n",
      "tensor([29570,  1534,   210,  1454])\n",
      "tensor(32768)\n",
      "tensor([0, 1, 2, 3, 4])\n",
      "tensor([32475,   109,   135,    35,    14])\n",
      "tensor(32768)\n",
      "torch.Size([32, 32, 32])\n",
      "torch.Size([32, 32, 32])\n",
      "torch.Size([32, 32, 32])\n",
      "0.5124387145042419\n"
     ]
    },
    {
     "name": "stderr",
     "output_type": "stream",
     "text": [
      "Testing: 2it [00:01,  1.83it/s]"
     ]
    },
    {
     "name": "stdout",
     "output_type": "stream",
     "text": [
      "0.430801659822464\n",
      "0.47349298000335693\n"
     ]
    },
    {
     "name": "stderr",
     "output_type": "stream",
     "text": [
      "Testing: 3it [00:01,  1.87it/s]"
     ]
    },
    {
     "name": "stdout",
     "output_type": "stream",
     "text": [
      "0.49966806173324585\n",
      "0.5094953179359436\n"
     ]
    },
    {
     "name": "stderr",
     "output_type": "stream",
     "text": [
      "Testing: 4it [00:02,  1.87it/s]"
     ]
    },
    {
     "name": "stdout",
     "output_type": "stream",
     "text": [
      "0.3880758583545685\n",
      "0.44439697265625\n"
     ]
    },
    {
     "name": "stderr",
     "output_type": "stream",
     "text": [
      "Testing: 5it [00:02,  1.85it/s]"
     ]
    },
    {
     "name": "stdout",
     "output_type": "stream",
     "text": [
      "0.42423659563064575\n",
      "0.4808882474899292\n"
     ]
    },
    {
     "name": "stderr",
     "output_type": "stream",
     "text": [
      "Testing: 6it [00:03,  1.90it/s]"
     ]
    },
    {
     "name": "stdout",
     "output_type": "stream",
     "text": [
      "0.46087366342544556\n",
      "0.4926976263523102\n"
     ]
    },
    {
     "name": "stderr",
     "output_type": "stream",
     "text": [
      "Testing: 7it [00:03,  1.97it/s]"
     ]
    },
    {
     "name": "stdout",
     "output_type": "stream",
     "text": [
      "0.5002860426902771\n",
      "0.5105454325675964\n"
     ]
    },
    {
     "name": "stderr",
     "output_type": "stream",
     "text": [
      "Testing: 8it [00:04,  1.99it/s]"
     ]
    },
    {
     "name": "stdout",
     "output_type": "stream",
     "text": [
      "0.3986707627773285\n",
      "0.4498426914215088\n"
     ]
    },
    {
     "name": "stderr",
     "output_type": "stream",
     "text": [
      "Testing: 9it [00:04,  1.95it/s]"
     ]
    },
    {
     "name": "stdout",
     "output_type": "stream",
     "text": [
      "0.4604759216308594\n",
      "0.5150677561759949\n"
     ]
    },
    {
     "name": "stderr",
     "output_type": "stream",
     "text": [
      "Testing: 10it [00:05,  1.94it/s]"
     ]
    },
    {
     "name": "stdout",
     "output_type": "stream",
     "text": [
      "0.4822251498699188\n",
      "0.4156654179096222\n"
     ]
    },
    {
     "name": "stderr",
     "output_type": "stream",
     "text": [
      "Testing: 11it [00:05,  1.92it/s]"
     ]
    },
    {
     "name": "stdout",
     "output_type": "stream",
     "text": [
      "0.4962599277496338\n",
      "0.48092347383499146\n"
     ]
    },
    {
     "name": "stderr",
     "output_type": "stream",
     "text": [
      "Testing: 12it [00:06,  1.89it/s]"
     ]
    },
    {
     "name": "stdout",
     "output_type": "stream",
     "text": [
      "0.5142598152160645\n",
      "0.4924202263355255\n"
     ]
    },
    {
     "name": "stderr",
     "output_type": "stream",
     "text": [
      "Testing: 13it [00:06,  1.89it/s]"
     ]
    },
    {
     "name": "stdout",
     "output_type": "stream",
     "text": [
      "0.4929055869579315\n",
      "0.4325281083583832\n"
     ]
    },
    {
     "name": "stderr",
     "output_type": "stream",
     "text": [
      "Testing: 14it [00:07,  1.92it/s]"
     ]
    },
    {
     "name": "stdout",
     "output_type": "stream",
     "text": [
      "0.4771465063095093\n",
      "0.43641743063926697\n"
     ]
    },
    {
     "name": "stderr",
     "output_type": "stream",
     "text": [
      "Testing: 15it [00:07,  1.98it/s]"
     ]
    },
    {
     "name": "stdout",
     "output_type": "stream",
     "text": [
      "0.48720020055770874\n",
      "0.5012121200561523\n"
     ]
    },
    {
     "name": "stderr",
     "output_type": "stream",
     "text": [
      "Testing: 16it [00:08,  1.98it/s]"
     ]
    },
    {
     "name": "stdout",
     "output_type": "stream",
     "text": [
      "0.5146638751029968\n",
      "0.4524051249027252\n"
     ]
    },
    {
     "name": "stderr",
     "output_type": "stream",
     "text": [
      "Testing: 17it [00:08,  2.03it/s]"
     ]
    },
    {
     "name": "stdout",
     "output_type": "stream",
     "text": [
      "0.47806599736213684\n",
      "0.5219999551773071\n"
     ]
    },
    {
     "name": "stderr",
     "output_type": "stream",
     "text": [
      "Testing: 18it [00:09,  2.02it/s]"
     ]
    },
    {
     "name": "stdout",
     "output_type": "stream",
     "text": [
      "0.49770769476890564\n",
      "0.47391951084136963\n"
     ]
    },
    {
     "name": "stderr",
     "output_type": "stream",
     "text": [
      "Testing: 19it [00:09,  2.06it/s]"
     ]
    },
    {
     "name": "stdout",
     "output_type": "stream",
     "text": [
      "0.5058593153953552\n",
      "0.44439697265625\n"
     ]
    },
    {
     "name": "stderr",
     "output_type": "stream",
     "text": [
      "Testing: 20it [00:10,  2.03it/s]"
     ]
    },
    {
     "name": "stdout",
     "output_type": "stream",
     "text": [
      "0.47256794571876526\n",
      "0.4826468527317047\n"
     ]
    },
    {
     "name": "stderr",
     "output_type": "stream",
     "text": [
      "Testing: 21it [00:10,  2.07it/s]"
     ]
    },
    {
     "name": "stdout",
     "output_type": "stream",
     "text": [
      "0.44907233119010925\n",
      "0.4618128836154938\n"
     ]
    },
    {
     "name": "stderr",
     "output_type": "stream",
     "text": [
      "Testing: 22it [00:11,  2.03it/s]"
     ]
    },
    {
     "name": "stdout",
     "output_type": "stream",
     "text": [
      "0.40665191411972046\n",
      "0.49594932794570923\n"
     ]
    },
    {
     "name": "stderr",
     "output_type": "stream",
     "text": [
      "Testing: 23it [00:11,  1.99it/s]"
     ]
    },
    {
     "name": "stdout",
     "output_type": "stream",
     "text": [
      "0.44147443771362305\n",
      "0.5195626616477966\n"
     ]
    },
    {
     "name": "stderr",
     "output_type": "stream",
     "text": [
      "Testing: 24it [00:12,  1.93it/s]"
     ]
    },
    {
     "name": "stdout",
     "output_type": "stream",
     "text": [
      "0.3909253776073456\n",
      "0.4358203113079071\n"
     ]
    },
    {
     "name": "stderr",
     "output_type": "stream",
     "text": [
      "Testing: 25it [00:12,  1.91it/s]"
     ]
    },
    {
     "name": "stdout",
     "output_type": "stream",
     "text": [
      "0.4792667329311371\n",
      "0.4204767346382141\n"
     ]
    },
    {
     "name": "stderr",
     "output_type": "stream",
     "text": [
      "Testing: 26it [00:13,  1.94it/s]"
     ]
    },
    {
     "name": "stdout",
     "output_type": "stream",
     "text": [
      "0.4777478277683258\n",
      "0.43249061703681946\n"
     ]
    },
    {
     "name": "stderr",
     "output_type": "stream",
     "text": [
      "Testing: 27it [00:13,  1.89it/s]"
     ]
    },
    {
     "name": "stdout",
     "output_type": "stream",
     "text": [
      "0.49918702244758606\n",
      "0.38485804200172424\n"
     ]
    },
    {
     "name": "stderr",
     "output_type": "stream",
     "text": [
      "Testing: 28it [00:14,  1.88it/s]"
     ]
    },
    {
     "name": "stdout",
     "output_type": "stream",
     "text": [
      "0.45685088634490967\n",
      "0.5205986499786377\n"
     ]
    },
    {
     "name": "stderr",
     "output_type": "stream",
     "text": [
      "Testing: 29it [00:14,  1.88it/s]"
     ]
    },
    {
     "name": "stdout",
     "output_type": "stream",
     "text": [
      "0.4812754988670349\n",
      "0.524595320224762\n"
     ]
    },
    {
     "name": "stderr",
     "output_type": "stream",
     "text": [
      "Testing: 30it [00:15,  1.83it/s]"
     ]
    },
    {
     "name": "stdout",
     "output_type": "stream",
     "text": [
      "0.5055185556411743\n",
      "0.49217742681503296\n"
     ]
    },
    {
     "name": "stderr",
     "output_type": "stream",
     "text": [
      "Testing: 31it [00:16,  1.87it/s]"
     ]
    },
    {
     "name": "stdout",
     "output_type": "stream",
     "text": [
      "0.45156413316726685\n",
      "0.4947056472301483\n"
     ]
    },
    {
     "name": "stderr",
     "output_type": "stream",
     "text": [
      "Testing: 32it [00:16,  1.87it/s]"
     ]
    },
    {
     "name": "stdout",
     "output_type": "stream",
     "text": [
      "0.508104145526886\n",
      "0.4193338453769684\n"
     ]
    },
    {
     "name": "stderr",
     "output_type": "stream",
     "text": [
      "Testing: 33it [00:17,  1.95it/s]"
     ]
    },
    {
     "name": "stdout",
     "output_type": "stream",
     "text": [
      "0.47894906997680664\n",
      "0.5112221837043762\n"
     ]
    },
    {
     "name": "stderr",
     "output_type": "stream",
     "text": [
      "Testing: 34it [00:17,  1.99it/s]"
     ]
    },
    {
     "name": "stdout",
     "output_type": "stream",
     "text": [
      "0.4137096405029297\n",
      "0.4182274639606476\n"
     ]
    },
    {
     "name": "stderr",
     "output_type": "stream",
     "text": [
      "Testing: 35it [00:18,  1.95it/s]"
     ]
    },
    {
     "name": "stdout",
     "output_type": "stream",
     "text": [
      "0.45775875449180603\n",
      "0.49252426624298096\n"
     ]
    },
    {
     "name": "stderr",
     "output_type": "stream",
     "text": [
      "Testing: 36it [00:18,  1.93it/s]"
     ]
    },
    {
     "name": "stdout",
     "output_type": "stream",
     "text": [
      "0.4253345727920532\n",
      "0.4526609182357788\n"
     ]
    },
    {
     "name": "stderr",
     "output_type": "stream",
     "text": [
      "Testing: 37it [00:19,  1.93it/s]"
     ]
    },
    {
     "name": "stdout",
     "output_type": "stream",
     "text": [
      "0.4879680573940277\n",
      "0.4101693332195282\n",
      "Test Dice Accuracy: 0.4683\n",
      "Average Test Loss: 73.5503\n"
     ]
    },
    {
     "name": "stderr",
     "output_type": "stream",
     "text": [
      "\n"
     ]
    }
   ],
   "source": [
    "import torch\n",
    "import torch.nn.functional as F\n",
    "import torch.nn as nn\n",
    "import numpy as np\n",
    "from tqdm import tqdm\n",
    "import sys\n",
    "import torch\n",
    "import torch.nn.functional as F\n",
    "\n",
    "import nibabel as nib\n",
    "\n",
    "def save_as_nifti(tensor, filename):\n",
    "    \"\"\"\n",
    "    Save a tensor as a NIfTI file.\n",
    "    tensor: Tensor to be saved as NIfTI.\n",
    "    filename: The output file name.\n",
    "    \"\"\"\n",
    "    # 텐서를 numpy 배열로 변환 (NIfTI는 numpy 배열을 요구)\n",
    "    \n",
    "    # NIfTI 이미지로 변환 (Voxel 크기 정보가 필요할 경우, 적절히 설정할 수 있습니다)\n",
    "    nifti_img = nib.Nifti1Image(tensor, affine=np.eye(4))  # affine는 단위 행렬로 설정 (원하는 좌표계로 수정 가능)\n",
    "    \n",
    "    # NIfTI 파일로 저장\n",
    "    nib.save(nifti_img, filename)\n",
    "\n",
    "# def save_as_nifti_labelmap(tensor, filename):\n",
    "#     if isinstance(tensor, torch.Tensor):\n",
    "#         tensor = tensor.cpu().numpy()\n",
    "#     tensor = tensor.astype(np.uint8)\n",
    "    \n",
    "#     # 새로운 NIfTI 헤더 생성\n",
    "#     hdr = nib.Nifti1Header()\n",
    "#     hdr.set_data_dtype(np.uint8)\n",
    "    \n",
    "#     # 'label' intent를 설정하면 intent_code가 1002 (NIFTI_INTENT_LABEL)로 설정됩니다.\n",
    "#     hdr.set_intent('label', (), 'label')\n",
    "#     hdr['intent_name'] = b'LabelMap'\n",
    "#     hdr['descrip'] = b'LabelMap volume'\n",
    "    \n",
    "#     # 계산 값 최소/최대 (선택 사항)\n",
    "#     hdr['cal_min'] = 0\n",
    "#     hdr['cal_max'] = int(tensor.max())\n",
    "    \n",
    "#     # qform, sform 코드 설정 (기본 affine 정보를 의미)\n",
    "#     hdr['qform_code'] = 1\n",
    "#     hdr['sform_code'] = 1\n",
    "    \n",
    "#     # NIfTI 이미지 생성 (affine은 단위 행렬, 필요시 수정)\n",
    "#     nifti_img = nib.Nifti1Image(tensor, affine=np.eye(4), header=hdr)\n",
    "#     nib.save(nifti_img, filename)\n",
    "    \n",
    "\n",
    "def multiclass_dice_coeff(input, target, epsilon=1e-6):\n",
    "    \"\"\"\n",
    "    Compute the Dice Score for multi-class segmentation.\n",
    "    \n",
    "    Args:\n",
    "        input (torch.Tensor): Model output logits (C, H, W, D).\n",
    "        target (torch.Tensor): Ground truth labels (C, H, W, D).\n",
    "        epsilon (float): Small value to avoid division by zero.\n",
    "        \n",
    "    Returns:\n",
    "        mean_dice (float): Mean Dice Score across all classes.\n",
    "    \"\"\"\n",
    "    input = torch.argmax(input, dim=0)  # (H, W, D) - get class index with highest logit\n",
    "    \n",
    "    # Ensure target is long type and convert to one-hot\n",
    "    target = target.int()\n",
    "    # target_one_hot = F.one_hot(target.argmax(dim=1), num_classes=num_classes).permute(3, 0, 1, 2).float()  # (C, H, W, D)\n",
    "    \n",
    "    # Calculate intersection and union\n",
    "    intersection = (input * target).sum()  # (C)\n",
    "    union = input.sum() + target.sum()  # (C)\n",
    "\n",
    "    # Compute Dice score per class\n",
    "    dice_per_class = (2. * intersection + epsilon) / (union + epsilon)  # (C)\n",
    "\n",
    "    # Compute mean Dice score across all classes\n",
    "    mean_dice = dice_per_class.mean()  # Scalar\n",
    "\n",
    "    return mean_dice\n",
    "\n",
    "\n",
    "\n",
    "# Test loop\n",
    "save = False\n",
    "total_dice = 0\n",
    "total_samples = 0\n",
    "\n",
    "model.to(DEVICE)\n",
    "model.eval()\n",
    "total_loss = 0\n",
    "criterion = nn.CrossEntropyLoss(weight=class_weights)\n",
    "\n",
    "with torch.no_grad():\n",
    "    for batch_idx, (data, label) in tqdm(enumerate(test_loader), desc=\"Testing\"):\n",
    "        data, label = data.to(DEVICE), label.to(DEVICE)\n",
    "        \n",
    "        data_clone = data.clone()\n",
    "\n",
    "        label_clone = label.clone()\n",
    "\n",
    "        # change label shape to 1 x D x D x D \n",
    "        label_clone = torch.argmax(label_clone, dim=1, keepdim=True).squeeze(1)\n",
    "\n",
    "        output = model(data)  # Output shape: (batch, C, H, W, D)\n",
    "\n",
    "        # Compute loss\n",
    "        loss = criterion(output, label_clone)  # CrossEntropyLoss expects (batch, C, H, W, D) and (batch, H, W, D)\n",
    "        total_loss += loss.item()\n",
    "\n",
    "        # Save predictions and labels as NIfTI files\n",
    "        for i in range(data.size(0)):  # Loop over batch\n",
    "\n",
    "            # dice score\n",
    "            dice = multiclass_dice_coeff(output[i], label[i]) #  C x D x D x D | C x D X D x D로 들어옴\n",
    "            print(dice.item())\n",
    "            total_dice += dice.item()\n",
    "            total_samples += 1\n",
    "\n",
    "            original_filename = f\"original_{batch_idx}_{i}.nii\"\n",
    "            pred_filename = f\"pred_{batch_idx}_{i}.nii\"\n",
    "            label_filename = f\"label_{batch_idx}_{i}.nii\"\n",
    "\n",
    "            # Input: directly using logits, no need for softmax\n",
    "            pred = torch.argmax(output[i], dim=0)  # (H, W, D) - get class index with highest logit\n",
    "            original = torch.argmax(data_clone[i], dim=0)\n",
    "            # Label: Convert ground truth to class index\n",
    "            gt_label = torch.argmax(label[i], dim=0)\n",
    "\n",
    "            # check\n",
    "            # unique_elements, counts = torch.unique(gt_label, return_counts=True)\n",
    "            # print(unique_elements)\n",
    "            # print(counts)\n",
    "            # print(counts.sum())\n",
    "            # unique_elements, counts = torch.unique(pred, return_counts=True)\n",
    "            # print(unique_elements)\n",
    "            # print(counts)\n",
    "            # print(counts.sum())\n",
    "            \n",
    "            # print(pred.cpu().numpy().astype(np.int16))\n",
    "            \n",
    "            if save == False:\n",
    "                unique_elements, counts = torch.unique(pred, return_counts=True)\n",
    "                print(unique_elements)\n",
    "                print(counts)\n",
    "                print(counts.sum())\n",
    "                unique_elements, counts = torch.unique(gt_label, return_counts=True)\n",
    "                print(unique_elements)\n",
    "                print(counts)\n",
    "                print(counts.sum())\n",
    "                print(original.shape)\n",
    "                print(pred.shape)\n",
    "                print(gt_label.shape)\n",
    "                torch.set_printoptions(threshold=sys.maxsize)\n",
    "\n",
    "                # Save as NIfTI \n",
    "                save_as_nifti(original.cpu().numpy().astype(np.int16), original_filename)\n",
    "                save_as_nifti(pred.cpu().numpy().astype(np.int16), pred_filename)\n",
    "                save_as_nifti(gt_label.cpu().numpy().astype(np.int16), label_filename)\n",
    "\n",
    "                save = True\n",
    "        \n",
    "# Compute average Dice Accuracy\n",
    "avg_dice = total_dice / total_samples\n",
    "avg_loss = total_loss / total_samples\n",
    "\n",
    "print(f\"Test Dice Accuracy: {avg_dice:.4f}\")\n",
    "print(f\"Average Test Loss: {avg_loss:.4f}\")\n"
   ]
  },
  {
   "cell_type": "code",
   "execution_count": null,
   "metadata": {},
   "outputs": [],
   "source": [
    "class MeanIoU:\n",
    "    \"\"\"\n",
    "    Computes IoU for each class separately and then averages over all classes.\n",
    "\n",
    "    Args:\n",
    "        skip_background (bool): if True, background class (i.e. 0-label) will be skipped when computing IoU\n",
    "    \"\"\"\n",
    "\n",
    "    def __init__(self, skip_background=True, **kwargs):\n",
    "        self.skip_background = skip_background\n",
    "\n",
    "    def __call__(self, input, target):\n",
    "        \"\"\"\n",
    "        :param input: 5D probability maps torch float tensor (NxCxDxHxW)\n",
    "        :param target: 4D or 5D ground truth torch tensor. 4D (NxDxHxW) tensor will be expanded to 5D as one-hot\n",
    "        :return: intersection over union averaged over all channels\n",
    "        \"\"\"\n",
    "        input_softmax = torch.softmax(input, dim=1)  # (2, 5, 64, 64, 64)\n",
    "\n",
    "        assert input.dim() == 5\n",
    "\n",
    "        n_classes = input.size(1)\n",
    "\n",
    "        if target.dim() == 4:\n",
    "            # convert input to segmentation\n",
    "            input = input.argmax(dim=1)\n",
    "\n",
    "        assert input.size() == target.size()\n",
    "\n",
    "        per_batch_iou = []\n",
    "        for _input, _target in zip(input, target):\n",
    "            # convert target to byte\n",
    "            _target = _target.byte()\n",
    "            per_channel_iou = []\n",
    "            start_idx = 0\n",
    "            # skip background only if target is 4D; for channel-wise computation (i.e. if target is 5D) we need to include it\n",
    "            if self.skip_background and target.dim() == 4:\n",
    "                start_idx = 1\n",
    "\n",
    "            for c in range(start_idx, n_classes):\n",
    "                if target.dim() == 5:\n",
    "                    iou = self._jaccard_index(_input[c] > 0.4, _target[c])\n",
    "                    per_channel_iou.append(iou)\n",
    "                else:\n",
    "                    iou = self._jaccard_index(_input == c, _target == c)\n",
    "                    per_channel_iou.append(iou)\n",
    "\n",
    "            assert per_channel_iou, \"All channels were ignored from the computation\"\n",
    "            mean_iou = torch.tensor(per_channel_iou).mean()\n",
    "            per_batch_iou.append(mean_iou)\n",
    "\n",
    "        return torch.tensor(per_batch_iou).mean()\n",
    "\n",
    "    def _jaccard_index(self, prediction, target):\n",
    "        \"\"\"\n",
    "        Computes IoU for a given target and prediction tensors\n",
    "        \"\"\"\n",
    "        epsilon = 1e-8\n",
    "        intersection = torch.logical_and(target, prediction).sum()\n",
    "        union = torch.logical_or(target, prediction).sum()\n",
    "        return (intersection + epsilon) / (union + epsilon)"
   ]
  },
  {
   "cell_type": "code",
   "execution_count": 22,
   "metadata": {},
   "outputs": [
    {
     "name": "stderr",
     "output_type": "stream",
     "text": [
      "Testing: 1it [00:00,  1.56it/s]"
     ]
    },
    {
     "name": "stdout",
     "output_type": "stream",
     "text": [
      "tensor(0.0385)\n"
     ]
    },
    {
     "name": "stderr",
     "output_type": "stream",
     "text": [
      "Testing: 2it [00:01,  1.61it/s]"
     ]
    },
    {
     "name": "stdout",
     "output_type": "stream",
     "text": [
      "tensor(0.0370)\n"
     ]
    },
    {
     "name": "stderr",
     "output_type": "stream",
     "text": [
      "Testing: 3it [00:01,  1.65it/s]"
     ]
    },
    {
     "name": "stdout",
     "output_type": "stream",
     "text": [
      "tensor(0.0382)\n"
     ]
    },
    {
     "name": "stderr",
     "output_type": "stream",
     "text": [
      "Testing: 4it [00:02,  1.65it/s]"
     ]
    },
    {
     "name": "stdout",
     "output_type": "stream",
     "text": [
      "tensor(0.0375)\n"
     ]
    },
    {
     "name": "stderr",
     "output_type": "stream",
     "text": [
      "Testing: 5it [00:03,  1.68it/s]"
     ]
    },
    {
     "name": "stdout",
     "output_type": "stream",
     "text": [
      "tensor(0.0373)\n"
     ]
    },
    {
     "name": "stderr",
     "output_type": "stream",
     "text": [
      "Testing: 6it [00:03,  1.57it/s]"
     ]
    },
    {
     "name": "stdout",
     "output_type": "stream",
     "text": [
      "tensor(0.0378)\n"
     ]
    },
    {
     "name": "stderr",
     "output_type": "stream",
     "text": [
      "\n"
     ]
    },
    {
     "ename": "KeyboardInterrupt",
     "evalue": "",
     "output_type": "error",
     "traceback": [
      "\u001b[0;31m---------------------------------------------------------------------------\u001b[0m",
      "\u001b[0;31mKeyboardInterrupt\u001b[0m                         Traceback (most recent call last)",
      "Cell \u001b[0;32mIn[22], line 19\u001b[0m\n\u001b[1;32m     16\u001b[0m criterion \u001b[38;5;241m=\u001b[39m nn\u001b[38;5;241m.\u001b[39mCrossEntropyLoss(weight\u001b[38;5;241m=\u001b[39mclass_weights)\n\u001b[1;32m     18\u001b[0m \u001b[38;5;28;01mwith\u001b[39;00m torch\u001b[38;5;241m.\u001b[39mno_grad():\n\u001b[0;32m---> 19\u001b[0m \u001b[43m    \u001b[49m\u001b[38;5;28;43;01mfor\u001b[39;49;00m\u001b[43m \u001b[49m\u001b[43mbatch_idx\u001b[49m\u001b[43m,\u001b[49m\u001b[43m \u001b[49m\u001b[43m(\u001b[49m\u001b[43mdata\u001b[49m\u001b[43m,\u001b[49m\u001b[43m \u001b[49m\u001b[43mlabel\u001b[49m\u001b[43m)\u001b[49m\u001b[43m \u001b[49m\u001b[38;5;129;43;01min\u001b[39;49;00m\u001b[43m \u001b[49m\u001b[43mtqdm\u001b[49m\u001b[43m(\u001b[49m\u001b[38;5;28;43menumerate\u001b[39;49m\u001b[43m(\u001b[49m\u001b[43mtest_loader\u001b[49m\u001b[43m)\u001b[49m\u001b[43m,\u001b[49m\u001b[43m \u001b[49m\u001b[43mdesc\u001b[49m\u001b[38;5;241;43m=\u001b[39;49m\u001b[38;5;124;43m\"\u001b[39;49m\u001b[38;5;124;43mTesting\u001b[39;49m\u001b[38;5;124;43m\"\u001b[39;49m\u001b[43m)\u001b[49m\u001b[43m:\u001b[49m\n\u001b[1;32m     20\u001b[0m \u001b[43m        \u001b[49m\u001b[43mdata\u001b[49m\u001b[43m,\u001b[49m\u001b[43m \u001b[49m\u001b[43mlabel\u001b[49m\u001b[43m \u001b[49m\u001b[38;5;241;43m=\u001b[39;49m\u001b[43m \u001b[49m\u001b[43mdata\u001b[49m\u001b[38;5;241;43m.\u001b[39;49m\u001b[43mto\u001b[49m\u001b[43m(\u001b[49m\u001b[43mDEVICE\u001b[49m\u001b[43m)\u001b[49m\u001b[43m,\u001b[49m\u001b[43m \u001b[49m\u001b[43mlabel\u001b[49m\u001b[38;5;241;43m.\u001b[39;49m\u001b[43mto\u001b[49m\u001b[43m(\u001b[49m\u001b[43mDEVICE\u001b[49m\u001b[43m)\u001b[49m\n\u001b[1;32m     21\u001b[0m \u001b[43m        \u001b[49m\u001b[43mdata\u001b[49m\u001b[43m \u001b[49m\u001b[38;5;241;43m=\u001b[39;49m\u001b[43m \u001b[49m\u001b[43mtorch\u001b[49m\u001b[38;5;241;43m.\u001b[39;49m\u001b[43msoftmax\u001b[49m\u001b[43m(\u001b[49m\u001b[43mdata\u001b[49m\u001b[43m,\u001b[49m\u001b[43m \u001b[49m\u001b[43mdim\u001b[49m\u001b[38;5;241;43m=\u001b[39;49m\u001b[38;5;241;43m1\u001b[39;49m\u001b[43m)\u001b[49m\u001b[43m  \u001b[49m\u001b[38;5;66;43;03m# (2, 5, 64, 64, 64)\u001b[39;49;00m\n",
      "File \u001b[0;32m/opt/anaconda3/envs/pytorch/lib/python3.12/site-packages/tqdm/std.py:1181\u001b[0m, in \u001b[0;36mtqdm.__iter__\u001b[0;34m(self)\u001b[0m\n\u001b[1;32m   1178\u001b[0m time \u001b[38;5;241m=\u001b[39m \u001b[38;5;28mself\u001b[39m\u001b[38;5;241m.\u001b[39m_time\n\u001b[1;32m   1180\u001b[0m \u001b[38;5;28;01mtry\u001b[39;00m:\n\u001b[0;32m-> 1181\u001b[0m \u001b[43m    \u001b[49m\u001b[38;5;28;43;01mfor\u001b[39;49;00m\u001b[43m \u001b[49m\u001b[43mobj\u001b[49m\u001b[43m \u001b[49m\u001b[38;5;129;43;01min\u001b[39;49;00m\u001b[43m \u001b[49m\u001b[43miterable\u001b[49m\u001b[43m:\u001b[49m\n\u001b[1;32m   1182\u001b[0m \u001b[43m        \u001b[49m\u001b[38;5;28;43;01myield\u001b[39;49;00m\u001b[43m \u001b[49m\u001b[43mobj\u001b[49m\n\u001b[1;32m   1183\u001b[0m \u001b[43m        \u001b[49m\u001b[38;5;66;43;03m# Update and possibly print the progressbar.\u001b[39;49;00m\n\u001b[1;32m   1184\u001b[0m \u001b[43m        \u001b[49m\u001b[38;5;66;43;03m# Note: does not call self.update(1) for speed optimisation.\u001b[39;49;00m\n",
      "File \u001b[0;32m/opt/anaconda3/envs/pytorch/lib/python3.12/site-packages/torch/utils/data/dataloader.py:701\u001b[0m, in \u001b[0;36m_BaseDataLoaderIter.__next__\u001b[0;34m(self)\u001b[0m\n\u001b[1;32m    698\u001b[0m \u001b[38;5;28;01mif\u001b[39;00m \u001b[38;5;28mself\u001b[39m\u001b[38;5;241m.\u001b[39m_sampler_iter \u001b[38;5;129;01mis\u001b[39;00m \u001b[38;5;28;01mNone\u001b[39;00m:\n\u001b[1;32m    699\u001b[0m     \u001b[38;5;66;03m# TODO(https://github.com/pytorch/pytorch/issues/76750)\u001b[39;00m\n\u001b[1;32m    700\u001b[0m     \u001b[38;5;28mself\u001b[39m\u001b[38;5;241m.\u001b[39m_reset()  \u001b[38;5;66;03m# type: ignore[call-arg]\u001b[39;00m\n\u001b[0;32m--> 701\u001b[0m data \u001b[38;5;241m=\u001b[39m \u001b[38;5;28;43mself\u001b[39;49m\u001b[38;5;241;43m.\u001b[39;49m\u001b[43m_next_data\u001b[49m\u001b[43m(\u001b[49m\u001b[43m)\u001b[49m\n\u001b[1;32m    702\u001b[0m \u001b[38;5;28mself\u001b[39m\u001b[38;5;241m.\u001b[39m_num_yielded \u001b[38;5;241m+\u001b[39m\u001b[38;5;241m=\u001b[39m \u001b[38;5;241m1\u001b[39m\n\u001b[1;32m    703\u001b[0m \u001b[38;5;28;01mif\u001b[39;00m (\n\u001b[1;32m    704\u001b[0m     \u001b[38;5;28mself\u001b[39m\u001b[38;5;241m.\u001b[39m_dataset_kind \u001b[38;5;241m==\u001b[39m _DatasetKind\u001b[38;5;241m.\u001b[39mIterable\n\u001b[1;32m    705\u001b[0m     \u001b[38;5;129;01mand\u001b[39;00m \u001b[38;5;28mself\u001b[39m\u001b[38;5;241m.\u001b[39m_IterableDataset_len_called \u001b[38;5;129;01mis\u001b[39;00m \u001b[38;5;129;01mnot\u001b[39;00m \u001b[38;5;28;01mNone\u001b[39;00m\n\u001b[1;32m    706\u001b[0m     \u001b[38;5;129;01mand\u001b[39;00m \u001b[38;5;28mself\u001b[39m\u001b[38;5;241m.\u001b[39m_num_yielded \u001b[38;5;241m>\u001b[39m \u001b[38;5;28mself\u001b[39m\u001b[38;5;241m.\u001b[39m_IterableDataset_len_called\n\u001b[1;32m    707\u001b[0m ):\n",
      "File \u001b[0;32m/opt/anaconda3/envs/pytorch/lib/python3.12/site-packages/torch/utils/data/dataloader.py:757\u001b[0m, in \u001b[0;36m_SingleProcessDataLoaderIter._next_data\u001b[0;34m(self)\u001b[0m\n\u001b[1;32m    755\u001b[0m \u001b[38;5;28;01mdef\u001b[39;00m \u001b[38;5;21m_next_data\u001b[39m(\u001b[38;5;28mself\u001b[39m):\n\u001b[1;32m    756\u001b[0m     index \u001b[38;5;241m=\u001b[39m \u001b[38;5;28mself\u001b[39m\u001b[38;5;241m.\u001b[39m_next_index()  \u001b[38;5;66;03m# may raise StopIteration\u001b[39;00m\n\u001b[0;32m--> 757\u001b[0m     data \u001b[38;5;241m=\u001b[39m \u001b[38;5;28;43mself\u001b[39;49m\u001b[38;5;241;43m.\u001b[39;49m\u001b[43m_dataset_fetcher\u001b[49m\u001b[38;5;241;43m.\u001b[39;49m\u001b[43mfetch\u001b[49m\u001b[43m(\u001b[49m\u001b[43mindex\u001b[49m\u001b[43m)\u001b[49m  \u001b[38;5;66;03m# may raise StopIteration\u001b[39;00m\n\u001b[1;32m    758\u001b[0m     \u001b[38;5;28;01mif\u001b[39;00m \u001b[38;5;28mself\u001b[39m\u001b[38;5;241m.\u001b[39m_pin_memory:\n\u001b[1;32m    759\u001b[0m         data \u001b[38;5;241m=\u001b[39m _utils\u001b[38;5;241m.\u001b[39mpin_memory\u001b[38;5;241m.\u001b[39mpin_memory(data, \u001b[38;5;28mself\u001b[39m\u001b[38;5;241m.\u001b[39m_pin_memory_device)\n",
      "File \u001b[0;32m/opt/anaconda3/envs/pytorch/lib/python3.12/site-packages/torch/utils/data/_utils/fetch.py:50\u001b[0m, in \u001b[0;36m_MapDatasetFetcher.fetch\u001b[0;34m(self, possibly_batched_index)\u001b[0m\n\u001b[1;32m     48\u001b[0m \u001b[38;5;28;01mif\u001b[39;00m \u001b[38;5;28mself\u001b[39m\u001b[38;5;241m.\u001b[39mauto_collation:\n\u001b[1;32m     49\u001b[0m     \u001b[38;5;28;01mif\u001b[39;00m \u001b[38;5;28mhasattr\u001b[39m(\u001b[38;5;28mself\u001b[39m\u001b[38;5;241m.\u001b[39mdataset, \u001b[38;5;124m\"\u001b[39m\u001b[38;5;124m__getitems__\u001b[39m\u001b[38;5;124m\"\u001b[39m) \u001b[38;5;129;01mand\u001b[39;00m \u001b[38;5;28mself\u001b[39m\u001b[38;5;241m.\u001b[39mdataset\u001b[38;5;241m.\u001b[39m__getitems__:\n\u001b[0;32m---> 50\u001b[0m         data \u001b[38;5;241m=\u001b[39m \u001b[38;5;28;43mself\u001b[39;49m\u001b[38;5;241;43m.\u001b[39;49m\u001b[43mdataset\u001b[49m\u001b[38;5;241;43m.\u001b[39;49m\u001b[43m__getitems__\u001b[49m\u001b[43m(\u001b[49m\u001b[43mpossibly_batched_index\u001b[49m\u001b[43m)\u001b[49m\n\u001b[1;32m     51\u001b[0m     \u001b[38;5;28;01melse\u001b[39;00m:\n\u001b[1;32m     52\u001b[0m         data \u001b[38;5;241m=\u001b[39m [\u001b[38;5;28mself\u001b[39m\u001b[38;5;241m.\u001b[39mdataset[idx] \u001b[38;5;28;01mfor\u001b[39;00m idx \u001b[38;5;129;01min\u001b[39;00m possibly_batched_index]\n",
      "File \u001b[0;32m/opt/anaconda3/envs/pytorch/lib/python3.12/site-packages/torch/utils/data/dataset.py:420\u001b[0m, in \u001b[0;36mSubset.__getitems__\u001b[0;34m(self, indices)\u001b[0m\n\u001b[1;32m    418\u001b[0m     \u001b[38;5;28;01mreturn\u001b[39;00m \u001b[38;5;28mself\u001b[39m\u001b[38;5;241m.\u001b[39mdataset\u001b[38;5;241m.\u001b[39m__getitems__([\u001b[38;5;28mself\u001b[39m\u001b[38;5;241m.\u001b[39mindices[idx] \u001b[38;5;28;01mfor\u001b[39;00m idx \u001b[38;5;129;01min\u001b[39;00m indices])  \u001b[38;5;66;03m# type: ignore[attr-defined]\u001b[39;00m\n\u001b[1;32m    419\u001b[0m \u001b[38;5;28;01melse\u001b[39;00m:\n\u001b[0;32m--> 420\u001b[0m     \u001b[38;5;28;01mreturn\u001b[39;00m [\u001b[38;5;28;43mself\u001b[39;49m\u001b[38;5;241;43m.\u001b[39;49m\u001b[43mdataset\u001b[49m\u001b[43m[\u001b[49m\u001b[38;5;28;43mself\u001b[39;49m\u001b[38;5;241;43m.\u001b[39;49m\u001b[43mindices\u001b[49m\u001b[43m[\u001b[49m\u001b[43midx\u001b[49m\u001b[43m]\u001b[49m\u001b[43m]\u001b[49m \u001b[38;5;28;01mfor\u001b[39;00m idx \u001b[38;5;129;01min\u001b[39;00m indices]\n",
      "Cell \u001b[0;32mIn[8], line 24\u001b[0m, in \u001b[0;36mBraTSDataset.__getitem__\u001b[0;34m(self, idx)\u001b[0m\n\u001b[1;32m     21\u001b[0m data_path \u001b[38;5;241m=\u001b[39m os\u001b[38;5;241m.\u001b[39mpath\u001b[38;5;241m.\u001b[39mjoin(\u001b[38;5;28mself\u001b[39m\u001b[38;5;241m.\u001b[39mdata_dir, \u001b[38;5;28mself\u001b[39m\u001b[38;5;241m.\u001b[39mdata_paths[idx])\n\u001b[1;32m     22\u001b[0m label_path \u001b[38;5;241m=\u001b[39m os\u001b[38;5;241m.\u001b[39mpath\u001b[38;5;241m.\u001b[39mjoin(\u001b[38;5;28mself\u001b[39m\u001b[38;5;241m.\u001b[39mlabel_dir, \u001b[38;5;28mself\u001b[39m\u001b[38;5;241m.\u001b[39mlabel_paths[idx])\n\u001b[0;32m---> 24\u001b[0m data \u001b[38;5;241m=\u001b[39m \u001b[43mread_nifti_file\u001b[49m\u001b[43m(\u001b[49m\u001b[43mdata_path\u001b[49m\u001b[43m)\u001b[49m\n\u001b[1;32m     25\u001b[0m label \u001b[38;5;241m=\u001b[39m read_nifti_file(label_path)\n\u001b[1;32m     27\u001b[0m data \u001b[38;5;241m=\u001b[39m normalize(data)\n",
      "Cell \u001b[0;32mIn[6], line 4\u001b[0m, in \u001b[0;36mread_nifti_file\u001b[0;34m(filepath)\u001b[0m\n\u001b[1;32m      2\u001b[0m \u001b[38;5;250m\u001b[39m\u001b[38;5;124;03m\"\"\"Read and load volume\"\"\"\u001b[39;00m\n\u001b[1;32m      3\u001b[0m scan \u001b[38;5;241m=\u001b[39m nib\u001b[38;5;241m.\u001b[39mload(filepath)\n\u001b[0;32m----> 4\u001b[0m scan \u001b[38;5;241m=\u001b[39m \u001b[43mscan\u001b[49m\u001b[38;5;241;43m.\u001b[39;49m\u001b[43mget_fdata\u001b[49m\u001b[43m(\u001b[49m\u001b[43m)\u001b[49m\n\u001b[1;32m      5\u001b[0m \u001b[38;5;28;01mreturn\u001b[39;00m scan\n",
      "File \u001b[0;32m/opt/anaconda3/envs/pytorch/lib/python3.12/site-packages/nibabel/dataobj_images.py:374\u001b[0m, in \u001b[0;36mDataobjImage.get_fdata\u001b[0;34m(self, caching, dtype)\u001b[0m\n\u001b[1;32m    370\u001b[0m         \u001b[38;5;28;01mreturn\u001b[39;00m \u001b[38;5;28mself\u001b[39m\u001b[38;5;241m.\u001b[39m_fdata_cache\n\u001b[1;32m    371\u001b[0m \u001b[38;5;66;03m# Always return requested data type\u001b[39;00m\n\u001b[1;32m    372\u001b[0m \u001b[38;5;66;03m# For array proxies, will attempt to confine data array to dtype\u001b[39;00m\n\u001b[1;32m    373\u001b[0m \u001b[38;5;66;03m# during scaling\u001b[39;00m\n\u001b[0;32m--> 374\u001b[0m data \u001b[38;5;241m=\u001b[39m \u001b[43mnp\u001b[49m\u001b[38;5;241;43m.\u001b[39;49m\u001b[43masanyarray\u001b[49m\u001b[43m(\u001b[49m\u001b[38;5;28;43mself\u001b[39;49m\u001b[38;5;241;43m.\u001b[39;49m\u001b[43m_dataobj\u001b[49m\u001b[43m,\u001b[49m\u001b[43m \u001b[49m\u001b[43mdtype\u001b[49m\u001b[38;5;241;43m=\u001b[39;49m\u001b[43mdtype\u001b[49m\u001b[43m)\u001b[49m\n\u001b[1;32m    375\u001b[0m \u001b[38;5;28;01mif\u001b[39;00m caching \u001b[38;5;241m==\u001b[39m \u001b[38;5;124m'\u001b[39m\u001b[38;5;124mfill\u001b[39m\u001b[38;5;124m'\u001b[39m:\n\u001b[1;32m    376\u001b[0m     \u001b[38;5;28mself\u001b[39m\u001b[38;5;241m.\u001b[39m_fdata_cache \u001b[38;5;241m=\u001b[39m data\n",
      "File \u001b[0;32m/opt/anaconda3/envs/pytorch/lib/python3.12/site-packages/nibabel/arrayproxy.py:454\u001b[0m, in \u001b[0;36mArrayProxy.__array__\u001b[0;34m(self, dtype)\u001b[0m\n\u001b[1;32m    433\u001b[0m \u001b[38;5;28;01mdef\u001b[39;00m \u001b[38;5;21m__array__\u001b[39m(\u001b[38;5;28mself\u001b[39m, dtype\u001b[38;5;241m=\u001b[39m\u001b[38;5;28;01mNone\u001b[39;00m):\n\u001b[1;32m    434\u001b[0m \u001b[38;5;250m    \u001b[39m\u001b[38;5;124;03m\"\"\"Read data from file and apply scaling, casting to ``dtype``\u001b[39;00m\n\u001b[1;32m    435\u001b[0m \n\u001b[1;32m    436\u001b[0m \u001b[38;5;124;03m    If ``dtype`` is unspecified, the dtype of the returned array is the\u001b[39;00m\n\u001b[0;32m   (...)\u001b[0m\n\u001b[1;32m    452\u001b[0m \u001b[38;5;124;03m        Scaled image data with type `dtype`.\u001b[39;00m\n\u001b[1;32m    453\u001b[0m \u001b[38;5;124;03m    \"\"\"\u001b[39;00m\n\u001b[0;32m--> 454\u001b[0m     arr \u001b[38;5;241m=\u001b[39m \u001b[38;5;28;43mself\u001b[39;49m\u001b[38;5;241;43m.\u001b[39;49m\u001b[43m_get_scaled\u001b[49m\u001b[43m(\u001b[49m\u001b[43mdtype\u001b[49m\u001b[38;5;241;43m=\u001b[39;49m\u001b[43mdtype\u001b[49m\u001b[43m,\u001b[49m\u001b[43m \u001b[49m\u001b[43mslicer\u001b[49m\u001b[38;5;241;43m=\u001b[39;49m\u001b[43m(\u001b[49m\u001b[43m)\u001b[49m\u001b[43m)\u001b[49m\n\u001b[1;32m    455\u001b[0m     \u001b[38;5;28;01mif\u001b[39;00m dtype \u001b[38;5;129;01mis\u001b[39;00m \u001b[38;5;129;01mnot\u001b[39;00m \u001b[38;5;28;01mNone\u001b[39;00m:\n\u001b[1;32m    456\u001b[0m         arr \u001b[38;5;241m=\u001b[39m arr\u001b[38;5;241m.\u001b[39mastype(dtype, copy\u001b[38;5;241m=\u001b[39m\u001b[38;5;28;01mFalse\u001b[39;00m)\n",
      "File \u001b[0;32m/opt/anaconda3/envs/pytorch/lib/python3.12/site-packages/nibabel/arrayproxy.py:423\u001b[0m, in \u001b[0;36mArrayProxy._get_scaled\u001b[0;34m(self, dtype, slicer)\u001b[0m\n\u001b[1;32m    421\u001b[0m scaled \u001b[38;5;241m=\u001b[39m apply_read_scaling(\u001b[38;5;28mself\u001b[39m\u001b[38;5;241m.\u001b[39m_get_unscaled(slicer\u001b[38;5;241m=\u001b[39mslicer), scl_slope, scl_inter)\n\u001b[1;32m    422\u001b[0m \u001b[38;5;28;01mif\u001b[39;00m dtype \u001b[38;5;129;01mis\u001b[39;00m \u001b[38;5;129;01mnot\u001b[39;00m \u001b[38;5;28;01mNone\u001b[39;00m:\n\u001b[0;32m--> 423\u001b[0m     scaled \u001b[38;5;241m=\u001b[39m \u001b[43mscaled\u001b[49m\u001b[38;5;241;43m.\u001b[39;49m\u001b[43mastype\u001b[49m\u001b[43m(\u001b[49m\u001b[43mnp\u001b[49m\u001b[38;5;241;43m.\u001b[39;49m\u001b[43mpromote_types\u001b[49m\u001b[43m(\u001b[49m\u001b[43mscaled\u001b[49m\u001b[38;5;241;43m.\u001b[39;49m\u001b[43mdtype\u001b[49m\u001b[43m,\u001b[49m\u001b[43m \u001b[49m\u001b[43mdtype\u001b[49m\u001b[43m)\u001b[49m\u001b[43m,\u001b[49m\u001b[43m \u001b[49m\u001b[43mcopy\u001b[49m\u001b[38;5;241;43m=\u001b[39;49m\u001b[38;5;28;43;01mFalse\u001b[39;49;00m\u001b[43m)\u001b[49m\n\u001b[1;32m    424\u001b[0m \u001b[38;5;28;01mreturn\u001b[39;00m scaled\n",
      "\u001b[0;31mKeyboardInterrupt\u001b[0m: "
     ]
    }
   ],
   "source": [
    "import torch\n",
    "import torch.nn.functional as F\n",
    "import torch.nn as nn\n",
    "import numpy as np\n",
    "from tqdm import tqdm\n",
    "\n",
    "import torch\n",
    "import torch.nn.functional as F\n",
    "\n",
    "total_dice = 0\n",
    "total_samples = 0\n",
    "\n",
    "model.to(DEVICE)\n",
    "model.eval()\n",
    "total_loss = 0\n",
    "criterion = nn.CrossEntropyLoss(weight=class_weights)\n",
    "\n",
    "with torch.no_grad():\n",
    "    for batch_idx, (data, label) in tqdm(enumerate(test_loader), desc=\"Testing\"):\n",
    "        data, label = data.to(DEVICE), label.to(DEVICE)\n",
    "        data = torch.softmax(data, dim=1)  # (2, 5, 64, 64, 64)\n",
    "\n",
    "        # print(data.shape)\n",
    "        # print(label.shape)\n",
    "\n",
    "        output = model(data)  # Output shape: (batch, C, H, W, D)\n",
    "        \n",
    "        # IoU 계산\n",
    "        metric = MeanIoU(skip_background=True)\n",
    "        iou = metric(output, label)  # target을 byte로 변환\n",
    "        print(iou)\n",
    "        # Compute loss\n",
    "        loss = criterion(output, label_clone)  # CrossEntropyLoss expects (batch, C, H, W, D) and (batch, H, W, D)\n",
    "        total_loss += loss.item()\n",
    "\n",
    "        # update accuracy\n",
    "        total_dice += iou\n",
    "        total_samples += 1\n",
    "        \n",
    "# Compute average Dice Accuracy\n",
    "avg_dice = total_dice / total_samples\n",
    "avg_loss = total_loss / total_samples\n",
    "\n",
    "print(f\"Test Dice Accuracy: {avg_dice:.4f}\")\n",
    "print(f\"Average Test Loss: {avg_loss:.4f}\")\n"
   ]
  },
  {
   "cell_type": "code",
   "execution_count": null,
   "metadata": {},
   "outputs": [],
   "source": []
  }
 ],
 "metadata": {
  "kernelspec": {
   "display_name": "pytorch",
   "language": "python",
   "name": "python3"
  },
  "language_info": {
   "codemirror_mode": {
    "name": "ipython",
    "version": 3
   },
   "file_extension": ".py",
   "mimetype": "text/x-python",
   "name": "python",
   "nbconvert_exporter": "python",
   "pygments_lexer": "ipython3",
   "version": "3.12.2"
  }
 },
 "nbformat": 4,
 "nbformat_minor": 2
}
