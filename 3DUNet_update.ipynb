{
 "cells": [
  {
   "cell_type": "code",
   "execution_count": 24,
   "metadata": {},
   "outputs": [],
   "source": [
    "import os\n",
    "import shutil\n",
    "\n",
    "def organize_braTS_data(src_root=\"./data\", dst_root=\"./dataset\"):\n",
    "    \"\"\"\n",
    "    Extract ./TumorSegmentationData to data and label form\n",
    "    \"\"\"\n",
    "    os.makedirs(os.path.join(dst_root, \"data\"), exist_ok=True)\n",
    "    os.makedirs(os.path.join(dst_root, \"label\"), exist_ok=True)\n",
    "    \n",
    "    for folder in sorted(os.listdir(src_root)):\n",
    "        folder_path = os.path.join(src_root, folder)\n",
    "        if os.path.isdir(folder_path):\n",
    "            case_number = folder.split(\"_\")[-1]  # Extracting case number\n",
    "            \n",
    "            for file in os.listdir(folder_path):\n",
    "                src_file = os.path.join(folder_path, file)\n",
    "                if file.endswith(\"_t1.nii\"):\n",
    "                    dst_file = os.path.join(dst_root, \"data\", f\"data_{case_number}_t1.nii\")\n",
    "                    shutil.move(src_file, dst_file)\n",
    "                elif file.endswith(\"_seg.nii\"):\n",
    "                    dst_file = os.path.join(dst_root, \"label\", f\"label_{case_number}.nii\")\n",
    "                    shutil.move(src_file, dst_file)\n",
    "\n",
    "if __name__ == \"__main__\":\n",
    "    organize_braTS_data()"
   ]
  },
  {
   "cell_type": "code",
   "execution_count": 25,
   "metadata": {},
   "outputs": [],
   "source": [
    "import os\n",
    "import nibabel as nib\n",
    "import numpy as np\n",
    "from scipy import ndimage\n",
    "import torch\n",
    "import torch.nn as nn\n",
    "import torch.optim as optim\n",
    "from torch.utils.data import Dataset, DataLoader, random_split\n",
    "import matplotlib.pyplot as plt\n",
    "from tqdm import tqdm\n",
    "import scipy"
   ]
  },
  {
   "cell_type": "code",
   "execution_count": 26,
   "metadata": {},
   "outputs": [
    {
     "name": "stdout",
     "output_type": "stream",
     "text": [
      "Using CUDA!\n"
     ]
    }
   ],
   "source": [
    "DEVICE = None\n",
    "if torch.cuda.is_available():\n",
    "    DEVICE = torch.device(\"cuda:0\")\n",
    "    print(\"Using CUDA!\")\n",
    "else:\n",
    "    DEVICE = torch.device(\"cpu\")\n",
    "    print(\"Using CPU!\")\n",
    "EPOCHS = 100\n",
    "TRAIN_SPLIT = 0.8\n",
    "LR = 2e-3\n",
    "STEP_SIZE = 3\n",
    "GAMMA = 0.1\n",
    "MANUAL_SEED = 42\n",
    "BATCH_SIZE = 16\n",
    "TARGET_SIZE = 32"
   ]
  },
  {
   "cell_type": "code",
   "execution_count": 27,
   "metadata": {},
   "outputs": [],
   "source": [
    "import torch\n",
    "import numpy as np\n",
    "import random\n",
    "\n",
    "def set_random_seed(seed):\n",
    "    \"\"\"\n",
    "    모든 관련 라이브러리의 랜덤 시드를 고정합니다.\n",
    "    \n",
    "    Args:\n",
    "        seed (int): 고정할 랜덤 시드 값\n",
    "    \"\"\"\n",
    "    # Python 내장 랜덤 시드 고정\n",
    "    random.seed(seed)\n",
    "    \n",
    "    # NumPy 랜덤 시드 고정\n",
    "    np.random.seed(seed)\n",
    "    \n",
    "    # PyTorch 랜덤 시드 고정\n",
    "    torch.manual_seed(seed)  # CPU에서 PyTorch 랜덤 시드 고정\n",
    "    torch.cuda.manual_seed(seed)  # GPU에서 PyTorch 랜덤 시드 고정 (CUDA 장치)\n",
    "    torch.cuda.manual_seed_all(seed)  # 모든 GPU에서 PyTorch 랜덤 시드 고정\n",
    "    \n",
    "    # CuDNN 관련 설정\n",
    "    torch.backends.cudnn.deterministic = True  # 결정적 알고리즘을 사용하여 결과 고정\n",
    "    torch.backends.cudnn.benchmark = False  # 벤치마크 모드를 비활성화하여 성능 최적화 방지\n",
    "\n",
    "# 시드 고정 예시\n",
    "set_random_seed(MANUAL_SEED)"
   ]
  },
  {
   "cell_type": "code",
   "execution_count": 28,
   "metadata": {},
   "outputs": [],
   "source": [
    "def read_nifti_file(filepath):\n",
    "    \"\"\"Read and load volume\"\"\"\n",
    "    scan = nib.load(filepath)\n",
    "    scan = scan.get_fdata()\n",
    "    return scan\n",
    "\n",
    "def normalize(volume):\n",
    "    \"\"\"Normalize the volume\"\"\"\n",
    "    min_val = -1000\n",
    "    max_val = 400\n",
    "    volume[volume < min_val] = min_val\n",
    "    volume[volume > max_val] = max_val\n",
    "    volume = (volume - min_val) / (max_val - min_val)\n",
    "    volume = volume.astype(\"float32\")\n",
    "    return volume\n",
    "\n",
    "\n",
    "def resize(image, target_size):\n",
    "    \"\"\"이미지 크기 조정 (PIL 없이 numpy 기반)\"\"\"\n",
    "    if image.ndim == 2:\n",
    "        # 흑백 이미지 (H, W) 크기 조정\n",
    "        return scipy.ndimage.zoom(image, (target_size[0] / image.shape[0], target_size[1] / image.shape[1]), order=1)\n",
    "    elif image.ndim == 3:\n",
    "        # 컬러 이미지 (H, W, C) 크기 조정\n",
    "        zoom_factors = (target_size[0] / image.shape[0], target_size[1] / image.shape[1])\n",
    "        resized = np.stack([scipy.ndimage.zoom(image[..., i], zoom_factors, order=1) for i in range(image.shape[2])], axis=-1)\n",
    "        return resized\n",
    "    else:\n",
    "        raise ValueError(\"Unsupported image dimensions\")\n",
    "\n",
    "            \n",
    "def resize_volume(img):\n",
    "    \"\"\"Resize to 64x64x64\"\"\"\n",
    "    desired_depth = TARGET_SIZE\n",
    "    desired_width = TARGET_SIZE\n",
    "    desired_height = TARGET_SIZE\n",
    "    \n",
    "    current_depth = img.shape[-1]\n",
    "    current_width = img.shape[0]\n",
    "    current_height = img.shape[1]\n",
    "    \n",
    "    depth_factor = desired_depth / current_depth\n",
    "    width_factor = desired_width / current_width\n",
    "    height_factor = desired_height / current_height\n",
    "    \n",
    "    img = ndimage.zoom(img, (width_factor, height_factor, depth_factor), order=1)\n",
    "    return img"
   ]
  },
  {
   "cell_type": "code",
   "execution_count": 29,
   "metadata": {},
   "outputs": [
    {
     "name": "stdout",
     "output_type": "stream",
     "text": [
      "['label_1.nii', 'label_2.nii', 'label_3.nii', 'label_4.nii', 'label_5.nii', 'label_6.nii', 'label_7.nii', 'label_8.nii', 'label_9.nii', 'label_10.nii', 'label_11.nii', 'label_12.nii', 'label_13.nii', 'label_14.nii', 'label_15.nii', 'label_16.nii', 'label_17.nii', 'label_18.nii', 'label_19.nii', 'label_20.nii', 'label_21.nii', 'label_22.nii', 'label_23.nii', 'label_24.nii']\n",
      "Missing files: ['label_1.nii', 'label_2.nii', 'label_3.nii', 'label_4.nii', 'label_5.nii', 'label_6.nii', 'label_7.nii', 'label_8.nii', 'label_9.nii', 'label_10.nii', 'label_11.nii', 'label_12.nii', 'label_13.nii', 'label_14.nii', 'label_15.nii', 'label_16.nii', 'label_17.nii', 'label_18.nii', 'label_19.nii', 'label_20.nii', 'label_21.nii', 'label_22.nii', 'label_23.nii', 'label_24.nii']\n"
     ]
    }
   ],
   "source": [
    "import os\n",
    "\n",
    "# 경로 설정 (현재 작업 디렉토리 기준)\n",
    "data_dir = './dataset/label'\n",
    "\n",
    "# 숫자 001부터 369까지 파일이 있는지 확인 (_001, _002, ...)\n",
    "expected_files = [f\"label_{str(i)}.nii\" for i in range(1, 25)]\n",
    "print(expected_files)\n",
    "# 실제 파일 목록 가져오기\n",
    "try:\n",
    "    actual_files = sorted(os.listdir(data_dir))\n",
    "    # 실제 파일 목록에 있는지 확인\n",
    "    missing_files = [file for file in expected_files if file not in actual_files]\n",
    "\n",
    "    if missing_files:\n",
    "        print(\"Missing files:\", missing_files)\n",
    "    else:\n",
    "        print(\"All expected files are present.\")\n",
    "except FileNotFoundError:\n",
    "    print(f\"The directory {data_dir} does not exist.\")\n"
   ]
  },
  {
   "cell_type": "code",
   "execution_count": 30,
   "metadata": {},
   "outputs": [],
   "source": [
    "import os\n",
    "import torch\n",
    "import torch.nn.functional as F\n",
    "from torch.utils.data import Dataset\n",
    "\n",
    "class BraTSDataset(Dataset):\n",
    "    def __init__(self, data_dir, label_dir):\n",
    "        self.data_paths = sorted([f for f in os.listdir(data_dir) if f.endswith('.nii')])\n",
    "        self.label_paths = sorted([f for f in os.listdir(label_dir) if f.endswith('.nii')])\n",
    "        self.data_dir = data_dir\n",
    "        self.label_dir = label_dir\n",
    "\n",
    "        # 데이터와 라벨의 개수가 일치하는지 확인\n",
    "        assert len(self.data_paths) == len(self.label_paths), \\\n",
    "            f\"Mismatch between data and label files: {len(self.data_paths)} | {len(self.label_paths)}\"\n",
    "    \n",
    "    def __len__(self):\n",
    "        return len(self.data_paths)\n",
    "    \n",
    "    def __getitem__(self, idx):\n",
    "        data_path = os.path.join(self.data_dir, self.data_paths[idx])\n",
    "        label_path = os.path.join(self.label_dir, self.label_paths[idx])\n",
    "        \n",
    "        data = read_nifti_file(data_path)\n",
    "        label = read_nifti_file(label_path)     \n",
    "\n",
    "        # 최소, 최대 값 계산\n",
    "        # min_val = np.min(data)\n",
    "        # max_val = np.max(data)\n",
    "        # print(min_val, max_val)\n",
    "        data = normalize(data)\n",
    "        data = resize_volume(data)\n",
    "        label = resize_volume(label)\n",
    "\n",
    "        # Convert numpy to torch tensor\n",
    "        data = torch.tensor(data, dtype=torch.float32).unsqueeze(0)     # Add channel dimension\n",
    "        label = torch.tensor(label, dtype=torch.long)                   # For segmentation tasks, long type is needed for one-hot encoding\n",
    "    \n",
    "        # One-hot encoding: (64, 64, 64) -> (64, 64, 64, 5) -> (5, 64, 64, 64)\n",
    "        # label_one_hot = F.one_hot(label, num_classes=5).permute(3, 0, 1, 2).float()\n",
    "        label_one_hot = label\n",
    "        return data, label_one_hot\n"
   ]
  },
  {
   "cell_type": "code",
   "execution_count": 31,
   "metadata": {},
   "outputs": [],
   "source": [
    "dataset = BraTSDataset(\"./dataset/data\", \"./dataset/label\")\n",
    "train_size = int(0.8 * len(dataset))\n",
    "test_size = len(dataset) - train_size\n",
    "train_dataset, test_dataset = random_split(dataset, [train_size, test_size])\n",
    "\n",
    "train_loader = DataLoader(train_dataset, batch_size=BATCH_SIZE, shuffle=True)\n",
    "test_loader = DataLoader(test_dataset, batch_size=BATCH_SIZE, shuffle=False)"
   ]
  },
  {
   "cell_type": "code",
   "execution_count": 32,
   "metadata": {},
   "outputs": [
    {
     "name": "stdout",
     "output_type": "stream",
     "text": [
      "data shape:  torch.Size([1, 32, 32, 32]) <class 'torch.Tensor'>\n",
      "label shape:  torch.Size([32, 32, 32]) <class 'torch.Tensor'>\n",
      "(32, 32, 32)\n",
      "torch.Size([32, 32, 32])\n"
     ]
    },
    {
     "data": {
      "image/png": "[encoded data removed]",
      "text/plain": [
       "<Figure size 1000x500 with 2 Axes>"
      ]
     },
     "metadata": {},
     "output_type": "display_data"
    }
   ],
   "source": [
    "def visualize_sample(dataset, idx=0):\n",
    "    \"\"\"Visualize a single sample from the dataset\"\"\"\n",
    "    data, label = dataset[idx]\n",
    "    print(\"data shape: \", data.shape, type(data))\n",
    "    print(\"label shape: \", label.shape, type(label))\n",
    "    \n",
    "    data = data.squeeze().numpy()\n",
    "    # label = torch.argmax(label, dim=0)\n",
    "    \n",
    "    print(data.shape)\n",
    "    print(label.shape)\n",
    "    slice_idx = data.shape[-1] // 2  # Select middle slice\n",
    "    \n",
    "    fig, axes = plt.subplots(1, 2, figsize=(10, 5))\n",
    "    axes[0].imshow(data[:, :, slice_idx], cmap='gray')\n",
    "    axes[0].set_title(\"MRI Scan\")\n",
    "    \n",
    "    axes[1].imshow(label[:, :, slice_idx], cmap='jet')\n",
    "    axes[1].set_title(\"Segmentation Label\")\n",
    "    \n",
    "    plt.show()\n",
    "\n",
    "visualize_sample(dataset, idx=0)"
   ]
  },
  {
   "cell_type": "code",
   "execution_count": 33,
   "metadata": {},
   "outputs": [],
   "source": [
    "import torch\n",
    "import torch.nn as nn\n",
    "import torch.nn.functional as F\n",
    "\n",
    "class DoubleConv(nn.Module):\n",
    "    \"\"\" (Conv3D -> BN -> ReLU) * 2 \"\"\"\n",
    "    def __init__(self, in_channels, mid_channels, out_channels):\n",
    "        super(DoubleConv, self).__init__()\n",
    "        self.conv = nn.Sequential(\n",
    "            nn.Conv3d(in_channels, mid_channels, kernel_size=3, padding=1),\n",
    "            nn.BatchNorm3d(mid_channels),\n",
    "            nn.ReLU(inplace=True),\n",
    "            nn.Conv3d(mid_channels, out_channels, kernel_size=3, padding=1),\n",
    "            nn.BatchNorm3d(out_channels),\n",
    "            nn.ReLU(inplace=True),\n",
    "        )\n",
    "\n",
    "    def forward(self, x):\n",
    "        return self.conv(x)\n",
    "\n",
    "class UpConv(nn.Module):\n",
    "    \"\"\" (Conv3D -> ReLU) * 2 \"\"\"\n",
    "    def __init__(self, in_channels, out_channels):\n",
    "        super(UpConv, self).__init__()\n",
    "        self.upconv = nn.Sequential(\n",
    "            nn.ConvTranspose3d(in_channels, out_channels, kernel_size=2, stride=2),\n",
    "            nn.Conv3d(out_channels, out_channels, kernel_size=3, padding=1),\n",
    "            nn.ReLU(inplace=True),\n",
    "            nn.Conv3d(out_channels, out_channels, kernel_size=3, padding=1),\n",
    "            nn.ReLU(inplace=True),\n",
    "        )\n",
    "\n",
    "    def forward(self, x):\n",
    "        return self.upconv(x)\n",
    "\n",
    "class UNet3D(nn.Module):\n",
    "    def __init__(self, in_channels, out_channels, base_channels=32):\n",
    "        super(UNet3D, self).__init__()\n",
    "\n",
    "        self.encoder1 = DoubleConv(in_channels, base_channels, base_channels * 2)\n",
    "        self.pool1 = nn.MaxPool3d(kernel_size=2, stride=2)\n",
    "\n",
    "        self.encoder2 = DoubleConv(base_channels * 2, base_channels * 2, base_channels * 4)\n",
    "        self.pool2 = nn.MaxPool3d(kernel_size=2, stride=2)\n",
    "\n",
    "        self.encoder3 = DoubleConv(base_channels * 4, base_channels * 4, base_channels * 8)\n",
    "        self.pool3 = nn.MaxPool3d(kernel_size=2, stride=2)\n",
    "\n",
    "        self.encoder4 = DoubleConv(base_channels * 8, base_channels * 8, base_channels * 16)\n",
    "\n",
    "        self.upconv3 = UpConv(base_channels * 16, base_channels * 16)\n",
    "        self.decoder3 = DoubleConv(base_channels * 24, base_channels * 8, base_channels * 8)\n",
    "\n",
    "        self.upconv2 = UpConv(base_channels * 8, base_channels * 8)\n",
    "        self.decoder2 = DoubleConv(base_channels * 12, base_channels * 4, base_channels * 4)\n",
    "\n",
    "        self.upconv1 = UpConv(base_channels * 4, base_channels * 4)\n",
    "        self.decoder1 = DoubleConv(base_channels * 6, base_channels * 2, base_channels * 2)\n",
    "\n",
    "        self.outconv = nn.Conv3d(base_channels * 2, out_channels, kernel_size=1)\n",
    "\n",
    "    def forward(self, x):\n",
    "        enc1 = self.encoder1(x)\n",
    "        enc2 = self.encoder2(self.pool1(enc1))\n",
    "        enc3 = self.encoder3(self.pool2(enc2))\n",
    "        enc4 = self.encoder4(self.pool3(enc3))\n",
    "\n",
    "        dec3 = self.upconv3(enc4)\n",
    "        dec3 = torch.cat((dec3, enc3), dim=1)\n",
    "        dec3 = self.decoder3(dec3)\n",
    "\n",
    "        dec2 = self.upconv2(dec3)\n",
    "        dec2 = torch.cat((dec2, enc2), dim=1)\n",
    "        dec2 = self.decoder2(dec2)\n",
    "\n",
    "        dec1 = self.upconv1(dec2)\n",
    "        dec1 = torch.cat((dec1, enc1), dim=1)\n",
    "        dec1 = self.decoder1(dec1)\n",
    "\n",
    "        out = self.outconv(dec1)\n",
    "\n",
    "        return out"
   ]
  },
  {
   "cell_type": "code",
   "execution_count": 34,
   "metadata": {},
   "outputs": [
    {
     "name": "stdout",
     "output_type": "stream",
     "text": [
      "torch.Size([1, 5, 64, 64, 64])\n"
     ]
    }
   ],
   "source": [
    "model = UNet3D(in_channels=1, out_channels=5) # Tumor 1,2,3,4 | 배경\n",
    "x = torch.randn(1, 1, 64, 64, 64)  # Example 3D volume\n",
    "output = model(x)\n",
    "print(output.shape)"
   ]
  },
  {
   "cell_type": "code",
   "execution_count": 35,
   "metadata": {},
   "outputs": [],
   "source": [
    "import torch\n",
    "torch.cuda.empty_cache()"
   ]
  },
  {
   "cell_type": "code",
   "execution_count": 36,
   "metadata": {},
   "outputs": [
    {
     "name": "stdout",
     "output_type": "stream",
     "text": [
      "Class Weights: tensor([2.0202e-01, 5.1284e+01, 4.6823e+01, 2.7771e+02, 1.7859e+02],\n",
      "       device='cuda:0')\n"
     ]
    }
   ],
   "source": [
    "from collections import Counter\n",
    "import numpy as np\n",
    "\n",
    "# 데이터셋에서 클래스별 샘플 개수 계산\n",
    "labels = []  # 전체 데이터셋에서 라벨을 수집해야 함\n",
    "\n",
    "for _, label in train_loader:\n",
    "    # label = torch.argmax(label, dim=1)  # 원-핫 벡터를 클래스 인덱스로 변환\n",
    "    labels.extend(label.cpu().numpy().flatten())  # numpy 배열로 변환 후 리스트에 추가\n",
    "\n",
    "# 클래스별 샘플 개수 계산\n",
    "class_counts = Counter(labels)\n",
    "total_samples = sum(class_counts.values())\n",
    "\n",
    "# 가중치 계산: 총 샘플 수 / (클래스별 샘플 수 * 클래스 개수)\n",
    "class_weights = {cls: total_samples / (count * len(class_counts)) for cls, count in class_counts.items()}\n",
    "class_weights = torch.tensor(list(class_weights.values()), dtype=torch.float).to(DEVICE)\n",
    "\n",
    "print(\"Class Weights:\", class_weights)"
   ]
  },
  {
   "cell_type": "code",
   "execution_count": 37,
   "metadata": {},
   "outputs": [
    {
     "name": "stdout",
     "output_type": "stream",
     "text": [
      "/home/jjpark/SKKAI/3D-Tumor-Segmentation\n"
     ]
    }
   ],
   "source": [
    "import os\n",
    "\n",
    "#현재 폴더 경로; 작업 폴더 기준\n",
    "print(os.getcwd())"
   ]
  },
  {
   "cell_type": "code",
   "execution_count": 45,
   "metadata": {},
   "outputs": [
    {
     "name": "stderr",
     "output_type": "stream",
     "text": [
      "/home/jjpark/venv/lib/python3.12/site-packages/torch/optim/lr_scheduler.py:62: UserWarning: The verbose parameter is deprecated. Please use get_last_lr() to access the learning rate.\n",
      "  warnings.warn(\n"
     ]
    },
    {
     "name": "stdout",
     "output_type": "stream",
     "text": [
      "Starting training with: Learning Rate=0.001, Batch Size=16\n",
      "Using Dice Loss (ignore_background=True)\n",
      "Early stopping patience: 15\n"
     ]
    },
    {
     "name": "stderr",
     "output_type": "stream",
     "text": [
      "Epoch 1/100:   0%|          | 0/15 [00:00<?, ?it/s]"
     ]
    },
    {
     "name": "stderr",
     "output_type": "stream",
     "text": [
      "Epoch 1/100: 100%|██████████| 15/15 [00:14<00:00,  1.05it/s, acc=0.9649, dice=0.1065, loss=0.8935]\n",
      "Validation 1/100: 100%|██████████| 4/4 [00:03<00:00,  1.18it/s, acc=0.9878, dice=0.0280, loss=0.9720]\n"
     ]
    },
    {
     "name": "stdout",
     "output_type": "stream",
     "text": [
      "Epoch 1/100 - Train Loss: 0.9082, Train Acc: 0.9708, Train Dice: 0.0918, Val Loss: 0.9644, Val Acc: 0.9890, Val Dice: 0.0356, LR: 0.001000\n",
      "✓ Saved new best model with validation loss: 0.9644 (Dice: 0.0356)\n"
     ]
    },
    {
     "name": "stderr",
     "output_type": "stream",
     "text": [
      "Epoch 2/100: 100%|██████████| 15/15 [00:14<00:00,  1.06it/s, acc=0.9640, dice=0.1215, loss=0.8785]\n",
      "Validation 2/100: 100%|██████████| 4/4 [00:03<00:00,  1.18it/s, acc=0.9857, dice=0.0676, loss=0.9324]\n"
     ]
    },
    {
     "name": "stdout",
     "output_type": "stream",
     "text": [
      "Epoch 2/100 - Train Loss: 0.8979, Train Acc: 0.9722, Train Dice: 0.1021, Val Loss: 0.9208, Val Acc: 0.9856, Val Dice: 0.0792, LR: 0.001000\n",
      "✓ Saved new best model with validation loss: 0.9208 (Dice: 0.0792)\n"
     ]
    },
    {
     "name": "stderr",
     "output_type": "stream",
     "text": [
      "Epoch 3/100: 100%|██████████| 15/15 [00:14<00:00,  1.06it/s, acc=0.9732, dice=0.1437, loss=0.8563]\n",
      "Validation 3/100: 100%|██████████| 4/4 [00:03<00:00,  1.19it/s, acc=0.9878, dice=0.0288, loss=0.9712]\n"
     ]
    },
    {
     "name": "stdout",
     "output_type": "stream",
     "text": [
      "Epoch 3/100 - Train Loss: 0.8934, Train Acc: 0.9742, Train Dice: 0.1066, Val Loss: 0.9628, Val Acc: 0.9890, Val Dice: 0.0372, LR: 0.001000\n",
      "Early stopping counter: 1/15\n"
     ]
    },
    {
     "name": "stderr",
     "output_type": "stream",
     "text": [
      "Epoch 4/100: 100%|██████████| 15/15 [00:14<00:00,  1.06it/s, acc=0.9729, dice=0.1356, loss=0.8644]\n",
      "Validation 4/100: 100%|██████████| 4/4 [00:03<00:00,  1.17it/s, acc=0.9710, dice=0.0926, loss=0.9074]\n"
     ]
    },
    {
     "name": "stdout",
     "output_type": "stream",
     "text": [
      "Epoch 4/100 - Train Loss: 0.8935, Train Acc: 0.9757, Train Dice: 0.1065, Val Loss: 0.8986, Val Acc: 0.9721, Val Dice: 0.1014, LR: 0.001000\n",
      "✓ Saved new best model with validation loss: 0.8986 (Dice: 0.1014)\n"
     ]
    },
    {
     "name": "stderr",
     "output_type": "stream",
     "text": [
      "Epoch 5/100: 100%|██████████| 15/15 [00:14<00:00,  1.06it/s, acc=0.9703, dice=0.0830, loss=0.9170]\n",
      "Validation 5/100: 100%|██████████| 4/4 [00:03<00:00,  1.17it/s, acc=0.9258, dice=0.0758, loss=0.9242]\n"
     ]
    },
    {
     "name": "stdout",
     "output_type": "stream",
     "text": [
      "Epoch 5/100 - Train Loss: 0.8947, Train Acc: 0.9761, Train Dice: 0.1053, Val Loss: 0.9190, Val Acc: 0.9227, Val Dice: 0.0810, LR: 0.001000\n",
      "Early stopping counter: 1/15\n"
     ]
    },
    {
     "name": "stderr",
     "output_type": "stream",
     "text": [
      "Epoch 6/100: 100%|██████████| 15/15 [00:14<00:00,  1.06it/s, acc=0.9788, dice=0.1393, loss=0.8607]\n",
      "Validation 6/100: 100%|██████████| 4/4 [00:03<00:00,  1.18it/s, acc=0.9080, dice=0.0208, loss=0.9792]\n"
     ]
    },
    {
     "name": "stdout",
     "output_type": "stream",
     "text": [
      "Epoch 6/100 - Train Loss: 0.8907, Train Acc: 0.9776, Train Dice: 0.1093, Val Loss: 0.9761, Val Acc: 0.9111, Val Dice: 0.0239, LR: 0.001000\n",
      "Early stopping counter: 2/15\n"
     ]
    },
    {
     "name": "stderr",
     "output_type": "stream",
     "text": [
      "Epoch 7/100: 100%|██████████| 15/15 [00:14<00:00,  1.06it/s, acc=0.9799, dice=0.1230, loss=0.8770]\n",
      "Validation 7/100: 100%|██████████| 4/4 [00:03<00:00,  1.18it/s, acc=0.9416, dice=0.0667, loss=0.9333]\n"
     ]
    },
    {
     "name": "stdout",
     "output_type": "stream",
     "text": [
      "Epoch 7/100 - Train Loss: 0.8866, Train Acc: 0.9763, Train Dice: 0.1134, Val Loss: 0.9321, Val Acc: 0.9406, Val Dice: 0.0679, LR: 0.001000\n",
      "Early stopping counter: 3/15\n"
     ]
    },
    {
     "name": "stderr",
     "output_type": "stream",
     "text": [
      "Epoch 8/100: 100%|██████████| 15/15 [00:14<00:00,  1.07it/s, acc=0.9804, dice=0.1373, loss=0.8627]\n",
      "Validation 8/100: 100%|██████████| 4/4 [00:03<00:00,  1.19it/s, acc=0.9837, dice=0.0629, loss=0.9371]\n"
     ]
    },
    {
     "name": "stdout",
     "output_type": "stream",
     "text": [
      "Epoch 8/100 - Train Loss: 0.8875, Train Acc: 0.9753, Train Dice: 0.1125, Val Loss: 0.9347, Val Acc: 0.9881, Val Dice: 0.0653, LR: 0.001000\n",
      "Early stopping counter: 4/15\n"
     ]
    },
    {
     "name": "stderr",
     "output_type": "stream",
     "text": [
      "Epoch 9/100: 100%|██████████| 15/15 [00:14<00:00,  1.06it/s, acc=0.9810, dice=0.1152, loss=0.8848]\n",
      "Validation 9/100: 100%|██████████| 4/4 [00:03<00:00,  1.17it/s, acc=0.9878, dice=0.0278, loss=0.9722]\n"
     ]
    },
    {
     "name": "stdout",
     "output_type": "stream",
     "text": [
      "Epoch 9/100 - Train Loss: 0.8874, Train Acc: 0.9726, Train Dice: 0.1126, Val Loss: 0.9639, Val Acc: 0.9890, Val Dice: 0.0361, LR: 0.001000\n",
      "Early stopping counter: 5/15\n"
     ]
    },
    {
     "name": "stderr",
     "output_type": "stream",
     "text": [
      "Epoch 10/100: 100%|██████████| 15/15 [00:14<00:00,  1.06it/s, acc=0.9897, dice=0.1120, loss=0.8880]\n",
      "Validation 10/100: 100%|██████████| 4/4 [00:03<00:00,  1.18it/s, acc=0.9597, dice=0.0962, loss=0.9038]\n"
     ]
    },
    {
     "name": "stdout",
     "output_type": "stream",
     "text": [
      "Epoch 10/100 - Train Loss: 0.8871, Train Acc: 0.9799, Train Dice: 0.1129, Val Loss: 0.9009, Val Acc: 0.9595, Val Dice: 0.0991, LR: 0.001000\n",
      "Early stopping counter: 6/15\n"
     ]
    },
    {
     "name": "stderr",
     "output_type": "stream",
     "text": [
      "Epoch 11/100: 100%|██████████| 15/15 [00:14<00:00,  1.06it/s, acc=0.9837, dice=0.1330, loss=0.8670]\n",
      "Validation 11/100: 100%|██████████| 4/4 [00:03<00:00,  1.18it/s, acc=0.9879, dice=0.0361, loss=0.9639]\n"
     ]
    },
    {
     "name": "stdout",
     "output_type": "stream",
     "text": [
      "Epoch 11/100 - Train Loss: 0.8800, Train Acc: 0.9793, Train Dice: 0.1200, Val Loss: 0.9555, Val Acc: 0.9891, Val Dice: 0.0445, LR: 0.000500\n",
      "Early stopping counter: 7/15\n"
     ]
    },
    {
     "name": "stderr",
     "output_type": "stream",
     "text": [
      "Epoch 12/100: 100%|██████████| 15/15 [00:14<00:00,  1.06it/s, acc=0.9723, dice=0.1226, loss=0.8774]\n",
      "Validation 12/100: 100%|██████████| 4/4 [00:03<00:00,  1.17it/s, acc=0.9864, dice=0.0561, loss=0.9439]\n"
     ]
    },
    {
     "name": "stdout",
     "output_type": "stream",
     "text": [
      "Epoch 12/100 - Train Loss: 0.8770, Train Acc: 0.9784, Train Dice: 0.1230, Val Loss: 0.9464, Val Acc: 0.9879, Val Dice: 0.0536, LR: 0.000500\n",
      "Early stopping counter: 8/15\n"
     ]
    },
    {
     "name": "stderr",
     "output_type": "stream",
     "text": [
      "Epoch 13/100: 100%|██████████| 15/15 [00:14<00:00,  1.06it/s, acc=0.9770, dice=0.1342, loss=0.8658]\n",
      "Validation 13/100: 100%|██████████| 4/4 [00:03<00:00,  1.18it/s, acc=0.9877, dice=0.0875, loss=0.9125]\n"
     ]
    },
    {
     "name": "stdout",
     "output_type": "stream",
     "text": [
      "Epoch 13/100 - Train Loss: 0.8759, Train Acc: 0.9782, Train Dice: 0.1241, Val Loss: 0.9113, Val Acc: 0.9882, Val Dice: 0.0887, LR: 0.000500\n",
      "Early stopping counter: 9/15\n"
     ]
    },
    {
     "name": "stderr",
     "output_type": "stream",
     "text": [
      "Epoch 14/100: 100%|██████████| 15/15 [00:14<00:00,  1.05it/s, acc=0.9770, dice=0.1293, loss=0.8707]\n",
      "Validation 14/100: 100%|██████████| 4/4 [00:03<00:00,  1.18it/s, acc=0.9756, dice=0.1194, loss=0.8806]\n"
     ]
    },
    {
     "name": "stdout",
     "output_type": "stream",
     "text": [
      "Epoch 14/100 - Train Loss: 0.8732, Train Acc: 0.9784, Train Dice: 0.1268, Val Loss: 0.8802, Val Acc: 0.9739, Val Dice: 0.1198, LR: 0.000500\n",
      "✓ Saved new best model with validation loss: 0.8802 (Dice: 0.1198)\n"
     ]
    },
    {
     "name": "stderr",
     "output_type": "stream",
     "text": [
      "Epoch 15/100: 100%|██████████| 15/15 [00:14<00:00,  1.06it/s, acc=0.9794, dice=0.1144, loss=0.8856]\n",
      "Validation 15/100: 100%|██████████| 4/4 [00:03<00:00,  1.17it/s, acc=0.4350, dice=0.0338, loss=0.9662]\n"
     ]
    },
    {
     "name": "stdout",
     "output_type": "stream",
     "text": [
      "Epoch 15/100 - Train Loss: 0.8744, Train Acc: 0.9800, Train Dice: 0.1256, Val Loss: 0.9565, Val Acc: 0.4304, Val Dice: 0.0435, LR: 0.000500\n",
      "Early stopping counter: 1/15\n"
     ]
    },
    {
     "name": "stderr",
     "output_type": "stream",
     "text": [
      "Epoch 16/100: 100%|██████████| 15/15 [00:14<00:00,  1.06it/s, acc=0.9806, dice=0.1285, loss=0.8715]\n",
      "Validation 16/100: 100%|██████████| 4/4 [00:03<00:00,  1.18it/s, acc=0.9785, dice=0.1132, loss=0.8868]\n"
     ]
    },
    {
     "name": "stdout",
     "output_type": "stream",
     "text": [
      "Epoch 16/100 - Train Loss: 0.8754, Train Acc: 0.9796, Train Dice: 0.1246, Val Loss: 0.8803, Val Acc: 0.9765, Val Dice: 0.1197, LR: 0.000500\n",
      "Early stopping counter: 2/15\n"
     ]
    },
    {
     "name": "stderr",
     "output_type": "stream",
     "text": [
      "Epoch 17/100: 100%|██████████| 15/15 [00:14<00:00,  1.05it/s, acc=0.9784, dice=0.1115, loss=0.8885]\n",
      "Validation 17/100: 100%|██████████| 4/4 [00:03<00:00,  1.18it/s, acc=0.9878, dice=0.0274, loss=0.9726]\n"
     ]
    },
    {
     "name": "stdout",
     "output_type": "stream",
     "text": [
      "Epoch 17/100 - Train Loss: 0.8744, Train Acc: 0.9793, Train Dice: 0.1256, Val Loss: 0.9641, Val Acc: 0.9890, Val Dice: 0.0359, LR: 0.000500\n",
      "Early stopping counter: 3/15\n"
     ]
    },
    {
     "name": "stderr",
     "output_type": "stream",
     "text": [
      "Epoch 18/100: 100%|██████████| 15/15 [00:14<00:00,  1.06it/s, acc=0.9805, dice=0.1086, loss=0.8914]\n",
      "Validation 18/100: 100%|██████████| 4/4 [00:03<00:00,  1.18it/s, acc=0.9657, dice=0.1230, loss=0.8770]\n"
     ]
    },
    {
     "name": "stdout",
     "output_type": "stream",
     "text": [
      "Epoch 18/100 - Train Loss: 0.8742, Train Acc: 0.9809, Train Dice: 0.1258, Val Loss: 0.8830, Val Acc: 0.9607, Val Dice: 0.1170, LR: 0.000500\n",
      "Early stopping counter: 4/15\n"
     ]
    },
    {
     "name": "stderr",
     "output_type": "stream",
     "text": [
      "Epoch 19/100: 100%|██████████| 15/15 [00:14<00:00,  1.06it/s, acc=0.9798, dice=0.1177, loss=0.8823]\n",
      "Validation 19/100: 100%|██████████| 4/4 [00:03<00:00,  1.16it/s, acc=0.9745, dice=0.1130, loss=0.8870]\n"
     ]
    },
    {
     "name": "stdout",
     "output_type": "stream",
     "text": [
      "Epoch 19/100 - Train Loss: 0.8691, Train Acc: 0.9803, Train Dice: 0.1309, Val Loss: 0.8840, Val Acc: 0.9728, Val Dice: 0.1160, LR: 0.000500\n",
      "Early stopping counter: 5/15\n"
     ]
    },
    {
     "name": "stderr",
     "output_type": "stream",
     "text": [
      "Epoch 20/100: 100%|██████████| 15/15 [00:14<00:00,  1.06it/s, acc=0.9765, dice=0.1146, loss=0.8854]\n",
      "Validation 20/100: 100%|██████████| 4/4 [00:03<00:00,  1.18it/s, acc=0.9875, dice=0.1032, loss=0.8968]\n"
     ]
    },
    {
     "name": "stdout",
     "output_type": "stream",
     "text": [
      "Epoch 20/100 - Train Loss: 0.8681, Train Acc: 0.9803, Train Dice: 0.1319, Val Loss: 0.8935, Val Acc: 0.9878, Val Dice: 0.1065, LR: 0.000500\n",
      "Early stopping counter: 6/15\n"
     ]
    },
    {
     "name": "stderr",
     "output_type": "stream",
     "text": [
      "Epoch 21/100: 100%|██████████| 15/15 [00:14<00:00,  1.06it/s, acc=0.9815, dice=0.1418, loss=0.8582]\n",
      "Validation 21/100: 100%|██████████| 4/4 [00:03<00:00,  1.17it/s, acc=0.9771, dice=0.1120, loss=0.8880]\n"
     ]
    },
    {
     "name": "stdout",
     "output_type": "stream",
     "text": [
      "Epoch 21/100 - Train Loss: 0.8646, Train Acc: 0.9816, Train Dice: 0.1354, Val Loss: 0.8747, Val Acc: 0.9780, Val Dice: 0.1253, LR: 0.000250\n",
      "✓ Saved new best model with validation loss: 0.8747 (Dice: 0.1253)\n"
     ]
    },
    {
     "name": "stderr",
     "output_type": "stream",
     "text": [
      "Epoch 22/100: 100%|██████████| 15/15 [00:14<00:00,  1.06it/s, acc=0.9873, dice=0.1451, loss=0.8549]\n",
      "Validation 22/100: 100%|██████████| 4/4 [00:03<00:00,  1.17it/s, acc=0.9889, dice=0.0903, loss=0.9097]\n"
     ]
    },
    {
     "name": "stdout",
     "output_type": "stream",
     "text": [
      "Epoch 22/100 - Train Loss: 0.8638, Train Acc: 0.9815, Train Dice: 0.1362, Val Loss: 0.9168, Val Acc: 0.9896, Val Dice: 0.0832, LR: 0.000250\n",
      "Early stopping counter: 1/15\n"
     ]
    },
    {
     "name": "stderr",
     "output_type": "stream",
     "text": [
      "Epoch 23/100: 100%|██████████| 15/15 [00:14<00:00,  1.05it/s, acc=0.9849, dice=0.1780, loss=0.8220]\n",
      "Validation 23/100: 100%|██████████| 4/4 [00:03<00:00,  1.17it/s, acc=0.9860, dice=0.1108, loss=0.8892]\n"
     ]
    },
    {
     "name": "stdout",
     "output_type": "stream",
     "text": [
      "Epoch 23/100 - Train Loss: 0.8605, Train Acc: 0.9822, Train Dice: 0.1395, Val Loss: 0.8790, Val Acc: 0.9864, Val Dice: 0.1210, LR: 0.000250\n",
      "Early stopping counter: 2/15\n"
     ]
    },
    {
     "name": "stderr",
     "output_type": "stream",
     "text": [
      "Epoch 24/100: 100%|██████████| 15/15 [00:14<00:00,  1.05it/s, acc=0.9869, dice=0.1453, loss=0.8547]\n",
      "Validation 24/100: 100%|██████████| 4/4 [00:03<00:00,  1.17it/s, acc=0.9886, dice=0.0882, loss=0.9118]\n"
     ]
    },
    {
     "name": "stdout",
     "output_type": "stream",
     "text": [
      "Epoch 24/100 - Train Loss: 0.8612, Train Acc: 0.9826, Train Dice: 0.1388, Val Loss: 0.9094, Val Acc: 0.9894, Val Dice: 0.0906, LR: 0.000250\n",
      "Early stopping counter: 3/15\n"
     ]
    },
    {
     "name": "stderr",
     "output_type": "stream",
     "text": [
      "Epoch 25/100: 100%|██████████| 15/15 [00:14<00:00,  1.06it/s, acc=0.9849, dice=0.1263, loss=0.8737]\n",
      "Validation 25/100: 100%|██████████| 4/4 [00:03<00:00,  1.18it/s, acc=0.9773, dice=0.1135, loss=0.8865]\n"
     ]
    },
    {
     "name": "stdout",
     "output_type": "stream",
     "text": [
      "Epoch 25/100 - Train Loss: 0.8607, Train Acc: 0.9830, Train Dice: 0.1393, Val Loss: 0.8729, Val Acc: 0.9761, Val Dice: 0.1271, LR: 0.000250\n",
      "✓ Saved new best model with validation loss: 0.8729 (Dice: 0.1271)\n"
     ]
    },
    {
     "name": "stderr",
     "output_type": "stream",
     "text": [
      "Epoch 26/100: 100%|██████████| 15/15 [00:14<00:00,  1.05it/s, acc=0.9788, dice=0.1324, loss=0.8676]\n",
      "Validation 26/100: 100%|██████████| 4/4 [00:03<00:00,  1.18it/s, acc=0.9679, dice=0.0634, loss=0.9366]\n"
     ]
    },
    {
     "name": "stdout",
     "output_type": "stream",
     "text": [
      "Epoch 26/100 - Train Loss: 0.8585, Train Acc: 0.9823, Train Dice: 0.1415, Val Loss: 0.9332, Val Acc: 0.9689, Val Dice: 0.0668, LR: 0.000250\n",
      "Early stopping counter: 1/15\n"
     ]
    },
    {
     "name": "stderr",
     "output_type": "stream",
     "text": [
      "Epoch 27/100: 100%|██████████| 15/15 [00:14<00:00,  1.05it/s, acc=0.9814, dice=0.1583, loss=0.8417]\n",
      "Validation 27/100: 100%|██████████| 4/4 [00:03<00:00,  1.18it/s, acc=0.9522, dice=0.0602, loss=0.9398]\n"
     ]
    },
    {
     "name": "stdout",
     "output_type": "stream",
     "text": [
      "Epoch 27/100 - Train Loss: 0.8562, Train Acc: 0.9825, Train Dice: 0.1438, Val Loss: 0.9331, Val Acc: 0.9543, Val Dice: 0.0669, LR: 0.000250\n",
      "Early stopping counter: 2/15\n"
     ]
    },
    {
     "name": "stderr",
     "output_type": "stream",
     "text": [
      "Epoch 28/100: 100%|██████████| 15/15 [00:14<00:00,  1.06it/s, acc=0.9790, dice=0.1305, loss=0.8695]\n",
      "Validation 28/100: 100%|██████████| 4/4 [00:03<00:00,  1.18it/s, acc=0.9809, dice=0.0798, loss=0.9202]\n"
     ]
    },
    {
     "name": "stdout",
     "output_type": "stream",
     "text": [
      "Epoch 28/100 - Train Loss: 0.8556, Train Acc: 0.9827, Train Dice: 0.1444, Val Loss: 0.9097, Val Acc: 0.9830, Val Dice: 0.0903, LR: 0.000250\n",
      "Early stopping counter: 3/15\n"
     ]
    },
    {
     "name": "stderr",
     "output_type": "stream",
     "text": [
      "Epoch 29/100: 100%|██████████| 15/15 [00:14<00:00,  1.05it/s, acc=0.9846, dice=0.1279, loss=0.8721]\n",
      "Validation 29/100: 100%|██████████| 4/4 [00:03<00:00,  1.18it/s, acc=0.9305, dice=0.0496, loss=0.9504]\n"
     ]
    },
    {
     "name": "stdout",
     "output_type": "stream",
     "text": [
      "Epoch 29/100 - Train Loss: 0.8543, Train Acc: 0.9835, Train Dice: 0.1457, Val Loss: 0.9446, Val Acc: 0.9318, Val Dice: 0.0554, LR: 0.000250\n",
      "Early stopping counter: 4/15\n"
     ]
    },
    {
     "name": "stderr",
     "output_type": "stream",
     "text": [
      "Epoch 30/100: 100%|██████████| 15/15 [00:14<00:00,  1.06it/s, acc=0.9851, dice=0.1340, loss=0.8660]\n",
      "Validation 30/100: 100%|██████████| 4/4 [00:03<00:00,  1.18it/s, acc=0.9779, dice=0.1268, loss=0.8732]\n"
     ]
    },
    {
     "name": "stdout",
     "output_type": "stream",
     "text": [
      "Epoch 30/100 - Train Loss: 0.8536, Train Acc: 0.9827, Train Dice: 0.1464, Val Loss: 0.8733, Val Acc: 0.9784, Val Dice: 0.1267, LR: 0.000250\n",
      "Early stopping counter: 5/15\n"
     ]
    },
    {
     "name": "stderr",
     "output_type": "stream",
     "text": [
      "Epoch 31/100: 100%|██████████| 15/15 [00:14<00:00,  1.05it/s, acc=0.9773, dice=0.1110, loss=0.8890]\n",
      "Validation 31/100: 100%|██████████| 4/4 [00:03<00:00,  1.18it/s, acc=0.9700, dice=0.1230, loss=0.8770]\n"
     ]
    },
    {
     "name": "stdout",
     "output_type": "stream",
     "text": [
      "Epoch 31/100 - Train Loss: 0.8553, Train Acc: 0.9834, Train Dice: 0.1447, Val Loss: 0.8731, Val Acc: 0.9689, Val Dice: 0.1269, LR: 0.000250\n",
      "Early stopping counter: 6/15\n"
     ]
    },
    {
     "name": "stderr",
     "output_type": "stream",
     "text": [
      "Epoch 32/100: 100%|██████████| 15/15 [00:14<00:00,  1.05it/s, acc=0.9860, dice=0.1525, loss=0.8475]\n",
      "Validation 32/100: 100%|██████████| 4/4 [00:03<00:00,  1.18it/s, acc=0.9419, dice=0.0514, loss=0.9486]\n"
     ]
    },
    {
     "name": "stdout",
     "output_type": "stream",
     "text": [
      "Epoch 32/100 - Train Loss: 0.8525, Train Acc: 0.9827, Train Dice: 0.1475, Val Loss: 0.9439, Val Acc: 0.9406, Val Dice: 0.0561, LR: 0.000125\n",
      "Early stopping counter: 7/15\n"
     ]
    },
    {
     "name": "stderr",
     "output_type": "stream",
     "text": [
      "Epoch 33/100: 100%|██████████| 15/15 [00:14<00:00,  1.06it/s, acc=0.9866, dice=0.2061, loss=0.7939]\n",
      "Validation 33/100: 100%|██████████| 4/4 [00:03<00:00,  1.17it/s, acc=0.9801, dice=0.1127, loss=0.8873]\n"
     ]
    },
    {
     "name": "stdout",
     "output_type": "stream",
     "text": [
      "Epoch 33/100 - Train Loss: 0.8498, Train Acc: 0.9841, Train Dice: 0.1502, Val Loss: 0.8803, Val Acc: 0.9812, Val Dice: 0.1197, LR: 0.000125\n",
      "Early stopping counter: 8/15\n"
     ]
    },
    {
     "name": "stderr",
     "output_type": "stream",
     "text": [
      "Epoch 34/100: 100%|██████████| 15/15 [00:14<00:00,  1.06it/s, acc=0.9852, dice=0.1541, loss=0.8459]\n",
      "Validation 34/100: 100%|██████████| 4/4 [00:03<00:00,  1.18it/s, acc=0.9865, dice=0.1094, loss=0.8906]\n"
     ]
    },
    {
     "name": "stdout",
     "output_type": "stream",
     "text": [
      "Epoch 34/100 - Train Loss: 0.8517, Train Acc: 0.9833, Train Dice: 0.1483, Val Loss: 0.8743, Val Acc: 0.9870, Val Dice: 0.1257, LR: 0.000125\n",
      "Early stopping counter: 9/15\n"
     ]
    },
    {
     "name": "stderr",
     "output_type": "stream",
     "text": [
      "Epoch 35/100: 100%|██████████| 15/15 [00:14<00:00,  1.05it/s, acc=0.9861, dice=0.1852, loss=0.8148]\n",
      "Validation 35/100: 100%|██████████| 4/4 [00:03<00:00,  1.18it/s, acc=0.9788, dice=0.1167, loss=0.8833]\n"
     ]
    },
    {
     "name": "stdout",
     "output_type": "stream",
     "text": [
      "Epoch 35/100 - Train Loss: 0.8492, Train Acc: 0.9835, Train Dice: 0.1508, Val Loss: 0.8696, Val Acc: 0.9776, Val Dice: 0.1304, LR: 0.000125\n",
      "✓ Saved new best model with validation loss: 0.8696 (Dice: 0.1304)\n"
     ]
    },
    {
     "name": "stderr",
     "output_type": "stream",
     "text": [
      "Epoch 36/100: 100%|██████████| 15/15 [00:14<00:00,  1.05it/s, acc=0.9856, dice=0.1517, loss=0.8483]\n",
      "Validation 36/100: 100%|██████████| 4/4 [00:03<00:00,  1.16it/s, acc=0.9805, dice=0.1236, loss=0.8764]\n"
     ]
    },
    {
     "name": "stdout",
     "output_type": "stream",
     "text": [
      "Epoch 36/100 - Train Loss: 0.8497, Train Acc: 0.9837, Train Dice: 0.1503, Val Loss: 0.8671, Val Acc: 0.9800, Val Dice: 0.1329, LR: 0.000125\n",
      "✓ Saved new best model with validation loss: 0.8671 (Dice: 0.1329)\n"
     ]
    },
    {
     "name": "stderr",
     "output_type": "stream",
     "text": [
      "Epoch 37/100: 100%|██████████| 15/15 [00:14<00:00,  1.05it/s, acc=0.9807, dice=0.1877, loss=0.8123]\n",
      "Validation 37/100: 100%|██████████| 4/4 [00:03<00:00,  1.18it/s, acc=0.9511, dice=0.0659, loss=0.9341]\n"
     ]
    },
    {
     "name": "stdout",
     "output_type": "stream",
     "text": [
      "Epoch 37/100 - Train Loss: 0.8471, Train Acc: 0.9845, Train Dice: 0.1529, Val Loss: 0.9284, Val Acc: 0.9520, Val Dice: 0.0716, LR: 0.000125\n",
      "Early stopping counter: 1/15\n"
     ]
    },
    {
     "name": "stderr",
     "output_type": "stream",
     "text": [
      "Epoch 38/100: 100%|██████████| 15/15 [00:14<00:00,  1.05it/s, acc=0.9859, dice=0.1468, loss=0.8532]\n",
      "Validation 38/100: 100%|██████████| 4/4 [00:03<00:00,  1.17it/s, acc=0.9861, dice=0.1016, loss=0.8984]\n"
     ]
    },
    {
     "name": "stdout",
     "output_type": "stream",
     "text": [
      "Epoch 38/100 - Train Loss: 0.8470, Train Acc: 0.9832, Train Dice: 0.1530, Val Loss: 0.8855, Val Acc: 0.9860, Val Dice: 0.1145, LR: 0.000125\n",
      "Early stopping counter: 2/15\n"
     ]
    },
    {
     "name": "stderr",
     "output_type": "stream",
     "text": [
      "Epoch 39/100: 100%|██████████| 15/15 [00:14<00:00,  1.05it/s, acc=0.9824, dice=0.1130, loss=0.8870]\n",
      "Validation 39/100: 100%|██████████| 4/4 [00:03<00:00,  1.18it/s, acc=0.9862, dice=0.1124, loss=0.8876]\n"
     ]
    },
    {
     "name": "stdout",
     "output_type": "stream",
     "text": [
      "Epoch 39/100 - Train Loss: 0.8480, Train Acc: 0.9840, Train Dice: 0.1520, Val Loss: 0.8743, Val Acc: 0.9866, Val Dice: 0.1257, LR: 0.000125\n",
      "Early stopping counter: 3/15\n"
     ]
    },
    {
     "name": "stderr",
     "output_type": "stream",
     "text": [
      "Epoch 40/100: 100%|██████████| 15/15 [00:14<00:00,  1.05it/s, acc=0.9847, dice=0.1474, loss=0.8526]\n",
      "Validation 40/100: 100%|██████████| 4/4 [00:03<00:00,  1.18it/s, acc=0.9863, dice=0.1062, loss=0.8938]\n"
     ]
    },
    {
     "name": "stdout",
     "output_type": "stream",
     "text": [
      "Epoch 40/100 - Train Loss: 0.8453, Train Acc: 0.9839, Train Dice: 0.1547, Val Loss: 0.8704, Val Acc: 0.9862, Val Dice: 0.1296, LR: 0.000125\n",
      "Early stopping counter: 4/15\n"
     ]
    },
    {
     "name": "stderr",
     "output_type": "stream",
     "text": [
      "Epoch 41/100: 100%|██████████| 15/15 [00:14<00:00,  1.05it/s, acc=0.9848, dice=0.1382, loss=0.8618]\n",
      "Validation 41/100: 100%|██████████| 4/4 [00:03<00:00,  1.18it/s, acc=0.9884, dice=0.0996, loss=0.9004]\n"
     ]
    },
    {
     "name": "stdout",
     "output_type": "stream",
     "text": [
      "Epoch 41/100 - Train Loss: 0.8474, Train Acc: 0.9832, Train Dice: 0.1526, Val Loss: 0.8869, Val Acc: 0.9891, Val Dice: 0.1131, LR: 0.000125\n",
      "Early stopping counter: 5/15\n"
     ]
    },
    {
     "name": "stderr",
     "output_type": "stream",
     "text": [
      "Epoch 42/100: 100%|██████████| 15/15 [00:14<00:00,  1.05it/s, acc=0.9808, dice=0.1178, loss=0.8822]\n",
      "Validation 42/100: 100%|██████████| 4/4 [00:03<00:00,  1.17it/s, acc=0.9882, dice=0.1126, loss=0.8874]\n"
     ]
    },
    {
     "name": "stdout",
     "output_type": "stream",
     "text": [
      "Epoch 42/100 - Train Loss: 0.8467, Train Acc: 0.9844, Train Dice: 0.1533, Val Loss: 0.8789, Val Acc: 0.9886, Val Dice: 0.1211, LR: 0.000125\n",
      "Early stopping counter: 6/15\n"
     ]
    },
    {
     "name": "stderr",
     "output_type": "stream",
     "text": [
      "Epoch 43/100: 100%|██████████| 15/15 [00:14<00:00,  1.05it/s, acc=0.9827, dice=0.1777, loss=0.8223]\n",
      "Validation 43/100: 100%|██████████| 4/4 [00:03<00:00,  1.18it/s, acc=0.9834, dice=0.1192, loss=0.8808]\n"
     ]
    },
    {
     "name": "stdout",
     "output_type": "stream",
     "text": [
      "Epoch 43/100 - Train Loss: 0.8439, Train Acc: 0.9846, Train Dice: 0.1561, Val Loss: 0.8673, Val Acc: 0.9829, Val Dice: 0.1327, LR: 0.000063\n",
      "Early stopping counter: 7/15\n"
     ]
    },
    {
     "name": "stderr",
     "output_type": "stream",
     "text": [
      "Epoch 44/100: 100%|██████████| 15/15 [00:14<00:00,  1.05it/s, acc=0.9829, dice=0.1569, loss=0.8431]\n",
      "Validation 44/100: 100%|██████████| 4/4 [00:03<00:00,  1.18it/s, acc=0.9855, dice=0.1093, loss=0.8907]\n"
     ]
    },
    {
     "name": "stdout",
     "output_type": "stream",
     "text": [
      "Epoch 44/100 - Train Loss: 0.8436, Train Acc: 0.9841, Train Dice: 0.1564, Val Loss: 0.8698, Val Acc: 0.9850, Val Dice: 0.1302, LR: 0.000063\n",
      "Early stopping counter: 8/15\n"
     ]
    },
    {
     "name": "stderr",
     "output_type": "stream",
     "text": [
      "Epoch 45/100: 100%|██████████| 15/15 [00:14<00:00,  1.05it/s, acc=0.9837, dice=0.1818, loss=0.8182]\n",
      "Validation 45/100: 100%|██████████| 4/4 [00:03<00:00,  1.16it/s, acc=0.9831, dice=0.1189, loss=0.8811]\n"
     ]
    },
    {
     "name": "stdout",
     "output_type": "stream",
     "text": [
      "Epoch 45/100 - Train Loss: 0.8437, Train Acc: 0.9832, Train Dice: 0.1563, Val Loss: 0.8666, Val Acc: 0.9822, Val Dice: 0.1334, LR: 0.000063\n",
      "✓ Saved new best model with validation loss: 0.8666 (Dice: 0.1334)\n",
      "Early stopping counter: 9/15\n"
     ]
    },
    {
     "name": "stderr",
     "output_type": "stream",
     "text": [
      "Epoch 46/100: 100%|██████████| 15/15 [00:14<00:00,  1.06it/s, acc=0.9842, dice=0.1745, loss=0.8255]\n",
      "Validation 46/100: 100%|██████████| 4/4 [00:03<00:00,  1.18it/s, acc=0.9858, dice=0.1080, loss=0.8920]\n"
     ]
    },
    {
     "name": "stdout",
     "output_type": "stream",
     "text": [
      "Epoch 46/100 - Train Loss: 0.8427, Train Acc: 0.9846, Train Dice: 0.1573, Val Loss: 0.8688, Val Acc: 0.9854, Val Dice: 0.1312, LR: 0.000063\n",
      "Early stopping counter: 10/15\n"
     ]
    },
    {
     "name": "stderr",
     "output_type": "stream",
     "text": [
      "Epoch 47/100: 100%|██████████| 15/15 [00:14<00:00,  1.05it/s, acc=0.9842, dice=0.1573, loss=0.8427]\n",
      "Validation 47/100: 100%|██████████| 4/4 [00:03<00:00,  1.18it/s, acc=0.9832, dice=0.1161, loss=0.8839]\n"
     ]
    },
    {
     "name": "stdout",
     "output_type": "stream",
     "text": [
      "Epoch 47/100 - Train Loss: 0.8424, Train Acc: 0.9846, Train Dice: 0.1576, Val Loss: 0.8668, Val Acc: 0.9825, Val Dice: 0.1332, LR: 0.000063\n",
      "Early stopping counter: 11/15\n"
     ]
    },
    {
     "name": "stderr",
     "output_type": "stream",
     "text": [
      "Epoch 48/100: 100%|██████████| 15/15 [00:14<00:00,  1.05it/s, acc=0.9810, dice=0.1405, loss=0.8595]\n",
      "Validation 48/100: 100%|██████████| 4/4 [00:03<00:00,  1.17it/s, acc=0.9847, dice=0.1123, loss=0.8877]\n"
     ]
    },
    {
     "name": "stdout",
     "output_type": "stream",
     "text": [
      "Epoch 48/100 - Train Loss: 0.8429, Train Acc: 0.9851, Train Dice: 0.1571, Val Loss: 0.8680, Val Acc: 0.9837, Val Dice: 0.1320, LR: 0.000063\n",
      "Early stopping counter: 12/15\n"
     ]
    },
    {
     "name": "stderr",
     "output_type": "stream",
     "text": [
      "Epoch 49/100: 100%|██████████| 15/15 [00:14<00:00,  1.05it/s, acc=0.9824, dice=0.1569, loss=0.8431]\n",
      "Validation 49/100: 100%|██████████| 4/4 [00:03<00:00,  1.17it/s, acc=0.9811, dice=0.1281, loss=0.8719]\n"
     ]
    },
    {
     "name": "stdout",
     "output_type": "stream",
     "text": [
      "Epoch 49/100 - Train Loss: 0.8432, Train Acc: 0.9859, Train Dice: 0.1568, Val Loss: 0.8657, Val Acc: 0.9797, Val Dice: 0.1343, LR: 0.000063\n",
      "✓ Saved new best model with validation loss: 0.8657 (Dice: 0.1343)\n"
     ]
    },
    {
     "name": "stderr",
     "output_type": "stream",
     "text": [
      "Epoch 50/100: 100%|██████████| 15/15 [00:14<00:00,  1.05it/s, acc=0.9834, dice=0.1790, loss=0.8210]\n",
      "Validation 50/100: 100%|██████████| 4/4 [00:03<00:00,  1.18it/s, acc=0.9826, dice=0.1096, loss=0.8904]\n"
     ]
    },
    {
     "name": "stdout",
     "output_type": "stream",
     "text": [
      "Epoch 50/100 - Train Loss: 0.8424, Train Acc: 0.9840, Train Dice: 0.1576, Val Loss: 0.8794, Val Acc: 0.9821, Val Dice: 0.1206, LR: 0.000063\n",
      "Early stopping counter: 1/15\n"
     ]
    },
    {
     "name": "stderr",
     "output_type": "stream",
     "text": [
      "Epoch 51/100: 100%|██████████| 15/15 [00:14<00:00,  1.05it/s, acc=0.9891, dice=0.2056, loss=0.7944]\n",
      "Validation 51/100: 100%|██████████| 4/4 [00:03<00:00,  1.18it/s, acc=0.9868, dice=0.1065, loss=0.8935]\n"
     ]
    },
    {
     "name": "stdout",
     "output_type": "stream",
     "text": [
      "Epoch 51/100 - Train Loss: 0.8411, Train Acc: 0.9844, Train Dice: 0.1589, Val Loss: 0.8731, Val Acc: 0.9865, Val Dice: 0.1269, LR: 0.000063\n",
      "Early stopping counter: 2/15\n"
     ]
    },
    {
     "name": "stderr",
     "output_type": "stream",
     "text": [
      "Epoch 52/100: 100%|██████████| 15/15 [00:14<00:00,  1.06it/s, acc=0.9827, dice=0.1505, loss=0.8495]\n",
      "Validation 52/100: 100%|██████████| 4/4 [00:03<00:00,  1.20it/s, acc=0.9844, dice=0.1125, loss=0.8875]\n"
     ]
    },
    {
     "name": "stdout",
     "output_type": "stream",
     "text": [
      "Epoch 52/100 - Train Loss: 0.8415, Train Acc: 0.9841, Train Dice: 0.1585, Val Loss: 0.8678, Val Acc: 0.9836, Val Dice: 0.1322, LR: 0.000063\n",
      "Early stopping counter: 3/15\n"
     ]
    },
    {
     "name": "stderr",
     "output_type": "stream",
     "text": [
      "Epoch 53/100: 100%|██████████| 15/15 [00:14<00:00,  1.06it/s, acc=0.9839, dice=0.1844, loss=0.8156]\n",
      "Validation 53/100: 100%|██████████| 4/4 [00:03<00:00,  1.18it/s, acc=0.9837, dice=0.1150, loss=0.8850]\n"
     ]
    },
    {
     "name": "stdout",
     "output_type": "stream",
     "text": [
      "Epoch 53/100 - Train Loss: 0.8405, Train Acc: 0.9846, Train Dice: 0.1595, Val Loss: 0.8744, Val Acc: 0.9828, Val Dice: 0.1256, LR: 0.000063\n",
      "Early stopping counter: 4/15\n"
     ]
    },
    {
     "name": "stderr",
     "output_type": "stream",
     "text": [
      "Epoch 54/100: 100%|██████████| 15/15 [00:14<00:00,  1.05it/s, acc=0.9849, dice=0.1223, loss=0.8777]\n",
      "Validation 54/100: 100%|██████████| 4/4 [00:03<00:00,  1.18it/s, acc=0.9881, dice=0.1022, loss=0.8978]\n"
     ]
    },
    {
     "name": "stdout",
     "output_type": "stream",
     "text": [
      "Epoch 54/100 - Train Loss: 0.8417, Train Acc: 0.9841, Train Dice: 0.1583, Val Loss: 0.8768, Val Acc: 0.9883, Val Dice: 0.1232, LR: 0.000063\n",
      "Early stopping counter: 5/15\n"
     ]
    },
    {
     "name": "stderr",
     "output_type": "stream",
     "text": [
      "Epoch 55/100: 100%|██████████| 15/15 [00:14<00:00,  1.06it/s, acc=0.9864, dice=0.1839, loss=0.8161]\n",
      "Validation 55/100: 100%|██████████| 4/4 [00:03<00:00,  1.18it/s, acc=0.9867, dice=0.1072, loss=0.8928]\n"
     ]
    },
    {
     "name": "stdout",
     "output_type": "stream",
     "text": [
      "Epoch 55/100 - Train Loss: 0.8405, Train Acc: 0.9845, Train Dice: 0.1595, Val Loss: 0.8701, Val Acc: 0.9865, Val Dice: 0.1299, LR: 0.000063\n",
      "Early stopping counter: 6/15\n"
     ]
    },
    {
     "name": "stderr",
     "output_type": "stream",
     "text": [
      "Epoch 56/100: 100%|██████████| 15/15 [00:14<00:00,  1.06it/s, acc=0.9864, dice=0.1657, loss=0.8343]\n",
      "Validation 56/100: 100%|██████████| 4/4 [00:03<00:00,  1.17it/s, acc=0.9849, dice=0.1123, loss=0.8877]\n"
     ]
    },
    {
     "name": "stdout",
     "output_type": "stream",
     "text": [
      "Epoch 56/100 - Train Loss: 0.8405, Train Acc: 0.9846, Train Dice: 0.1595, Val Loss: 0.8674, Val Acc: 0.9840, Val Dice: 0.1326, LR: 0.000031\n",
      "Early stopping counter: 7/15\n"
     ]
    },
    {
     "name": "stderr",
     "output_type": "stream",
     "text": [
      "Epoch 57/100: 100%|██████████| 15/15 [00:14<00:00,  1.05it/s, acc=0.9870, dice=0.1884, loss=0.8116]\n",
      "Validation 57/100: 100%|██████████| 4/4 [00:03<00:00,  1.18it/s, acc=0.9843, dice=0.1140, loss=0.8860]\n"
     ]
    },
    {
     "name": "stdout",
     "output_type": "stream",
     "text": [
      "Epoch 57/100 - Train Loss: 0.8390, Train Acc: 0.9850, Train Dice: 0.1610, Val Loss: 0.8672, Val Acc: 0.9834, Val Dice: 0.1328, LR: 0.000031\n",
      "Early stopping counter: 8/15\n"
     ]
    },
    {
     "name": "stderr",
     "output_type": "stream",
     "text": [
      "Epoch 58/100: 100%|██████████| 15/15 [00:14<00:00,  1.05it/s, acc=0.9895, dice=0.1836, loss=0.8164]\n",
      "Validation 58/100: 100%|██████████| 4/4 [00:03<00:00,  1.17it/s, acc=0.9859, dice=0.1106, loss=0.8894]\n"
     ]
    },
    {
     "name": "stdout",
     "output_type": "stream",
     "text": [
      "Epoch 58/100 - Train Loss: 0.8389, Train Acc: 0.9847, Train Dice: 0.1611, Val Loss: 0.8688, Val Acc: 0.9852, Val Dice: 0.1312, LR: 0.000031\n",
      "Early stopping counter: 9/15\n"
     ]
    },
    {
     "name": "stderr",
     "output_type": "stream",
     "text": [
      "Epoch 59/100: 100%|██████████| 15/15 [00:14<00:00,  1.05it/s, acc=0.9858, dice=0.1843, loss=0.8157]\n",
      "Validation 59/100: 100%|██████████| 4/4 [00:03<00:00,  1.18it/s, acc=0.9841, dice=0.1149, loss=0.8851]\n"
     ]
    },
    {
     "name": "stdout",
     "output_type": "stream",
     "text": [
      "Epoch 59/100 - Train Loss: 0.8387, Train Acc: 0.9852, Train Dice: 0.1613, Val Loss: 0.8687, Val Acc: 0.9834, Val Dice: 0.1313, LR: 0.000031\n",
      "Early stopping counter: 10/15\n"
     ]
    },
    {
     "name": "stderr",
     "output_type": "stream",
     "text": [
      "Epoch 60/100: 100%|██████████| 15/15 [00:14<00:00,  1.05it/s, acc=0.9864, dice=0.1942, loss=0.8058]\n",
      "Validation 60/100: 100%|██████████| 4/4 [00:03<00:00,  1.16it/s, acc=0.9833, dice=0.1174, loss=0.8826]\n"
     ]
    },
    {
     "name": "stdout",
     "output_type": "stream",
     "text": [
      "Epoch 60/100 - Train Loss: 0.8389, Train Acc: 0.9851, Train Dice: 0.1611, Val Loss: 0.8672, Val Acc: 0.9824, Val Dice: 0.1328, LR: 0.000031\n",
      "Early stopping counter: 11/15\n"
     ]
    },
    {
     "name": "stderr",
     "output_type": "stream",
     "text": [
      "Epoch 61/100: 100%|██████████| 15/15 [00:14<00:00,  1.05it/s, acc=0.9834, dice=0.1623, loss=0.8377]\n",
      "Validation 61/100: 100%|██████████| 4/4 [00:03<00:00,  1.17it/s, acc=0.9843, dice=0.1153, loss=0.8847]\n"
     ]
    },
    {
     "name": "stdout",
     "output_type": "stream",
     "text": [
      "Epoch 61/100 - Train Loss: 0.8390, Train Acc: 0.9851, Train Dice: 0.1610, Val Loss: 0.8671, Val Acc: 0.9836, Val Dice: 0.1329, LR: 0.000031\n",
      "Early stopping counter: 12/15\n"
     ]
    },
    {
     "name": "stderr",
     "output_type": "stream",
     "text": [
      "Epoch 62/100: 100%|██████████| 15/15 [00:14<00:00,  1.06it/s, acc=0.9846, dice=0.1660, loss=0.8340]\n",
      "Validation 62/100: 100%|██████████| 4/4 [00:03<00:00,  1.18it/s, acc=0.9868, dice=0.1074, loss=0.8926]\n"
     ]
    },
    {
     "name": "stdout",
     "output_type": "stream",
     "text": [
      "Epoch 62/100 - Train Loss: 0.8380, Train Acc: 0.9847, Train Dice: 0.1620, Val Loss: 0.8706, Val Acc: 0.9864, Val Dice: 0.1294, LR: 0.000016\n",
      "Early stopping counter: 13/15\n"
     ]
    },
    {
     "name": "stderr",
     "output_type": "stream",
     "text": [
      "Epoch 63/100: 100%|██████████| 15/15 [00:14<00:00,  1.05it/s, acc=0.9836, dice=0.1482, loss=0.8518]\n",
      "Validation 63/100: 100%|██████████| 4/4 [00:03<00:00,  1.17it/s, acc=0.9839, dice=0.1159, loss=0.8841]\n"
     ]
    },
    {
     "name": "stdout",
     "output_type": "stream",
     "text": [
      "Epoch 63/100 - Train Loss: 0.8387, Train Acc: 0.9854, Train Dice: 0.1613, Val Loss: 0.8668, Val Acc: 0.9829, Val Dice: 0.1332, LR: 0.000016\n",
      "Early stopping counter: 14/15\n"
     ]
    },
    {
     "name": "stderr",
     "output_type": "stream",
     "text": [
      "Epoch 64/100: 100%|██████████| 15/15 [00:14<00:00,  1.05it/s, acc=0.9881, dice=0.1807, loss=0.8193]\n",
      "Validation 64/100: 100%|██████████| 4/4 [00:03<00:00,  1.18it/s, acc=0.9852, dice=0.1123, loss=0.8877]\n"
     ]
    },
    {
     "name": "stdout",
     "output_type": "stream",
     "text": [
      "Epoch 64/100 - Train Loss: 0.8386, Train Acc: 0.9847, Train Dice: 0.1614, Val Loss: 0.8675, Val Acc: 0.9842, Val Dice: 0.1325, LR: 0.000016\n",
      "Early stopping counter: 15/15\n",
      "Early stopping triggered\n",
      "Early stopping triggered after 64 epochs\n",
      "\n",
      "Training completed! Best validation loss: 0.8657\n"
     ]
    },
    {
     "data": {
      "image/png": "[encoded data removed]",
      "text/plain": [
       "<Figure size 1500x1000 with 4 Axes>"
      ]
     },
     "metadata": {},
     "output_type": "display_data"
    },
    {
     "name": "stdout",
     "output_type": "stream",
     "text": [
      "Best model at epoch 49 with validation Dice score: 0.1343\n",
      "Loading best model for visualization...\n",
      "Loaded model from epoch 49 with Dice score: 0.1343\n"
     ]
    },
    {
     "name": "stderr",
     "output_type": "stream",
     "text": [
      "/tmp/ipykernel_2452238/718194248.py:498: FutureWarning: You are using `torch.load` with `weights_only=False` (the current default value), which uses the default pickle module implicitly. It is possible to construct malicious pickle data which will execute arbitrary code during unpickling (See https://github.com/pytorch/pytorch/blob/main/SECURITY.md#untrusted-models for more details). In a future release, the default value for `weights_only` will be flipped to `True`. This limits the functions that could be executed during unpickling. Arbitrary objects will no longer be allowed to be loaded via this mode unless they are explicitly allowlisted by the user via `torch.serialization.add_safe_globals`. We recommend you start setting `weights_only=True` for any use case where you don't have full control of the loaded file. Please open an issue on GitHub for any issues related to this experimental feature.\n",
      "  checkpoint = torch.load('./model/3DUNet_best.pth')\n"
     ]
    },
    {
     "name": "stdout",
     "output_type": "stream",
     "text": [
      "Visualizing sample 1\n"
     ]
    },
    {
     "name": "stderr",
     "output_type": "stream",
     "text": [
      "/tmp/ipykernel_2452238/718194248.py:572: UserWarning: This figure includes Axes that are not compatible with tight_layout, so results might be incorrect.\n",
      "  plt.tight_layout()\n"
     ]
    },
    {
     "data": {
      "image/png": "[encoded data removed]",
      "text/plain": [
       "<Figure size 1500x1500 with 10 Axes>"
      ]
     },
     "metadata": {},
     "output_type": "display_data"
    },
    {
     "name": "stdout",
     "output_type": "stream",
     "text": [
      "Visualizing sample 2\n"
     ]
    },
    {
     "name": "stderr",
     "output_type": "stream",
     "text": [
      "/tmp/ipykernel_2452238/718194248.py:572: UserWarning: This figure includes Axes that are not compatible with tight_layout, so results might be incorrect.\n",
      "  plt.tight_layout()\n"
     ]
    },
    {
     "data": {
      "image/png": "[encoded data removed]",
      "text/plain": [
       "<Figure size 1500x1500 with 10 Axes>"
      ]
     },
     "metadata": {},
     "output_type": "display_data"
    }
   ],
   "source": [
    "import os\n",
    "import torch\n",
    "import torch.nn as nn\n",
    "import torch.nn.functional as F\n",
    "import torch.optim as optim\n",
    "import matplotlib.pyplot as plt\n",
    "import numpy as np\n",
    "from tqdm import tqdm\n",
    "from torch.utils.data import random_split, DataLoader\n",
    "\n",
    "# Create directories if they don't exist\n",
    "os.makedirs('./model', exist_ok=True)\n",
    "os.makedirs('./results', exist_ok=True)\n",
    "\n",
    "# ========== 1. DICE LOSS IMPLEMENTATION ==========\n",
    "class DiceLoss(nn.Module):\n",
    "    def __init__(self, smooth=1.0, ignore_background=True):\n",
    "        \"\"\"\n",
    "        Dice Loss for segmentation tasks\n",
    "        \n",
    "        Args:\n",
    "            smooth (float): Smoothing value to avoid division by zero\n",
    "            ignore_background (bool): Whether to ignore background class (index 0)\n",
    "        \"\"\"\n",
    "        super(DiceLoss, self).__init__()\n",
    "        self.smooth = smooth\n",
    "        self.ignore_background = ignore_background\n",
    "        \n",
    "    def forward(self, inputs, targets):\n",
    "        \"\"\"\n",
    "        Calculate Dice Loss\n",
    "        \n",
    "        Args:\n",
    "            inputs: Model predictions (B, C, D, H, W)\n",
    "            targets: Ground truth labels (B, D, H, W)\n",
    "            \n",
    "        Returns:\n",
    "            Loss value\n",
    "        \"\"\"\n",
    "        # Get softmax probabilities\n",
    "        inputs = F.softmax(inputs, dim=1)\n",
    "        \n",
    "        # Convert targets to one-hot encoding\n",
    "        num_classes = inputs.size(1)\n",
    "        targets_one_hot = F.one_hot(targets, num_classes=num_classes).permute(0, 4, 1, 2, 3).float()\n",
    "        \n",
    "        # Flatten the spatial dimensions\n",
    "        inputs = inputs.reshape(inputs.size(0), inputs.size(1), -1)\n",
    "        targets_one_hot = targets_one_hot.reshape(targets_one_hot.size(0), targets_one_hot.size(1), -1)\n",
    "        \n",
    "        # Calculate Dice coefficient for each class and batch\n",
    "        dice_scores = []\n",
    "        \n",
    "        # Loop through classes\n",
    "        start_idx = 1 if self.ignore_background else 0\n",
    "        \n",
    "        for cls in range(start_idx, num_classes):\n",
    "            # Get current class predictions and targets\n",
    "            input_cls = inputs[:, cls, :]  # (B, D*H*W)\n",
    "            target_cls = targets_one_hot[:, cls, :]  # (B, D*H*W)\n",
    "            \n",
    "            # Calculate intersection and union\n",
    "            intersection = (input_cls * target_cls).sum(dim=1)  # (B)\n",
    "            sum_inputs = input_cls.sum(dim=1)  # (B)\n",
    "            sum_targets = target_cls.sum(dim=1)  # (B)\n",
    "            \n",
    "            # Dice coefficient\n",
    "            dice = (2.0 * intersection + self.smooth) / (sum_inputs + sum_targets + self.smooth)  # (B)\n",
    "            \n",
    "            # Skip empty target slices (for stability)\n",
    "            non_empty = sum_targets > 0\n",
    "            if non_empty.sum() > 0:\n",
    "                dice_valid = dice[non_empty]\n",
    "                dice_scores.append(dice_valid.mean())\n",
    "        \n",
    "        # Check if we have any valid dice scores\n",
    "        if len(dice_scores) == 0:\n",
    "            # If no valid scores (e.g., all background), return a loss value\n",
    "            # that encourages the model to predict background\n",
    "            return torch.tensor(0.0, device=inputs.device, requires_grad=True)\n",
    "        \n",
    "        # Average Dice score\n",
    "        dice_avg = torch.stack(dice_scores).mean()\n",
    "        \n",
    "        # Return Dice loss (1 - Dice coefficient)\n",
    "        return 1.0 - dice_avg\n",
    "\n",
    "# ========== 2. DICE METRIC CALCULATION ==========\n",
    "def calculate_dice_coefficient(outputs, targets, ignore_background=True):\n",
    "    \"\"\"\n",
    "    Calculate Dice coefficient for evaluation\n",
    "    \n",
    "    Args:\n",
    "        outputs: Model outputs (B, C, D, H, W)\n",
    "        targets: Ground truth labels (B, D, H, W)\n",
    "        ignore_background: Whether to ignore background class (index 0)\n",
    "        \n",
    "    Returns:\n",
    "        Dice coefficient\n",
    "    \"\"\"\n",
    "    # Get predicted class\n",
    "    _, predicted = torch.max(outputs, 1)  # (B, D, H, W)\n",
    "    \n",
    "    # Get number of classes\n",
    "    num_classes = outputs.size(1)\n",
    "    \n",
    "    # Calculate Dice for each class\n",
    "    dice_scores = []\n",
    "    \n",
    "    # Loop through classes\n",
    "    start_idx = 1 if ignore_background else 0\n",
    "    \n",
    "    for cls in range(start_idx, num_classes):\n",
    "        # Create binary masks for this class\n",
    "        pred_mask = (predicted == cls).float()  # (B, D, H, W)\n",
    "        true_mask = (targets == cls).float()    # (B, D, H, W)\n",
    "        \n",
    "        # Skip if no ground truth for this class\n",
    "        if true_mask.sum() == 0:\n",
    "            continue\n",
    "            \n",
    "        # Calculate intersection and union\n",
    "        intersection = (pred_mask * true_mask).sum()\n",
    "        union = pred_mask.sum() + true_mask.sum()\n",
    "        \n",
    "        # Dice coefficient\n",
    "        dice = (2.0 * intersection + 1.0) / (union + 1.0)\n",
    "        dice_scores.append(dice.item())\n",
    "    \n",
    "    # Return mean Dice coefficient\n",
    "    if len(dice_scores) > 0:\n",
    "        return sum(dice_scores) / len(dice_scores)\n",
    "    else:\n",
    "        return 1.0  # Perfect dice if no foreground classes (all background)\n",
    "\n",
    "# ========== 3. EARLY STOPPING ==========\n",
    "class EarlyStopping:\n",
    "    def __init__(self, patience=10, min_delta=0.001, verbose=True):\n",
    "        \"\"\"\n",
    "        Early stopping to stop training when validation loss doesn't improve.\n",
    "        \n",
    "        Args:\n",
    "            patience (int): Number of epochs to wait after last improvement\n",
    "            min_delta (float): Minimum change to qualify as an improvement\n",
    "            verbose (bool): If True, prints a message when early stopping triggers\n",
    "        \"\"\"\n",
    "        self.patience = patience\n",
    "        self.min_delta = min_delta\n",
    "        self.verbose = verbose\n",
    "        self.counter = 0\n",
    "        self.best_loss = float('inf')\n",
    "        self.early_stop = False\n",
    "        \n",
    "    def __call__(self, val_loss):\n",
    "        \"\"\"\n",
    "        Check if training should be stopped.\n",
    "        \n",
    "        Args:\n",
    "            val_loss (float): Current validation loss\n",
    "            \n",
    "        Returns:\n",
    "            bool: True if training should stop, False otherwise\n",
    "        \"\"\"\n",
    "        if val_loss < self.best_loss - self.min_delta:\n",
    "            # Validation loss has improved\n",
    "            self.best_loss = val_loss\n",
    "            self.counter = 0\n",
    "        else:\n",
    "            # Validation loss has not improved\n",
    "            self.counter += 1\n",
    "            if self.verbose:\n",
    "                print(f'Early stopping counter: {self.counter}/{self.patience}')\n",
    "            if self.counter >= self.patience:\n",
    "                self.early_stop = True\n",
    "                if self.verbose:\n",
    "                    print('Early stopping triggered')\n",
    "        \n",
    "        return self.early_stop\n",
    "\n",
    "# ========== 4. DATASET SETUP ==========\n",
    "dataset_size = len(train_dataset)\n",
    "val_size = int(dataset_size * 0.2)  \n",
    "train_size = dataset_size - val_size\n",
    "\n",
    "train_subset, val_subset = random_split(\n",
    "    train_dataset, \n",
    "    [train_size, val_size],\n",
    "    generator=torch.Generator().manual_seed(42) \n",
    ")\n",
    "\n",
    "train_loader = DataLoader(\n",
    "    train_subset, \n",
    "    batch_size=BATCH_SIZE, \n",
    "    shuffle=True, \n",
    "    num_workers=NUM_WORKERS if 'NUM_WORKERS' in globals() else 4\n",
    ")\n",
    "\n",
    "val_loader = DataLoader(\n",
    "    val_subset, \n",
    "    batch_size=BATCH_SIZE, \n",
    "    shuffle=False, \n",
    "    num_workers=NUM_WORKERS if 'NUM_WORKERS' in globals() else 4\n",
    ")\n",
    "\n",
    "# ========== 5. TRAINING SETUP ==========\n",
    "model.to(DEVICE)\n",
    "\n",
    "# Use Dice Loss instead of CrossEntropyLoss\n",
    "criterion = DiceLoss(smooth=1.0, ignore_background=True)\n",
    "\n",
    "# Lower learning rate for stability with Dice Loss\n",
    "LR_DICE = LR * 0.5  # Half the original learning rate for stability\n",
    "\n",
    "optimizer = optim.Adam(model.parameters(), lr=LR_DICE)\n",
    "\n",
    "# Use ReduceLROnPlateau instead of StepLR for better adaptation\n",
    "scheduler = torch.optim.lr_scheduler.ReduceLROnPlateau(\n",
    "    optimizer, \n",
    "    mode='min',\n",
    "    factor=0.5,\n",
    "    patience=5,\n",
    "    verbose=True\n",
    ")\n",
    "\n",
    "# Initialize tracking variables\n",
    "best_val_loss = float('inf')\n",
    "train_losses = []\n",
    "val_losses = []\n",
    "train_dices = []\n",
    "val_dices = []\n",
    "lr_history = []\n",
    "\n",
    "# Initialize early stopping\n",
    "early_stopping = EarlyStopping(patience=15, min_delta=0.001, verbose=True)\n",
    "\n",
    "# ========== 6. UTILITY FUNCTIONS ==========\n",
    "def calculate_accuracy(outputs, labels):\n",
    "    \"\"\"Calculate pixel-wise accuracy\"\"\"\n",
    "    _, predicted = torch.max(outputs, 1)\n",
    "    correct = (predicted == labels).sum().item()\n",
    "    total = labels.numel()\n",
    "    return correct / total\n",
    "\n",
    "# ========== 7. TRAINING LOOP ==========\n",
    "print(f\"Starting training with: Learning Rate={LR_DICE}, Batch Size={BATCH_SIZE}\")\n",
    "print(f\"Using Dice Loss (ignore_background={criterion.ignore_background})\")\n",
    "print(f\"Early stopping patience: {early_stopping.patience}\")\n",
    "\n",
    "for epoch in range(EPOCHS):\n",
    "    # Training phase\n",
    "    model.train()\n",
    "    train_loss = 0\n",
    "    train_acc = 0\n",
    "    train_dice = 0\n",
    "    \n",
    "    progress_bar = tqdm(train_loader, desc=f\"Epoch {epoch+1}/{EPOCHS}\")\n",
    "    for data, label in progress_bar:\n",
    "        data, label = data.to(DEVICE), label.to(DEVICE)\n",
    "\n",
    "        # Forward pass\n",
    "        optimizer.zero_grad()\n",
    "        output = model(data)\n",
    "        \n",
    "        # Calculate loss\n",
    "        loss = criterion(output, label)\n",
    "        \n",
    "        # Handle NaN loss\n",
    "        if torch.isnan(loss):\n",
    "            print(f\"Warning: NaN loss encountered. Skipping batch.\")\n",
    "            continue\n",
    "        \n",
    "        # Backward pass\n",
    "        loss.backward()\n",
    "        \n",
    "        # Clip gradients to prevent explosion\n",
    "        torch.nn.utils.clip_grad_norm_(model.parameters(), max_norm=1.0)\n",
    "        \n",
    "        # Update weights\n",
    "        optimizer.step()\n",
    "        \n",
    "        # Calculate metrics\n",
    "        acc = calculate_accuracy(output, label)\n",
    "        dice = 1.0 - loss.item()  # Dice score = 1 - Dice loss\n",
    "        \n",
    "        # Update progress bar\n",
    "        progress_bar.set_postfix(loss=f\"{loss.item():.4f}\", acc=f\"{acc:.4f}\", dice=f\"{dice:.4f}\")\n",
    "        \n",
    "        # Update running metrics\n",
    "        train_loss += loss.item()\n",
    "        train_acc += acc\n",
    "        train_dice += dice\n",
    "    \n",
    "    # Calculate average training metrics\n",
    "    samples = len(train_loader)\n",
    "    train_loss = train_loss / samples\n",
    "    train_acc = train_acc / samples\n",
    "    train_dice = train_dice / samples\n",
    "    \n",
    "    # Store metrics for plotting\n",
    "    train_losses.append(train_loss)\n",
    "    train_accs.append(train_acc)\n",
    "    train_dices.append(train_dice)\n",
    "    \n",
    "    # Validation phase\n",
    "    model.eval()\n",
    "    val_loss = 0\n",
    "    val_acc = 0\n",
    "    val_dice = 0\n",
    "    \n",
    "    with torch.no_grad():\n",
    "        val_progress_bar = tqdm(val_loader, desc=f\"Validation {epoch+1}/{EPOCHS}\")\n",
    "        for data, label in val_progress_bar:\n",
    "            data, label = data.to(DEVICE), label.to(DEVICE)\n",
    "            \n",
    "            # Forward pass\n",
    "            output = model(data)\n",
    "            \n",
    "            # Calculate loss\n",
    "            loss = criterion(output, label)\n",
    "            \n",
    "            # Handle NaN loss\n",
    "            if torch.isnan(loss):\n",
    "                print(f\"Warning: NaN validation loss. Skipping batch.\")\n",
    "                continue\n",
    "            \n",
    "            # Calculate metrics\n",
    "            acc = calculate_accuracy(output, label)\n",
    "            dice = 1.0 - loss.item()  # Dice score = 1 - Dice loss\n",
    "            \n",
    "            # Update progress bar\n",
    "            val_progress_bar.set_postfix(loss=f\"{loss.item():.4f}\", acc=f\"{acc:.4f}\", dice=f\"{dice:.4f}\")\n",
    "            \n",
    "            # Update running metrics\n",
    "            val_loss += loss.item()\n",
    "            val_acc += acc\n",
    "            val_dice += dice\n",
    "    \n",
    "    # Calculate average validation metrics\n",
    "    val_samples = len(val_loader)\n",
    "    val_loss = val_loss / val_samples\n",
    "    val_acc = val_acc / val_samples\n",
    "    val_dice = val_dice / val_samples\n",
    "    \n",
    "    # Store metrics for plotting\n",
    "    val_losses.append(val_loss)\n",
    "    val_accs.append(val_acc)\n",
    "    val_dices.append(val_dice)\n",
    "    \n",
    "    # Store current learning rate\n",
    "    lr_history.append(optimizer.param_groups[0]['lr'])\n",
    "    \n",
    "    # Print epoch results\n",
    "    print(f\"Epoch {epoch+1}/{EPOCHS} - \"\n",
    "          f\"Train Loss: {train_loss:.4f}, Train Acc: {train_acc:.4f}, Train Dice: {train_dice:.4f}, \"\n",
    "          f\"Val Loss: {val_loss:.4f}, Val Acc: {val_acc:.4f}, Val Dice: {val_dice:.4f}, \"\n",
    "          f\"LR: {optimizer.param_groups[0]['lr']:.6f}\")\n",
    "    \n",
    "    # Update learning rate scheduler\n",
    "    scheduler.step(val_loss)\n",
    "    \n",
    "    # Save model if it's the best so far\n",
    "    if val_loss < best_val_loss:\n",
    "        best_val_loss = val_loss\n",
    "        torch.save({\n",
    "            'epoch': epoch,\n",
    "            'model_state_dict': model.state_dict(),\n",
    "            'optimizer_state_dict': optimizer.state_dict(),\n",
    "            'val_loss': val_loss,\n",
    "            'val_dice': val_dice,\n",
    "        }, './model/3DUNet_best.pth')\n",
    "        print(f\"✓ Saved new best model with validation loss: {best_val_loss:.4f} (Dice: {val_dice:.4f})\")\n",
    "    \n",
    "    # Early stopping check\n",
    "    if early_stopping(val_loss):\n",
    "        print(f\"Early stopping triggered after {epoch+1} epochs\")\n",
    "        break\n",
    "\n",
    "print(f\"\\nTraining completed! Best validation loss: {best_val_loss:.4f}\")\n",
    "\n",
    "# ========== 8. VISUALIZATION ==========\n",
    "# Plot training and validation metrics for actual epochs trained\n",
    "epochs_trained = len(train_losses)\n",
    "\n",
    "# Truncate or initialize lists if needed to match the actual epochs trained\n",
    "def ensure_length(data_list, target_length):\n",
    "    \"\"\"Ensure the data list has the correct length\"\"\"\n",
    "    if len(data_list) > target_length:\n",
    "        return data_list[:target_length]\n",
    "    elif len(data_list) < target_length:\n",
    "        return data_list + [0] * (target_length - len(data_list))\n",
    "    else:\n",
    "        return data_list\n",
    "    \n",
    "# Extract metrics from the log file (alternative approach)\n",
    "# This is a more reliable way to get your metrics\n",
    "def extract_metrics_from_logs(log_file_path):\n",
    "    \"\"\"Extract training and validation metrics from log file\"\"\"\n",
    "    train_losses = []\n",
    "    train_accs = []\n",
    "    train_dices = []\n",
    "    val_losses = []\n",
    "    val_accs = []\n",
    "    val_dices = []\n",
    "    lr_history = []\n",
    "    \n",
    "    with open(log_file_path, 'r') as f:\n",
    "        for line in f:\n",
    "            if \"Train Loss:\" in line and \"Val Loss:\" in line:\n",
    "                # Extract metrics from the line\n",
    "                parts = line.split(' - ')[1].strip().split(', ')\n",
    "                \n",
    "                train_loss = float(parts[0].split(': ')[1])\n",
    "                train_acc = float(parts[1].split(': ')[1])\n",
    "                train_dice = float(parts[2].split(': ')[1])\n",
    "                val_loss = float(parts[3].split(': ')[1])\n",
    "                val_acc = float(parts[4].split(': ')[1])\n",
    "                val_dice = float(parts[5].split(': ')[1])\n",
    "                lr = float(parts[6].split(': ')[1])\n",
    "                \n",
    "                train_losses.append(train_loss)\n",
    "                train_accs.append(train_acc)\n",
    "                train_dices.append(train_dice)\n",
    "                val_losses.append(val_loss)\n",
    "                val_accs.append(val_acc)\n",
    "                val_dices.append(val_dice)\n",
    "                lr_history.append(lr)\n",
    "    \n",
    "    return {\n",
    "        'train_losses': train_losses,\n",
    "        'train_accs': train_accs,\n",
    "        'train_dices': train_dices,\n",
    "        'val_losses': val_losses,\n",
    "        'val_accs': val_accs,\n",
    "        'val_dices': val_dices,\n",
    "        'lr_history': lr_history\n",
    "    }\n",
    "\n",
    "# Ensure all lists have the same length as epochs_trained\n",
    "train_losses = ensure_length(train_losses, epochs_trained)\n",
    "train_accs = ensure_length(train_accs, epochs_trained)\n",
    "train_dices = ensure_length(train_dices, epochs_trained)\n",
    "val_losses = ensure_length(val_losses, epochs_trained)\n",
    "val_accs = ensure_length(val_accs, epochs_trained)\n",
    "val_dices = ensure_length(val_dices, epochs_trained)\n",
    "lr_history = ensure_length(lr_history, epochs_trained)\n",
    "\n",
    "plt.figure(figsize=(15, 10))\n",
    "\n",
    "# Plot loss\n",
    "plt.subplot(2, 2, 1)\n",
    "plt.plot(range(1, epochs_trained+1), train_losses, 'b-', label='Training')\n",
    "plt.plot(range(1, epochs_trained+1), val_losses, 'r-', label='Validation')\n",
    "plt.xlabel('Epoch')\n",
    "plt.ylabel('Loss (1 - Dice)')\n",
    "plt.title('Training and Validation Loss')\n",
    "plt.legend()\n",
    "plt.grid(linestyle='--', alpha=0.7)\n",
    "\n",
    "# Plot accuracy\n",
    "plt.subplot(2, 2, 2)\n",
    "plt.plot(range(1, epochs_trained+1), train_accs, 'b-', label='Training')\n",
    "plt.plot(range(1, epochs_trained+1), val_accs, 'r-', label='Validation')\n",
    "plt.xlabel('Epoch')\n",
    "plt.ylabel('Accuracy')\n",
    "plt.title('Training and Validation Accuracy')\n",
    "plt.legend()\n",
    "plt.grid(linestyle='--', alpha=0.7)\n",
    "\n",
    "# Plot Dice score\n",
    "plt.subplot(2, 2, 3)\n",
    "plt.plot(range(1, epochs_trained+1), train_dices, 'b-', label='Training')\n",
    "plt.plot(range(1, epochs_trained+1), val_dices, 'r-', label='Validation')\n",
    "plt.xlabel('Epoch')\n",
    "plt.ylabel('Dice Score')\n",
    "plt.title('Training and Validation Dice Score')\n",
    "plt.legend()\n",
    "plt.grid(linestyle='--', alpha=0.7)\n",
    "\n",
    "# Plot learning rate\n",
    "plt.subplot(2, 2, 4)\n",
    "plt.plot(range(1, epochs_trained+1), lr_history, 'g-')\n",
    "plt.xlabel('Epoch')\n",
    "plt.ylabel('Learning Rate')\n",
    "plt.title('Learning Rate Schedule')\n",
    "plt.yscale('log')  # Log scale for better visualization\n",
    "plt.grid(linestyle='--', alpha=0.7)\n",
    "\n",
    "plt.tight_layout()\n",
    "plt.savefig('./results/training_curves.png', dpi=300)\n",
    "plt.show()\n",
    "\n",
    "# Highlight the best model epoch\n",
    "best_epoch = val_losses.index(min(val_losses)) + 1\n",
    "best_dice = max(val_dices)\n",
    "print(f\"Best model at epoch {best_epoch} with validation Dice score: {best_dice:.4f}\")\n",
    "# ========== 9. MODEL EVALUATION AND VISUALIZATION ==========\n",
    "print(\"Loading best model for visualization...\")\n",
    "checkpoint = torch.load('./model/3DUNet_best.pth')\n",
    "model.load_state_dict(checkpoint['model_state_dict'])\n",
    "print(f\"Loaded model from epoch {checkpoint['epoch']+1} with Dice score: {1.0 - checkpoint['val_loss']:.4f}\")\n",
    "model.eval()\n",
    "\n",
    "sample_data, sample_label = next(iter(val_loader))\n",
    "sample_data, sample_label = sample_data.to(DEVICE), sample_label.to(DEVICE)\n",
    "\n",
    "with torch.no_grad():\n",
    "    sample_output = model(sample_data)\n",
    "    _, predicted = torch.max(sample_output, 1)\n",
    "\n",
    "def visualize_3d_predictions(sample_idx=0, num_slices=3):\n",
    "    \"\"\"\n",
    "    Visualize predictions on a 3D volume with class information\n",
    "    \"\"\"\n",
    "    input_vol = sample_data[sample_idx, 0].cpu().numpy()  \n",
    "    label_vol = sample_label[sample_idx].cpu().numpy()\n",
    "    pred_vol = predicted[sample_idx].cpu().numpy()\n",
    "    \n",
    "    # Get dimensions\n",
    "    d, h, w = input_vol.shape\n",
    "    \n",
    "    # Find slices with foreground (non-zero) labels if possible\n",
    "    foreground_slices = []\n",
    "    for z in range(d):\n",
    "        if np.any(label_vol[z] > 0):\n",
    "            foreground_slices.append(z)\n",
    "    \n",
    "    # Choose slices - prefer those with foreground classes\n",
    "    if len(foreground_slices) >= num_slices:\n",
    "        # Select evenly spaced foreground slices\n",
    "        indices = np.linspace(0, len(foreground_slices)-1, num_slices, dtype=int)\n",
    "        z_indices = [foreground_slices[i] for i in indices]\n",
    "    else:\n",
    "        # Fallback to evenly spaced slices\n",
    "        z_indices = np.linspace(d//4, 3*d//4, num_slices, dtype=int)\n",
    "    \n",
    "    # Get unique classes for better visualization\n",
    "    all_classes = sorted(np.unique(np.concatenate((label_vol.flatten(), pred_vol.flatten()))))\n",
    "    num_classes = len(all_classes)\n",
    "    \n",
    "    # Create figure with subplots\n",
    "    fig, axes = plt.subplots(num_slices, 3, figsize=(15, 5*num_slices))\n",
    "    \n",
    "    if num_slices == 1:\n",
    "        axes = axes.reshape(1, -1)\n",
    "    \n",
    "    # Use viridis colormap for multiple classes\n",
    "    cmap = plt.cm.viridis\n",
    "    \n",
    "    for i, z in enumerate(z_indices):\n",
    "        # Input slice - grayscale\n",
    "        axes[i, 0].imshow(input_vol[z], cmap='gray')\n",
    "        axes[i, 0].set_title(f'Input (Slice {z})')\n",
    "        axes[i, 0].axis('off')\n",
    "        \n",
    "        # Ground truth slice - with colormap\n",
    "        im1 = axes[i, 1].imshow(label_vol[z], cmap=cmap, vmin=0, vmax=max(1, num_classes-1))\n",
    "        axes[i, 1].set_title(f'Ground Truth (Slice {z})')\n",
    "        axes[i, 1].axis('off')\n",
    "        \n",
    "        # Prediction slice - with same colormap\n",
    "        im2 = axes[i, 2].imshow(pred_vol[z], cmap=cmap, vmin=0, vmax=max(1, num_classes-1))\n",
    "        axes[i, 2].set_title(f'Prediction (Slice {z})')\n",
    "        axes[i, 2].axis('off')\n",
    "    \n",
    "    # Add colorbar if we have multiple classes\n",
    "    if num_classes > 1:\n",
    "        cbar_ax = fig.add_axes([0.92, 0.15, 0.02, 0.7])\n",
    "        cbar = fig.colorbar(im2, cax=cbar_ax)\n",
    "        cbar.set_ticks(range(num_classes))\n",
    "        cbar.set_ticklabels([f\"Class {c}\" for c in all_classes])\n",
    "    \n",
    "    plt.tight_layout()\n",
    "    plt.savefig('./results/3d_prediction_results.png', dpi=300)\n",
    "    plt.show()\n",
    "\n",
    "# Visualize multiple samples\n",
    "for i in range(min(2, sample_data.size(0))):\n",
    "    print(f\"Visualizing sample {i+1}\")\n",
    "    visualize_3d_predictions(sample_idx=i, num_slices=3)\n",
    "\n",
    "# ========== 10. OPTIONAL: PER-CLASS EVALUATION ==========\n",
    "def evaluate_per_class_metrics(model, loader, num_classes, device):\n",
    "    \"\"\"Evaluate Dice score for each class separately\"\"\"\n",
    "    model.eval()\n",
    "    class_dices = [[] for _ in range(num_classes)]\n",
    "    \n",
    "    with torch.no_grad():\n",
    "        for data, label in tqdm(loader, desc=\"Evaluating per-class metrics\"):\n",
    "            data, label = data.to(device), label.to(device)\n",
    "            output = model(data)\n",
    "            _, pred = torch.max(output, 1)\n",
    "            \n",
    "            # Calculate per-class Dice\n",
    "            for cls in range(num_classes):\n",
    "                # Skip if this class doesn't exist in the ground truth\n",
    "                if torch.sum(label == cls) == 0:\n",
    "                    continue\n",
    "                \n",
    "                pred_mask = (pred == cls).float()\n",
    "                true_mask = (label == cls).float()\n",
    "                \n",
    "                intersection = (pred_mask * true_mask).sum()\n",
    "                union = pred_mask.sum() + true_mask.sum()\n",
    "                \n",
    "                # Calculate Dice\n",
    "                dice = (2.0 * intersection + 1.0) / (union + 1.0)\n",
    "                class_dices[cls].append(dice.item())\n",
    "    \n",
    "    # Print per-class results\n",
    "    print(\"\\nPer-class Dice scores:\")\n",
    "    for cls in range(num_classes):\n",
    "        if class_dices[cls]:\n",
    "            mean_dice = sum(class_dices[cls]) / len(class_dices[cls])\n",
    "            print(f\"Class {cls}: {mean_dice:.4f} (from {len(class_dices[cls])} samples)\")\n",
    "        else:\n",
    "            print(f\"Class {cls}: No samples\")\n",
    "    \n",
    "    return class_dices\n",
    "\n",
    "# Uncomment to evaluate per-class metrics\n",
    "# num_classes = sample_output.size(1)  # Number of output channels\n",
    "# evaluate_per_class_metrics(model, val_loader, num_classes, DEVICE)"
   ]
  },
  {
   "cell_type": "code",
   "execution_count": 46,
   "metadata": {},
   "outputs": [
    {
     "name": "stderr",
     "output_type": "stream",
     "text": [
      "/tmp/ipykernel_2452238/4248802309.py:430: FutureWarning: You are using `torch.load` with `weights_only=False` (the current default value), which uses the default pickle module implicitly. It is possible to construct malicious pickle data which will execute arbitrary code during unpickling (See https://github.com/pytorch/pytorch/blob/main/SECURITY.md#untrusted-models for more details). In a future release, the default value for `weights_only` will be flipped to `True`. This limits the functions that could be executed during unpickling. Arbitrary objects will no longer be allowed to be loaded via this mode unless they are explicitly allowlisted by the user via `torch.serialization.add_safe_globals`. We recommend you start setting `weights_only=True` for any use case where you don't have full control of the loaded file. Please open an issue on GitHub for any issues related to this experimental feature.\n",
      "  checkpoint = torch.load(model_path)\n"
     ]
    },
    {
     "name": "stdout",
     "output_type": "stream",
     "text": [
      "Loading model from ./model/3DUNet_best.pth\n",
      "Loaded model from epoch 48\n"
     ]
    },
    {
     "name": "stderr",
     "output_type": "stream",
     "text": [
      "Testing: 0it [00:00, ?it/s]"
     ]
    },
    {
     "name": "stdout",
     "output_type": "stream",
     "text": [
      "Original data shape: torch.Size([16, 1, 32, 32, 32])\n",
      "Original label shape: torch.Size([16, 32, 32, 32])\n",
      "Model output shape: torch.Size([16, 5, 32, 32, 32])\n",
      "Processed label shape: torch.Size([16, 32, 32, 32])\n",
      "Sample 0_0 Dice scores:\n",
      "  Class 1: 0.1503\n",
      "  Class 2: 0.1226\n",
      "  Class 3: 0.0000\n",
      "  Class 4: 0.0000\n",
      "  Mean: 0.0682\n",
      "\n",
      "Prediction statistics:\n",
      "Classes: [0 1 2]\n",
      "Counts: [31466   615   687]\n",
      "Total voxels: 32768\n",
      "\n",
      "Ground truth statistics:\n",
      "Classes: [0 1 2 3 4]\n",
      "Counts: [32358   130   194    30    56]\n",
      "Total voxels: 32768\n",
      "\n",
      "Tensor shapes:\n",
      "Original: torch.Size([32, 32, 32])\n",
      "Prediction: torch.Size([32, 32, 32])\n",
      "Ground truth: torch.Size([32, 32, 32])\n"
     ]
    },
    {
     "name": "stderr",
     "output_type": "stream",
     "text": [
      "/tmp/ipykernel_2452238/4248802309.py:374: UserWarning: This figure includes Axes that are not compatible with tight_layout, so results might be incorrect.\n",
      "  plt.tight_layout()\n",
      "Testing: 1it [00:03,  3.14s/it]"
     ]
    },
    {
     "name": "stdout",
     "output_type": "stream",
     "text": [
      "Saved visualization files: ./test_results/original_0_0.nii, ./test_results/pred_0_0.nii, ./test_results/label_0_0.nii\n",
      "Sample 0_1 Dice scores:\n",
      "  Class 1: 0.2400\n",
      "  Class 2: 0.1921\n",
      "  Class 3: 0.0000\n",
      "  Class 4: 0.0000\n",
      "  Mean: 0.1080\n",
      "Sample 0_2 Dice scores:\n",
      "  Class 1: 0.0308\n",
      "  Class 2: 0.1739\n",
      "  Class 3: 0.0000\n",
      "  Class 4: 0.0000\n",
      "  Mean: 0.0512\n",
      "Sample 0_3 Dice scores:\n",
      "  Class 1: 0.2560\n",
      "  Class 2: 0.3412\n",
      "  Class 3: 0.0000\n",
      "  Class 4: 0.0000\n",
      "  Mean: 0.1493\n",
      "Sample 0_4 Dice scores:\n",
      "  Class 1: 0.0000\n",
      "  Class 2: 0.0950\n",
      "  Class 3: 0.0000\n",
      "  Class 4: 0.0000\n",
      "  Mean: 0.0238\n",
      "Sample 0_5 Dice scores:\n",
      "  Class 1: 0.2844\n",
      "  Class 2: 0.2454\n",
      "  Class 3: 0.0000\n",
      "  Class 4: 0.0000\n",
      "  Mean: 0.1325\n",
      "Sample 0_6 Dice scores:\n",
      "  Class 1: 0.1216\n",
      "  Class 2: 0.2961\n",
      "  Class 3: 0.0000\n",
      "  Class 4: 0.0000\n",
      "  Mean: 0.1044\n",
      "Sample 0_7 Dice scores:\n",
      "  Class 1: 0.0273\n",
      "  Class 2: 0.1617\n",
      "  Class 3: 0.0000\n",
      "  Class 4: 0.0000\n",
      "  Mean: 0.0472\n",
      "Sample 0_8 Dice scores:\n",
      "  Class 1: 0.3018\n",
      "  Class 2: 0.2804\n",
      "  Class 3: 0.0000\n",
      "  Class 4: 0.0000\n",
      "  Mean: 0.1455\n",
      "Sample 0_9 Dice scores:\n",
      "  Class 1: 0.2365\n",
      "  Class 2: 0.4277\n",
      "  Class 3: 0.0000\n",
      "  Class 4: 0.0000\n",
      "  Mean: 0.1660\n",
      "Sample 0_10 Dice scores:\n",
      "  Class 1: 0.1965\n",
      "  Class 2: 0.3704\n",
      "  Class 3: 0.0000\n",
      "  Class 4: 0.0000\n",
      "  Mean: 0.1417\n",
      "Sample 0_11 Dice scores:\n",
      "  Class 1: 0.0933\n",
      "  Class 2: 0.2164\n",
      "  Class 3: 0.0000\n",
      "  Class 4: 0.0000\n",
      "  Mean: 0.0774\n",
      "Sample 0_12 Dice scores:\n",
      "  Class 1: 0.5130\n",
      "  Class 2: 0.3397\n",
      "  Class 3: 0.0000\n",
      "  Class 4: 0.0000\n",
      "  Mean: 0.2132\n",
      "Sample 0_13 Dice scores:\n",
      "  Class 1: 0.1631\n",
      "  Class 2: 0.0394\n",
      "  Mean: 0.1013\n",
      "Sample 0_14 Dice scores:\n",
      "  Class 1: 0.1356\n",
      "  Class 2: 0.2080\n",
      "  Class 3: 0.0000\n",
      "  Class 4: 0.0000\n",
      "  Mean: 0.0859\n",
      "Sample 0_15 Dice scores:\n",
      "  Class 1: 0.2764\n",
      "  Class 2: 0.3398\n",
      "  Class 3: 0.0000\n",
      "  Class 4: 0.0000\n",
      "  Mean: 0.1540\n"
     ]
    },
    {
     "name": "stderr",
     "output_type": "stream",
     "text": [
      "Testing: 2it [00:04,  2.08s/it]"
     ]
    },
    {
     "name": "stdout",
     "output_type": "stream",
     "text": [
      "Sample 1_0 Dice scores:\n",
      "  Class 1: 0.2789\n",
      "  Class 2: 0.2495\n",
      "  Class 3: 0.0000\n",
      "  Class 4: 0.0000\n",
      "  Mean: 0.1321\n",
      "Sample 1_1 Dice scores:\n",
      "  Class 1: 0.2718\n",
      "  Class 2: 0.3986\n",
      "  Class 3: 0.0000\n",
      "  Class 4: 0.0000\n",
      "  Mean: 0.1676\n",
      "Sample 1_2 Dice scores:\n",
      "  Class 1: 0.4792\n",
      "  Class 2: 0.1224\n",
      "  Class 3: 0.0000\n",
      "  Class 4: 0.0000\n",
      "  Mean: 0.1504\n",
      "Sample 1_3 Dice scores:\n",
      "  Class 1: 0.2347\n",
      "  Class 2: 0.3419\n",
      "  Class 3: 0.0000\n",
      "  Class 4: 0.0000\n",
      "  Mean: 0.1442\n",
      "Sample 1_4 Dice scores:\n",
      "  Class 1: 0.0189\n",
      "  Class 2: 0.0119\n",
      "  Mean: 0.0154\n",
      "Sample 1_5 Dice scores:\n",
      "  Class 1: 0.0000\n",
      "  Class 2: 0.0718\n",
      "  Class 3: 0.0000\n",
      "  Class 4: 0.0000\n",
      "  Mean: 0.0179\n",
      "Sample 1_6 Dice scores:\n",
      "  Class 1: 0.5053\n",
      "  Class 2: 0.0938\n",
      "  Mean: 0.2995\n",
      "Sample 1_7 Dice scores:\n",
      "  Class 1: 0.0745\n",
      "  Class 2: 0.4575\n",
      "  Class 3: 0.0000\n",
      "  Class 4: 0.0000\n",
      "  Mean: 0.1330\n",
      "Sample 1_8 Dice scores:\n",
      "  Class 1: 0.0000\n",
      "  Class 2: 0.0000\n",
      "  Mean: 0.0000\n",
      "Sample 1_9 Dice scores:\n",
      "  Class 1: 0.6004\n",
      "  Class 2: 0.1569\n",
      "  Mean: 0.3786\n",
      "Sample 1_10 Dice scores:\n",
      "  Class 1: 0.1209\n",
      "  Class 2: 0.0316\n",
      "  Class 3: 0.0000\n",
      "  Class 4: 0.0000\n",
      "  Mean: 0.0381\n",
      "Sample 1_11 Dice scores:\n",
      "  Class 1: 0.2996\n",
      "  Class 2: 0.1910\n",
      "  Class 3: 0.0000\n",
      "  Class 4: 0.0000\n",
      "  Mean: 0.1227\n",
      "Sample 1_12 Dice scores:\n",
      "  Class 1: 0.2368\n",
      "  Class 2: 0.3636\n",
      "  Class 3: 0.0000\n",
      "  Class 4: 0.0000\n",
      "  Mean: 0.1501\n",
      "Sample 1_13 Dice scores:\n",
      "  Class 1: 0.3579\n",
      "  Class 2: 0.4622\n",
      "  Class 3: 0.0000\n",
      "  Class 4: 0.0000\n",
      "  Mean: 0.2050\n",
      "Sample 1_14 Dice scores:\n",
      "  Class 1: 0.0203\n",
      "  Class 2: 0.1288\n",
      "  Class 3: 0.0000\n",
      "  Class 4: 0.0000\n",
      "  Mean: 0.0373\n",
      "Sample 1_15 Dice scores:\n",
      "  Class 1: 0.1810\n",
      "  Class 2: 0.4171\n",
      "  Class 3: 0.0000\n",
      "  Class 4: 0.0000\n",
      "  Mean: 0.1495\n"
     ]
    },
    {
     "name": "stderr",
     "output_type": "stream",
     "text": [
      "Testing: 3it [00:05,  1.75s/it]"
     ]
    },
    {
     "name": "stdout",
     "output_type": "stream",
     "text": [
      "Sample 2_0 Dice scores:\n",
      "  Class 1: 0.1182\n",
      "  Class 2: 0.0748\n",
      "  Class 3: 0.0000\n",
      "  Class 4: 0.0000\n",
      "  Mean: 0.0483\n",
      "Sample 2_1 Dice scores:\n",
      "  Class 1: 0.0499\n",
      "  Class 2: 0.1436\n",
      "  Class 3: 0.0000\n",
      "  Class 4: 0.0000\n",
      "  Mean: 0.0484\n",
      "Sample 2_2 Dice scores:\n",
      "  Class 1: 0.3241\n",
      "  Class 2: 0.0356\n",
      "  Class 3: 0.0000\n",
      "  Class 4: 0.0000\n",
      "  Mean: 0.0899\n",
      "Sample 2_3 Dice scores:\n",
      "  Class 1: 0.0000\n",
      "  Class 2: 0.0000\n",
      "  Class 3: 0.0000\n",
      "  Class 4: 0.0000\n",
      "  Mean: 0.0000\n",
      "Sample 2_4 Dice scores:\n",
      "  Class 1: 0.2907\n",
      "  Class 2: 0.2444\n",
      "  Class 3: 0.0000\n",
      "  Class 4: 0.0000\n",
      "  Mean: 0.1338\n",
      "Sample 2_5 Dice scores:\n",
      "  Class 1: 0.1788\n",
      "  Class 2: 0.3504\n",
      "  Class 3: 0.0000\n",
      "  Class 4: 0.0000\n",
      "  Mean: 0.1323\n",
      "Sample 2_6 Dice scores:\n",
      "  Class 1: 0.1074\n",
      "  Class 2: 0.1878\n",
      "  Class 3: 0.0000\n",
      "  Class 4: 0.0000\n",
      "  Mean: 0.0738\n",
      "Sample 2_7 Dice scores:\n",
      "  Class 1: 0.0000\n",
      "  Class 2: 0.0000\n",
      "  Class 3: 0.0000\n",
      "  Class 4: 0.0000\n",
      "  Mean: 0.0000\n",
      "Sample 2_8 Dice scores:\n",
      "  Class 1: 0.0391\n",
      "  Class 2: 0.1015\n",
      "  Class 3: 0.0000\n",
      "  Class 4: 0.0000\n",
      "  Mean: 0.0351\n",
      "Sample 2_9 Dice scores:\n",
      "  Class 1: 0.4375\n",
      "  Class 2: 0.3234\n",
      "  Class 3: 0.0000\n",
      "  Class 4: 0.0000\n",
      "  Mean: 0.1902\n",
      "Sample 2_10 Dice scores:\n",
      "  Class 1: 0.4962\n",
      "  Class 2: 0.5031\n",
      "  Class 3: 0.0000\n",
      "  Class 4: 0.0000\n",
      "  Mean: 0.2498\n",
      "Sample 2_11 Dice scores:\n",
      "  Class 1: 0.2557\n",
      "  Class 2: 0.0440\n",
      "  Class 3: 0.0000\n",
      "  Class 4: 0.0000\n",
      "  Mean: 0.0749\n",
      "Sample 2_12 Dice scores:\n",
      "  Class 1: 0.3829\n",
      "  Class 2: 0.1790\n",
      "  Mean: 0.2809\n",
      "Sample 2_13 Dice scores:\n",
      "  Class 1: 0.0920\n",
      "  Class 2: 0.1029\n",
      "  Class 3: 0.0000\n",
      "  Class 4: 0.0000\n",
      "  Mean: 0.0487\n",
      "Sample 2_14 Dice scores:\n",
      "  Class 1: 0.1860\n",
      "  Class 2: 0.3828\n",
      "  Class 3: 0.0000\n",
      "  Class 4: 0.0000\n",
      "  Mean: 0.1422\n",
      "Sample 2_15 Dice scores:\n",
      "  Class 1: 0.0815\n",
      "  Class 2: 0.1952\n",
      "  Class 3: 0.0000\n",
      "  Class 4: 0.0000\n",
      "  Mean: 0.0692\n"
     ]
    },
    {
     "name": "stderr",
     "output_type": "stream",
     "text": [
      "Testing: 5it [00:08,  1.60s/it]\n"
     ]
    },
    {
     "name": "stdout",
     "output_type": "stream",
     "text": [
      "\n",
      "Test Results:\n",
      "Test Dice Score: 0.1056\n",
      "Average Test Loss: 0.8701\n",
      "\n",
      "Per-class Dice scores:\n",
      "  Class 1: 0.1849 (from 74 samples)\n",
      "  Class 2: 0.1976 (from 74 samples)\n",
      "  Class 3: 0.0000 (from 65 samples)\n",
      "  Class 4: 0.0000 (from 65 samples)\n",
      "Final Dice Score: 0.1056\n"
     ]
    }
   ],
   "source": [
    "import torch\n",
    "import torch.nn.functional as F\n",
    "import torch.nn as nn\n",
    "import numpy as np\n",
    "from tqdm import tqdm\n",
    "import sys\n",
    "import matplotlib.pyplot as plt\n",
    "import nibabel as nib\n",
    "\n",
    "# ========== 1. DICE LOSS IMPLEMENTATION ==========\n",
    "class DiceLoss(nn.Module):\n",
    "    def __init__(self, smooth=1.0, ignore_background=True):\n",
    "        \"\"\"\n",
    "        Dice Loss for segmentation tasks\n",
    "        \n",
    "        Args:\n",
    "            smooth (float): Smoothing value to avoid division by zero\n",
    "            ignore_background (bool): Whether to ignore background class (index 0)\n",
    "        \"\"\"\n",
    "        super(DiceLoss, self).__init__()\n",
    "        self.smooth = smooth\n",
    "        self.ignore_background = ignore_background\n",
    "        \n",
    "    def forward(self, inputs, targets):\n",
    "        \"\"\"\n",
    "        Calculate Dice Loss\n",
    "        \n",
    "        Args:\n",
    "            inputs: Model predictions (B, C, D, H, W)\n",
    "            targets: Ground truth labels (B, D, H, W)\n",
    "            \n",
    "        Returns:\n",
    "            Loss value\n",
    "        \"\"\"\n",
    "        # Get softmax probabilities\n",
    "        inputs = F.softmax(inputs, dim=1)\n",
    "        \n",
    "        # Convert targets to one-hot encoding\n",
    "        num_classes = inputs.size(1)\n",
    "        targets_one_hot = F.one_hot(targets, num_classes=num_classes).permute(0, 4, 1, 2, 3).float()\n",
    "        \n",
    "        # Flatten the spatial dimensions\n",
    "        inputs = inputs.reshape(inputs.size(0), inputs.size(1), -1)\n",
    "        targets_one_hot = targets_one_hot.reshape(targets_one_hot.size(0), targets_one_hot.size(1), -1)\n",
    "        \n",
    "        # Calculate Dice coefficient for each class and batch\n",
    "        dice_scores = []\n",
    "        \n",
    "        # Loop through classes\n",
    "        start_idx = 1 if self.ignore_background else 0\n",
    "        \n",
    "        for cls in range(start_idx, num_classes):\n",
    "            # Get current class predictions and targets\n",
    "            input_cls = inputs[:, cls, :]  # (B, D*H*W)\n",
    "            target_cls = targets_one_hot[:, cls, :]  # (B, D*H*W)\n",
    "            \n",
    "            # Calculate intersection and union\n",
    "            intersection = (input_cls * target_cls).sum(dim=1)  # (B)\n",
    "            sum_inputs = input_cls.sum(dim=1)  # (B)\n",
    "            sum_targets = target_cls.sum(dim=1)  # (B)\n",
    "            \n",
    "            # Dice coefficient\n",
    "            dice = (2.0 * intersection + self.smooth) / (sum_inputs + sum_targets + self.smooth)  # (B)\n",
    "            \n",
    "            # Skip empty target slices (for stability)\n",
    "            non_empty = sum_targets > 0\n",
    "            if non_empty.sum() > 0:\n",
    "                # Only include valid (non-NaN) values in the loss calculation\n",
    "                dice_valid = dice[non_empty]\n",
    "                dice_scores.append(dice_valid.mean())\n",
    "        \n",
    "        # Check if we have any valid dice scores\n",
    "        if len(dice_scores) == 0:\n",
    "            # If no valid scores (e.g., all background), return a loss value\n",
    "            # that encourages the model to predict background\n",
    "            return torch.tensor(0.0, device=inputs.device, requires_grad=True)\n",
    "        \n",
    "        # Average Dice score\n",
    "        dice_avg = torch.stack(dice_scores).mean()\n",
    "        \n",
    "        # Return Dice loss (1 - Dice coefficient)\n",
    "        return 1.0 - dice_avg\n",
    "\n",
    "# ========== 2. SAVING AND UTILITY FUNCTIONS ==========\n",
    "def save_as_nifti(tensor, filename):\n",
    "    \"\"\"\n",
    "    Save a tensor as a NIfTI file.\n",
    "    tensor: Tensor to be saved as NIfTI.\n",
    "    filename: The output file name.\n",
    "    \"\"\"\n",
    "    # Convert tensor to numpy array (NIfTI requires numpy arrays)\n",
    "    nifti_img = nib.Nifti1Image(tensor, affine=np.eye(4))  # Using identity matrix as affine\n",
    "    \n",
    "    # Save as NIfTI file\n",
    "    nib.save(nifti_img, filename)\n",
    "\n",
    "def calculate_dice_score(pred, target, ignore_background=True, smooth=1e-6):\n",
    "    \"\"\"\n",
    "    Calculate Dice score for each class separately\n",
    "    \n",
    "    Args:\n",
    "        pred: Predicted segmentation mask (D, H, W)\n",
    "        target: Ground truth segmentation mask (D, H, W)\n",
    "        ignore_background: Whether to ignore background class (index 0)\n",
    "        smooth: Smoothing factor to avoid division by zero\n",
    "        \n",
    "    Returns:\n",
    "        Dictionary of Dice scores for each class\n",
    "    \"\"\"\n",
    "    # Get unique classes in target\n",
    "    unique_classes = torch.unique(target)\n",
    "    dice_scores = {}\n",
    "    \n",
    "    # Start from class 1 if ignoring background\n",
    "    start_idx = 1 if ignore_background and 0 in unique_classes else 0\n",
    "    \n",
    "    # Calculate Dice for each class\n",
    "    for cls in unique_classes:\n",
    "        if ignore_background and cls == 0:\n",
    "            continue\n",
    "            \n",
    "        # Create binary masks\n",
    "        pred_mask = (pred == cls).float()\n",
    "        target_mask = (target == cls).float()\n",
    "        \n",
    "        # Calculate intersection and union\n",
    "        intersection = (pred_mask * target_mask).sum()\n",
    "        union = pred_mask.sum() + target_mask.sum()\n",
    "        \n",
    "        # Calculate Dice\n",
    "        dice = (2.0 * intersection + smooth) / (union + smooth)\n",
    "        dice_scores[cls.item()] = dice.item()\n",
    "    \n",
    "    # Calculate mean Dice across all classes\n",
    "    if dice_scores:\n",
    "        dice_scores['mean'] = sum(dice_scores.values()) / len(dice_scores)\n",
    "    else:\n",
    "        dice_scores['mean'] = 1.0  # Perfect dice if all background\n",
    "        \n",
    "    return dice_scores\n",
    "\n",
    "# ========== 3. TEST LOOP ==========\n",
    "def test_model(model, test_loader, device, output_dir='./'):\n",
    "    \"\"\"\n",
    "    Test the model and save results\n",
    "    \n",
    "    Args:\n",
    "        model: The trained model\n",
    "        test_loader: DataLoader for test data\n",
    "        device: Device to run the model on\n",
    "        output_dir: Directory to save outputs\n",
    "        \n",
    "    Returns:\n",
    "        Average Dice score\n",
    "    \"\"\"\n",
    "    # Initialize tracking variables\n",
    "    save = False\n",
    "    total_dice = 0\n",
    "    total_samples = 0\n",
    "    class_dice_scores = {}\n",
    "    \n",
    "    # Create output directory if it doesn't exist\n",
    "    os.makedirs(output_dir, exist_ok=True)\n",
    "    \n",
    "    # Use Dice Loss instead of CrossEntropyLoss\n",
    "    criterion = DiceLoss(smooth=1.0, ignore_background=True)\n",
    "    \n",
    "    # Set model to evaluation mode\n",
    "    model.to(device)\n",
    "    model.eval()\n",
    "    total_loss = 0\n",
    "    \n",
    "    with torch.no_grad():\n",
    "        for batch_idx, (data, label) in tqdm(enumerate(test_loader), desc=\"Testing\"):\n",
    "            data, label = data.to(device), label.to(device)\n",
    "            \n",
    "            # Create copies to avoid modifying original data\n",
    "            data_clone = data.clone()\n",
    "            label_clone = label.clone()\n",
    "    \n",
    "            # Print shapes for the first batch\n",
    "            if batch_idx == 0:\n",
    "                print(f\"Original data shape: {data.shape}\")\n",
    "                print(f\"Original label shape: {label.shape}\")\n",
    "            \n",
    "            # Forward pass\n",
    "            output = model(data)\n",
    "            \n",
    "            if batch_idx == 0:\n",
    "                print(f\"Model output shape: {output.shape}\")\n",
    "            \n",
    "            # Handle one-hot encoded labels\n",
    "            if label_clone.dim() == 5:  # One-hot encoded (batch, C, D, H, W)\n",
    "                label_clone = torch.argmax(label_clone, dim=1)\n",
    "            \n",
    "            if batch_idx == 0:\n",
    "                print(f\"Processed label shape: {label_clone.shape}\")\n",
    "            \n",
    "            # Ensure label has correct type\n",
    "            label_clone = label_clone.long()\n",
    "            \n",
    "            # Calculate loss\n",
    "            try:\n",
    "                loss = criterion(output, label_clone)\n",
    "                total_loss += loss.item()\n",
    "            except Exception as e:\n",
    "                print(f\"Error in loss calculation: {e}\")\n",
    "                print(f\"Output shape: {output.shape}, Label shape: {label_clone.shape}\")\n",
    "                continue\n",
    "    \n",
    "            # Process each sample in the batch\n",
    "            for i in range(data.size(0)):\n",
    "                # Get predictions for this sample\n",
    "                output_sample = output[i]  # (C, D, H, W)\n",
    "                label_sample = label_clone[i]  # (D, H, W)\n",
    "                \n",
    "                # Get predicted class\n",
    "                pred = torch.argmax(output_sample, dim=0)  # (D, H, W)\n",
    "                \n",
    "                # Calculate per-class Dice scores\n",
    "                dice_scores = calculate_dice_score(pred, label_sample, ignore_background=True)\n",
    "                \n",
    "                # Track average Dice score\n",
    "                total_dice += dice_scores['mean']\n",
    "                total_samples += 1\n",
    "                \n",
    "                # Track per-class Dice scores\n",
    "                for cls, score in dice_scores.items():\n",
    "                    if cls != 'mean':\n",
    "                        if cls not in class_dice_scores:\n",
    "                            class_dice_scores[cls] = []\n",
    "                        class_dice_scores[cls].append(score)\n",
    "                \n",
    "                # Print Dice scores for the first few samples\n",
    "                if batch_idx < 3:\n",
    "                    print(f\"Sample {batch_idx}_{i} Dice scores:\")\n",
    "                    for cls, score in dice_scores.items():\n",
    "                        if cls != 'mean':\n",
    "                            print(f\"  Class {cls}: {score:.4f}\")\n",
    "                    print(f\"  Mean: {dice_scores['mean']:.4f}\")\n",
    "    \n",
    "                # Save visualization for the first sample\n",
    "                if not save:\n",
    "                    # File names for saving\n",
    "                    original_filename = os.path.join(output_dir, f\"original_{batch_idx}_{i}.nii\")\n",
    "                    pred_filename = os.path.join(output_dir, f\"pred_{batch_idx}_{i}.nii\")\n",
    "                    label_filename = os.path.join(output_dir, f\"label_{batch_idx}_{i}.nii\")\n",
    "    \n",
    "                    # Process tensors for visualization\n",
    "                    original = data_clone[i, 0] if data_clone.shape[1] == 1 else torch.argmax(data_clone[i], dim=0)\n",
    "                    gt_label = label_sample\n",
    "    \n",
    "                    # Print statistics for the first sample\n",
    "                    print(\"\\nPrediction statistics:\")\n",
    "                    unique_elements, counts = torch.unique(pred, return_counts=True)\n",
    "                    print(f\"Classes: {unique_elements.cpu().numpy()}\")\n",
    "                    print(f\"Counts: {counts.cpu().numpy()}\")\n",
    "                    print(f\"Total voxels: {counts.sum().item()}\")\n",
    "                    \n",
    "                    print(\"\\nGround truth statistics:\")\n",
    "                    unique_elements, counts = torch.unique(gt_label, return_counts=True)\n",
    "                    print(f\"Classes: {unique_elements.cpu().numpy()}\")\n",
    "                    print(f\"Counts: {counts.cpu().numpy()}\")\n",
    "                    print(f\"Total voxels: {counts.sum().item()}\")\n",
    "                    \n",
    "                    print(f\"\\nTensor shapes:\")\n",
    "                    print(f\"Original: {original.shape}\")\n",
    "                    print(f\"Prediction: {pred.shape}\")\n",
    "                    print(f\"Ground truth: {gt_label.shape}\")\n",
    "    \n",
    "                    # Save as NIfTI \n",
    "                    save_as_nifti(original.cpu().numpy().astype(np.int16), original_filename)\n",
    "                    save_as_nifti(pred.cpu().numpy().astype(np.int16), pred_filename)\n",
    "                    save_as_nifti(gt_label.cpu().numpy().astype(np.int16), label_filename)\n",
    "    \n",
    "                    # Create visualization of the saved sample\n",
    "                    visualize_3d_sample(original.cpu().numpy(), \n",
    "                                       gt_label.cpu().numpy(), \n",
    "                                       pred.cpu().numpy(),\n",
    "                                       os.path.join(output_dir, f\"sample_{batch_idx}_{i}_visualization.png\"))\n",
    "    \n",
    "                    save = True\n",
    "                    print(f\"Saved visualization files: {original_filename}, {pred_filename}, {label_filename}\")\n",
    "    \n",
    "    # Compute average metrics\n",
    "    if total_samples > 0:\n",
    "        avg_dice = total_dice / total_samples\n",
    "        avg_loss = total_loss / len(test_loader) if len(test_loader) > 0 else float('inf')\n",
    "    \n",
    "        print(f\"\\nTest Results:\")\n",
    "        print(f\"Test Dice Score: {avg_dice:.4f}\")\n",
    "        print(f\"Average Test Loss: {avg_loss:.4f}\")\n",
    "        \n",
    "        # Print per-class results\n",
    "        print(\"\\nPer-class Dice scores:\")\n",
    "        for cls in sorted(class_dice_scores.keys()):\n",
    "            class_avg = sum(class_dice_scores[cls]) / len(class_dice_scores[cls])\n",
    "            print(f\"  Class {cls}: {class_avg:.4f} (from {len(class_dice_scores[cls])} samples)\")\n",
    "        \n",
    "        # Plot per-class dice scores\n",
    "        plot_per_class_metrics(class_dice_scores, os.path.join(output_dir, \"per_class_dice.png\"))\n",
    "        \n",
    "        return avg_dice\n",
    "    else:\n",
    "        print(\"No valid samples were processed\")\n",
    "        return 0.0\n",
    "\n",
    "# ========== 4. VISUALIZATION FUNCTIONS ==========\n",
    "def visualize_3d_sample(input_vol, label_vol, pred_vol, output_filename, num_slices=3):\n",
    "    \"\"\"\n",
    "    Visualize a 3D sample with input, ground truth, and prediction\n",
    "    \n",
    "    Args:\n",
    "        input_vol: Input volume (D, H, W)\n",
    "        label_vol: Ground truth segmentation (D, H, W)\n",
    "        pred_vol: Predicted segmentation (D, H, W)\n",
    "        output_filename: File to save the visualization\n",
    "        num_slices: Number of slices to visualize\n",
    "    \"\"\"\n",
    "    # Get dimensions\n",
    "    d, h, w = input_vol.shape\n",
    "    \n",
    "    # Find slices with foreground classes\n",
    "    foreground_slices = []\n",
    "    for z in range(d):\n",
    "        if np.any(label_vol[z] > 0):\n",
    "            foreground_slices.append(z)\n",
    "    \n",
    "    # Choose slices - prefer those with foreground classes\n",
    "    if len(foreground_slices) >= num_slices:\n",
    "        # Select evenly spaced foreground slices\n",
    "        indices = np.linspace(0, len(foreground_slices)-1, num_slices, dtype=int)\n",
    "        z_indices = [foreground_slices[i] for i in indices]\n",
    "    else:\n",
    "        # Fallback to evenly spaced slices\n",
    "        z_indices = np.linspace(d//4, 3*d//4, num_slices, dtype=int)\n",
    "    \n",
    "    # Get unique classes\n",
    "    all_classes = sorted(np.unique(np.concatenate([label_vol.flatten(), pred_vol.flatten()])))\n",
    "    num_classes = len(all_classes)\n",
    "    \n",
    "    # Create figure with subplots\n",
    "    fig, axes = plt.subplots(num_slices, 3, figsize=(15, 5*num_slices))\n",
    "    \n",
    "    if num_slices == 1:\n",
    "        axes = axes.reshape(1, -1)\n",
    "    \n",
    "    # Use viridis colormap for multiple classes\n",
    "    cmap = plt.cm.viridis\n",
    "    \n",
    "    for i, z in enumerate(z_indices):\n",
    "        # Input slice - grayscale\n",
    "        axes[i, 0].imshow(input_vol[z], cmap='gray')\n",
    "        axes[i, 0].set_title(f'Input (Slice {z})')\n",
    "        axes[i, 0].axis('off')\n",
    "        \n",
    "        # Ground truth slice - with colormap\n",
    "        im1 = axes[i, 1].imshow(label_vol[z], cmap=cmap, vmin=0, vmax=max(1, num_classes-1))\n",
    "        axes[i, 1].set_title(f'Ground Truth (Slice {z})')\n",
    "        axes[i, 1].axis('off')\n",
    "        \n",
    "        # Prediction slice - with same colormap\n",
    "        im2 = axes[i, 2].imshow(pred_vol[z], cmap=cmap, vmin=0, vmax=max(1, num_classes-1))\n",
    "        axes[i, 2].set_title(f'Prediction (Slice {z})')\n",
    "        axes[i, 2].axis('off')\n",
    "    \n",
    "    # Add colorbar if we have multiple classes\n",
    "    if num_classes > 1:\n",
    "        cbar_ax = fig.add_axes([0.92, 0.15, 0.02, 0.7])\n",
    "        cbar = fig.colorbar(im2, cax=cbar_ax)\n",
    "        cbar.set_ticks(range(num_classes))\n",
    "        cbar.set_ticklabels([f\"Class {c}\" for c in all_classes])\n",
    "    \n",
    "    plt.tight_layout()\n",
    "    plt.savefig(output_filename, dpi=300)\n",
    "    plt.close()\n",
    "\n",
    "def plot_per_class_metrics(class_metrics, output_filename):\n",
    "    \"\"\"\n",
    "    Plot per-class metrics\n",
    "    \n",
    "    Args:\n",
    "        class_metrics: Dictionary with class indices as keys and lists of metrics as values\n",
    "        output_filename: File to save the plot\n",
    "    \"\"\"\n",
    "    plt.figure(figsize=(10, 6))\n",
    "    \n",
    "    # Calculate mean for each class\n",
    "    classes = sorted(class_metrics.keys())\n",
    "    mean_scores = [sum(class_metrics[cls]) / len(class_metrics[cls]) for cls in classes]\n",
    "    \n",
    "    # Create bar plot\n",
    "    plt.bar(range(len(classes)), mean_scores)\n",
    "    plt.xlabel('Class')\n",
    "    plt.ylabel('Mean Dice Score')\n",
    "    plt.title('Per-Class Dice Scores')\n",
    "    plt.xticks(range(len(classes)), [f\"Class {cls}\" for cls in classes])\n",
    "    plt.ylim(0, 1)\n",
    "    \n",
    "    # Add value labels on top of each bar\n",
    "    for i, score in enumerate(mean_scores):\n",
    "        plt.text(i, score + 0.02, f\"{score:.4f}\", ha='center')\n",
    "    \n",
    "    plt.tight_layout()\n",
    "    plt.savefig(output_filename, dpi=300)\n",
    "    plt.close()\n",
    "\n",
    "# ========== 5. MAIN TEST FUNCTION ==========\n",
    "import os\n",
    "\n",
    "def run_test(model_path, test_loader, device, output_dir='./results'):\n",
    "    \"\"\"\n",
    "    Load a model and test it\n",
    "    \n",
    "    Args:\n",
    "        model_path: Path to the saved model\n",
    "        test_loader: DataLoader for test data\n",
    "        device: Device to run the model on\n",
    "        output_dir: Directory to save outputs\n",
    "        \n",
    "    Returns:\n",
    "        Average Dice score\n",
    "    \"\"\"\n",
    "    # Create output directory\n",
    "    os.makedirs(output_dir, exist_ok=True)\n",
    "    \n",
    "    # Load the model\n",
    "    if os.path.exists(model_path):\n",
    "        print(f\"Loading model from {model_path}\")\n",
    "        checkpoint = torch.load(model_path)\n",
    "        \n",
    "        # Handle different checkpoint formats\n",
    "        if isinstance(checkpoint, dict) and 'model_state_dict' in checkpoint:\n",
    "            model.load_state_dict(checkpoint['model_state_dict'])\n",
    "            print(f\"Loaded model from epoch {checkpoint.get('epoch', 'unknown')}\")\n",
    "        else:\n",
    "            model.load_state_dict(checkpoint)\n",
    "            print(\"Loaded model weights\")\n",
    "    else:\n",
    "        print(f\"Warning: Model file {model_path} not found. Using current model state.\")\n",
    "    \n",
    "    # Run the test\n",
    "    dice_score = test_model(model, test_loader, device, output_dir)\n",
    "    \n",
    "    return dice_score\n",
    "\n",
    "# Test the model\n",
    "if __name__ == \"__main__\":\n",
    "    # Use this function to test your model\n",
    "    output_dir = './test_results'\n",
    "    dice_score = run_test('./model/3DUNet_best.pth', test_loader, DEVICE, output_dir)\n",
    "    print(f\"Final Dice Score: {dice_score:.4f}\")"
   ]
  },
  {
   "cell_type": "code",
   "execution_count": 44,
   "metadata": {},
   "outputs": [
    {
     "name": "stderr",
     "output_type": "stream",
     "text": [
      "Testing: 0it [00:00, ?it/s]"
     ]
    },
    {
     "name": "stdout",
     "output_type": "stream",
     "text": [
      "Original data shape: torch.Size([16, 1, 32, 32, 32])\n",
      "Original label shape: torch.Size([16, 32, 32, 32])\n",
      "Model output shape: torch.Size([16, 5, 32, 32, 32])\n",
      "Warning: Possible dimension mismatch in label tensor\n",
      "Processed label shape: torch.Size([16, 32, 32, 32])\n"
     ]
    },
    {
     "name": "stderr",
     "output_type": "stream",
     "text": [
      "Testing: 1it [00:01,  1.34s/it]"
     ]
    },
    {
     "name": "stdout",
     "output_type": "stream",
     "text": [
      "Sample 0 Dice score: 0.5288\n",
      "\n",
      "Prediction statistics:\n",
      "Classes: tensor([0, 1, 2], device='cuda:0')\n",
      "Counts: tensor([31633,   307,   828], device='cuda:0')\n",
      "Total voxels: 32768\n",
      "\n",
      "Ground truth statistics:\n",
      "Classes: tensor([ 0, 17, 18, 19, 20, 21, 22], device='cuda:0')\n",
      "Counts: tensor([915,  18,  43,  28,   8,  10,   2], device='cuda:0')\n",
      "Total voxels: 1024\n",
      "\n",
      "Tensor shapes:\n",
      "Original: torch.Size([32, 32, 32])\n",
      "Prediction: torch.Size([32, 32, 32])\n",
      "Ground truth: torch.Size([32, 32])\n",
      "Saved visualization files: original_0_0.nii, pred_0_0.nii, label_0_0.nii\n",
      "Sample 1 Dice score: 0.4797\n",
      "Sample 2 Dice score: 0.0000\n",
      "Sample 3 Dice score: 0.0000\n",
      "Sample 4 Dice score: 0.1875\n",
      "Sample 5 Dice score: 0.6896\n",
      "Sample 6 Dice score: 0.0453\n",
      "Sample 7 Dice score: 0.0715\n",
      "Sample 8 Dice score: 0.6760\n",
      "Sample 9 Dice score: 0.7831\n",
      "Sample 10 Dice score: 0.2690\n",
      "Sample 11 Dice score: 0.6179\n",
      "Sample 12 Dice score: 0.5335\n",
      "Sample 13 Dice score: 0.3751\n",
      "Sample 14 Dice score: 0.1326\n",
      "Sample 15 Dice score: 0.8379\n",
      "Original data shape: torch.Size([16, 1, 32, 32, 32])\n",
      "Original label shape: torch.Size([16, 32, 32, 32])\n",
      "Model output shape: torch.Size([16, 5, 32, 32, 32])\n",
      "Warning: Possible dimension mismatch in label tensor\n",
      "Processed label shape: torch.Size([16, 32, 32, 32])\n"
     ]
    },
    {
     "name": "stderr",
     "output_type": "stream",
     "text": [
      "Testing: 2it [00:02,  1.31s/it]"
     ]
    },
    {
     "name": "stdout",
     "output_type": "stream",
     "text": [
      "Sample 0 Dice score: 0.4226\n",
      "Sample 1 Dice score: 0.7214\n",
      "Sample 2 Dice score: 0.0000\n",
      "Sample 3 Dice score: 0.7073\n",
      "Sample 4 Dice score: 0.1305\n",
      "Sample 5 Dice score: 0.4631\n",
      "Sample 6 Dice score: 0.5269\n",
      "Sample 7 Dice score: 0.9567\n",
      "Sample 8 Dice score: 0.0037\n",
      "Sample 9 Dice score: 0.0000\n",
      "Sample 10 Dice score: 0.7133\n",
      "Sample 11 Dice score: 0.6467\n",
      "Sample 12 Dice score: 0.5632\n",
      "Sample 13 Dice score: 0.8838\n",
      "Sample 14 Dice score: 0.1806\n",
      "Sample 15 Dice score: 0.5727\n",
      "Original data shape: torch.Size([16, 1, 32, 32, 32])\n",
      "Original label shape: torch.Size([16, 32, 32, 32])\n",
      "Model output shape: torch.Size([16, 5, 32, 32, 32])\n",
      "Warning: Possible dimension mismatch in label tensor\n",
      "Processed label shape: torch.Size([16, 32, 32, 32])\n"
     ]
    },
    {
     "name": "stderr",
     "output_type": "stream",
     "text": [
      "Testing: 3it [00:03,  1.31s/it]"
     ]
    },
    {
     "name": "stdout",
     "output_type": "stream",
     "text": [
      "Sample 0 Dice score: 0.0372\n",
      "Sample 1 Dice score: 0.4063\n",
      "Sample 2 Dice score: 0.3599\n",
      "Sample 3 Dice score: 0.0328\n",
      "Sample 4 Dice score: 0.5140\n",
      "Sample 5 Dice score: 1.0623\n",
      "Sample 6 Dice score: 0.7034\n",
      "Sample 7 Dice score: 0.0000\n",
      "Sample 8 Dice score: 0.3826\n",
      "Sample 9 Dice score: 0.9411\n",
      "Sample 10 Dice score: 0.5811\n",
      "Sample 11 Dice score: 0.7184\n",
      "Sample 12 Dice score: 0.2327\n",
      "Sample 13 Dice score: 0.5151\n",
      "Sample 14 Dice score: 0.9927\n",
      "Sample 15 Dice score: 0.6809\n",
      "Original data shape: torch.Size([16, 1, 32, 32, 32])\n",
      "Original label shape: torch.Size([16, 32, 32, 32])\n",
      "Model output shape: torch.Size([16, 5, 32, 32, 32])\n",
      "Warning: Possible dimension mismatch in label tensor\n",
      "Processed label shape: torch.Size([16, 32, 32, 32])\n"
     ]
    },
    {
     "name": "stderr",
     "output_type": "stream",
     "text": [
      "Testing: 4it [00:05,  1.30s/it]"
     ]
    },
    {
     "name": "stdout",
     "output_type": "stream",
     "text": [
      "Sample 0 Dice score: 0.2510\n",
      "Sample 1 Dice score: 0.3191\n",
      "Sample 2 Dice score: 0.4227\n",
      "Sample 3 Dice score: 0.0000\n",
      "Sample 4 Dice score: 0.0000\n",
      "Sample 5 Dice score: 0.2338\n",
      "Sample 6 Dice score: 0.0178\n",
      "Sample 7 Dice score: 0.0000\n",
      "Sample 8 Dice score: 0.0000\n",
      "Sample 9 Dice score: 0.0000\n",
      "Sample 10 Dice score: 0.2090\n",
      "Sample 11 Dice score: 0.0000\n",
      "Sample 12 Dice score: 0.3561\n",
      "Sample 13 Dice score: 0.0000\n",
      "Sample 14 Dice score: 0.5258\n",
      "Sample 15 Dice score: 0.0000\n"
     ]
    },
    {
     "name": "stderr",
     "output_type": "stream",
     "text": [
      "Testing: 5it [00:06,  1.20s/it]"
     ]
    },
    {
     "name": "stdout",
     "output_type": "stream",
     "text": [
      "Original data shape: torch.Size([10, 1, 32, 32, 32])\n",
      "Original label shape: torch.Size([10, 32, 32, 32])\n",
      "Model output shape: torch.Size([10, 5, 32, 32, 32])\n",
      "Warning: Possible dimension mismatch in label tensor\n",
      "Processed label shape: torch.Size([10, 32, 32, 32])\n",
      "Sample 0 Dice score: 0.0000\n",
      "Sample 1 Dice score: 0.3439\n",
      "Sample 2 Dice score: 0.0000\n",
      "Sample 3 Dice score: 0.0042\n",
      "Sample 4 Dice score: 1.0217\n",
      "Sample 5 Dice score: 0.1962\n",
      "Sample 6 Dice score: 0.4124\n",
      "Sample 7 Dice score: 0.2491\n",
      "Sample 8 Dice score: 0.3992\n",
      "Sample 9 Dice score: 1.0736\n",
      "\n",
      "Test Results:\n",
      "Test Dice Accuracy: 0.3772\n",
      "Average Test Loss: 7.2524\n"
     ]
    },
    {
     "name": "stderr",
     "output_type": "stream",
     "text": [
      "\n"
     ]
    }
   ],
   "source": [
    "import torch\n",
    "import torch.nn.functional as F\n",
    "import torch.nn as nn\n",
    "import numpy as np\n",
    "from tqdm import tqdm\n",
    "import sys\n",
    "import nibabel as nib\n",
    "\n",
    "def save_as_nifti(tensor, filename):\n",
    "    \"\"\"\n",
    "    Save a tensor as a NIfTI file.\n",
    "    tensor: Tensor to be saved as NIfTI.\n",
    "    filename: The output file name.\n",
    "    \"\"\"\n",
    "    # Convert tensor to numpy array (NIfTI requires numpy arrays)\n",
    "    nifti_img = nib.Nifti1Image(tensor, affine=np.eye(4))  # Using identity matrix as affine\n",
    "    \n",
    "    # Save as NIfTI file\n",
    "    nib.save(nifti_img, filename)\n",
    "\n",
    "def multiclass_dice_coeff(input, target, epsilon=1e-6):\n",
    "    \"\"\"\n",
    "    Compute the Dice Score for multi-class segmentation.\n",
    "    \n",
    "    Args:\n",
    "        input (torch.Tensor): Model output logits (C, H, W, D).\n",
    "        target (torch.Tensor): Ground truth labels (C, H, W, D).\n",
    "        epsilon (float): Small value to avoid division by zero.\n",
    "        \n",
    "    Returns:\n",
    "        mean_dice (float): Mean Dice Score across all classes.\n",
    "    \"\"\"\n",
    "    input = torch.argmax(input, dim=0)  # (H, W, D) - get class index with highest logit\n",
    "    \n",
    "    # Ensure target is long type\n",
    "    target = target.int()\n",
    "    \n",
    "    # Calculate intersection and union\n",
    "    intersection = (input * target).sum()\n",
    "    union = input.sum() + target.sum()\n",
    "\n",
    "    # Compute Dice score\n",
    "    dice = (2. * intersection + epsilon) / (union + epsilon)\n",
    "\n",
    "    return dice\n",
    "\n",
    "# Test loop\n",
    "save = False\n",
    "total_dice = 0\n",
    "total_samples = 0\n",
    "\n",
    "model.to(DEVICE)\n",
    "model.eval()\n",
    "total_loss = 0\n",
    "criterion = nn.CrossEntropyLoss(weight=class_weights)\n",
    "\n",
    "with torch.no_grad():\n",
    "    for batch_idx, (data, label) in tqdm(enumerate(test_loader), desc=\"Testing\"):\n",
    "        data, label = data.to(DEVICE), label.to(DEVICE)\n",
    "        \n",
    "        data_clone = data.clone()\n",
    "        label_clone = label.clone()\n",
    "\n",
    "        # Check data dimensions before operations\n",
    "        print(f\"Original data shape: {data.shape}\")\n",
    "        print(f\"Original label shape: {label.shape}\")\n",
    "        \n",
    "        # Model forward pass\n",
    "        output = model(data)  # Output shape should be (batch, C, D, H, W)\n",
    "        print(f\"Model output shape: {output.shape}\")\n",
    "        \n",
    "        # Convert label for loss calculation - FIXED DIMENSION ISSUE\n",
    "        # Based on the error, we need to ensure label_clone has the shape (batch, D, H, W)\n",
    "        if label_clone.dim() == 5:  # If one-hot encoded with shape (batch, C, D, H, W)\n",
    "            label_clone = torch.argmax(label_clone, dim=1)  # Convert to class indices (batch, D, H, W)\n",
    "        elif label_clone.dim() == 4 and label_clone.shape != output.shape[2:]:\n",
    "            # Handle possible dimension mismatch\n",
    "            # For 3D UNet, ensure target has 3 spatial dimensions\n",
    "            print(\"Warning: Possible dimension mismatch in label tensor\")\n",
    "            \n",
    "        print(f\"Processed label shape: {label_clone.shape}\")\n",
    "        \n",
    "        # Ensure label has correct type for CrossEntropyLoss\n",
    "        label_clone = label_clone.long()\n",
    "        \n",
    "        # Compute loss - this line was causing the error\n",
    "        try:\n",
    "            loss = criterion(output, label_clone)\n",
    "            total_loss += loss.item()\n",
    "        except RuntimeError as e:\n",
    "            print(f\"Error in loss calculation: {e}\")\n",
    "            print(f\"Output shape: {output.shape}, Label shape: {label_clone.shape}\")\n",
    "            # Continue with visualization even if loss fails\n",
    "            loss = torch.tensor(0.0, device=DEVICE)\n",
    "\n",
    "        # Process each sample in the batch\n",
    "        for i in range(data.size(0)):\n",
    "            # Dice score calculation\n",
    "            try:\n",
    "                dice = multiclass_dice_coeff(output[i], label[i])\n",
    "                print(f\"Sample {i} Dice score: {dice.item():.4f}\")\n",
    "                total_dice += dice.item()\n",
    "                total_samples += 1\n",
    "            except Exception as e:\n",
    "                print(f\"Error calculating Dice score: {e}\")\n",
    "                continue\n",
    "\n",
    "            # File names for saving\n",
    "            original_filename = f\"original_{batch_idx}_{i}.nii\"\n",
    "            pred_filename = f\"pred_{batch_idx}_{i}.nii\"\n",
    "            label_filename = f\"label_{batch_idx}_{i}.nii\"\n",
    "\n",
    "            # Process tensors for visualization\n",
    "            pred = torch.argmax(output[i], dim=0)  # (D, H, W) - class index with highest logit\n",
    "            original = data_clone[i, 0] if data_clone.shape[1] == 1 else torch.argmax(data_clone[i], dim=0)\n",
    "            gt_label = torch.argmax(label[i], dim=0) if label.shape[1] > 1 else label[i]\n",
    "\n",
    "            # Print stats for the first sample\n",
    "            if save == False:\n",
    "                print(\"\\nPrediction statistics:\")\n",
    "                unique_elements, counts = torch.unique(pred, return_counts=True)\n",
    "                print(f\"Classes: {unique_elements}\")\n",
    "                print(f\"Counts: {counts}\")\n",
    "                print(f\"Total voxels: {counts.sum()}\")\n",
    "                \n",
    "                print(\"\\nGround truth statistics:\")\n",
    "                unique_elements, counts = torch.unique(gt_label, return_counts=True)\n",
    "                print(f\"Classes: {unique_elements}\")\n",
    "                print(f\"Counts: {counts}\")\n",
    "                print(f\"Total voxels: {counts.sum()}\")\n",
    "                \n",
    "                print(f\"\\nTensor shapes:\")\n",
    "                print(f\"Original: {original.shape}\")\n",
    "                print(f\"Prediction: {pred.shape}\")\n",
    "                print(f\"Ground truth: {gt_label.shape}\")\n",
    "\n",
    "                # Save as NIfTI \n",
    "                save_as_nifti(original.cpu().numpy().astype(np.int16), original_filename)\n",
    "                save_as_nifti(pred.cpu().numpy().astype(np.int16), pred_filename)\n",
    "                save_as_nifti(gt_label.cpu().numpy().astype(np.int16), label_filename)\n",
    "\n",
    "                save = True\n",
    "                print(f\"Saved visualization files: {original_filename}, {pred_filename}, {label_filename}\")\n",
    "        \n",
    "# Compute average metrics\n",
    "if total_samples > 0:\n",
    "    avg_dice = total_dice / total_samples\n",
    "    avg_loss = total_loss / len(test_loader)\n",
    "\n",
    "    print(f\"\\nTest Results:\")\n",
    "    print(f\"Test Dice Accuracy: {avg_dice:.4f}\")\n",
    "    print(f\"Average Test Loss: {avg_loss:.4f}\")\n",
    "else:\n",
    "    print(\"No valid samples were processed\")"
   ]
  },
  {
   "cell_type": "code",
   "execution_count": 16,
   "metadata": {},
   "outputs": [
    {
     "name": "stdout",
     "output_type": "stream",
     "text": [
      "Dice Score: 1.0\n"
     ]
    }
   ],
   "source": [
    "import torch\n",
    "\n",
    "# 직접 0과 1을 선언한 5x5x5 입력 텐서\n",
    "input_tensor = torch.tensor([\n",
    "    [[0, 1, 0, 1, 0], [1, 0, 1, 0, 1], [0, 1, 0, 1, 0], [1, 0, 1, 0, 1], [0, 1, 0, 1, 0]],\n",
    "    [[1, 1, 0, 0, 1], [0, 1, 1, 0, 0], [1, 0, 1, 1, 1], [0, 0, 1, 0, 1], [1, 1, 0, 1, 0]],\n",
    "    [[0, 0, 1, 1, 0], [1, 0, 0, 1, 1], [0, 1, 1, 0, 0], [1, 1, 0, 1, 0], [0, 0, 1, 1, 1]],\n",
    "    [[1, 0, 1, 0, 1], [0, 1, 0, 1, 0], [1, 1, 0, 1, 1], [0, 1, 1, 0, 0], [1, 0, 0, 1, 1]],\n",
    "    [[0, 1, 1, 0, 0], [1, 0, 1, 1, 0], [0, 0, 1, 0, 1], [1, 1, 0, 1, 0], [0, 1, 1, 0, 1]]\n",
    "], dtype=torch.float32)\n",
    "\n",
    "# 직접 0과 1을 선언한 5x5x5 타겟 텐서\n",
    "target_tensor = torch.tensor([\n",
    "    [[0, 1, 0, 1, 0], [1, 0, 1, 0, 1], [0, 1, 0, 1, 0], [1, 0, 1, 0, 1], [0, 1, 0, 1, 0]],\n",
    "    [[1, 1, 0, 0, 1], [0, 1, 1, 0, 0], [1, 0, 1, 1, 1], [0, 0, 1, 0, 1], [1, 1, 0, 1, 0]],\n",
    "    [[0, 0, 1, 1, 0], [1, 0, 0, 1, 1], [0, 1, 1, 0, 0], [1, 1, 0, 1, 0], [0, 0, 1, 1, 1]],\n",
    "    [[1, 0, 1, 0, 1], [0, 1, 0, 1, 0], [1, 1, 0, 1, 1], [0, 1, 1, 0, 0], [1, 0, 0, 1, 1]],\n",
    "    [[0, 1, 1, 0, 0], [1, 0, 1, 1, 0], [0, 0, 1, 0, 1], [1, 1, 0, 1, 0], [0, 1, 1, 0, 1]]\n",
    "], dtype=torch.float32)\n",
    "\n",
    "# Dice coefficient 함수 정의\n",
    "def multiclass_dice_coeff(input, target, epsilon=1e-6):\n",
    "    intersection = (input * target).sum()\n",
    "    union = input.sum() + target.sum()\n",
    "    dice = (2. * intersection + epsilon) / (union + epsilon)\n",
    "    return dice\n",
    "\n",
    "# Dice Score 계산\n",
    "dice_score = multiclass_dice_coeff(input_tensor, target_tensor)\n",
    "\n",
    "# 결과 출력\n",
    "print(\"Dice Score:\", dice_score.item())\n"
   ]
  },
  {
   "cell_type": "code",
   "execution_count": null,
   "metadata": {},
   "outputs": [],
   "source": []
  },
  {
   "cell_type": "code",
   "execution_count": null,
   "metadata": {},
   "outputs": [],
   "source": []
  },
  {
   "cell_type": "code",
   "execution_count": null,
   "metadata": {},
   "outputs": [],
   "source": []
  }
 ],
 "metadata": {
  "kernelspec": {
   "display_name": "venv",
   "language": "python",
   "name": "python3"
  },
  "language_info": {
   "codemirror_mode": {
    "name": "ipython",
    "version": 3
   },
   "file_extension": ".py",
   "mimetype": "text/x-python",
   "name": "python",
   "nbconvert_exporter": "python",
   "pygments_lexer": "ipython3",
   "version": "3.12.3"
  }
 },
 "nbformat": 4,
 "nbformat_minor": 2
}
